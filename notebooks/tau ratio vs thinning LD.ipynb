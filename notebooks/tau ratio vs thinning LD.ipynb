{
 "cells": [
  {
   "cell_type": "markdown",
   "metadata": {},
   "source": [
    "$$\n",
    "\\newcommand{\\Bin}{\\operatorname{Bin}}\n",
    "\\newcommand{\\Var}{\\operatorname{Var}}\n",
    "\\newcommand{\\Cov}{\\operatorname{Cov}}\n",
    "\\newcommand{\\Cor}{\\operatorname{Cor}}\n",
    "\\newcommand{\\E}{\\operatorname{E}}\n",
    "\\newcommand{\\diag}{\\operatorname{diag}}\n",
    "\\newcommand{\\tr}{\\operatorname{tr}}\n",
    "$$"
   ]
  },
  {
   "cell_type": "markdown",
   "metadata": {},
   "source": [
    "What we know about $\\tau$:\n",
    "$$\n",
    "\\begin{align}\n",
    "\\rho_g & =\n",
    "\\frac{\n",
    " \\tau \\left( \n",
    "  S^{\\left(1\\right)}_{TA}, S^{\\left(2\\right)}_{TA}\n",
    " \\right)\n",
    "} {\n",
    " \\tau \\left(\n",
    "  S^{\\left(1\\right)}_{TT}, S^{\\left(2\\right)}_{TT}\n",
    " \\right)\n",
    "} \\rho_b \\\\\n",
    "\\tau \\left(\n",
    " S^{\\left(1\\right)}, S^{\\left(2\\right)}\n",
    "\\right) & =\n",
    "\\frac{\n",
    " \\tr \\left(\n",
    "  S^{\\left(1\\right)T} S^{\\left(2\\right)}\n",
    " \\right)\n",
    "}{\n",
    " \\sqrt{\n",
    "  \\tr \\left(\n",
    "   S^{\\left(1\\right)T} S^{\\left(1\\right)}\n",
    "  \\right)\n",
    "  \\tr \\left(\n",
    "   S^{\\left(2\\right)T} S^{\\left(2\\right)}\n",
    "  \\right)\n",
    " }\n",
    "} \\\\\n",
    "& =\n",
    "\\frac{\n",
    " \\sum_{i,j}{\n",
    "  S^{\\left(1\\right)}_{ij} S^{\\left(2\\right)}_{ij}\n",
    " }\n",
    "}{\n",
    " \\sqrt{\n",
    "  \\sum_{i,j}{\n",
    "   S^{\\left(1\\right)}_{ij} S^{\\left(1\\right)}_{ij}\n",
    "  }\n",
    "  \\sum_{i,j}{\n",
    "   S^{\\left(2\\right)}_{ij} S^{\\left(2\\right)}_{ij}\n",
    "  }\n",
    " }\n",
    "} \\\\\n",
    "\\end{align}\n",
    "$$"
   ]
  },
  {
   "cell_type": "code",
   "execution_count": 1,
   "metadata": {
    "collapsed": true
   },
   "outputs": [],
   "source": [
    "%run library.ipynb"
   ]
  },
  {
   "cell_type": "code",
   "execution_count": 2,
   "metadata": {
    "collapsed": false
   },
   "outputs": [],
   "source": [
    "pops = ['eas', 'eur']\n",
    "Sigmas = np.array([ fromfile_tril('../common/ld/22.{}.ld.bin'.format(pop)) for pop in pops ])\n",
    "Sigmas_thin50 = np.array([ fromfile_tril('../common/ld/22.{}.thin0_50.ld.bin'.format(pop)) for pop in pops ])\n",
    "Sigmas_thin25 = np.array([ fromfile_tril('../common/ld/22.{}.thin0_25.ld.bin'.format(pop)) for pop in pops ])"
   ]
  },
  {
   "cell_type": "code",
   "execution_count": 3,
   "metadata": {
    "collapsed": false
   },
   "outputs": [],
   "source": [
    "M = Sigmas[0].shape[0]"
   ]
  },
  {
   "cell_type": "code",
   "execution_count": 4,
   "metadata": {
    "collapsed": true
   },
   "outputs": [],
   "source": [
    "Mt = 500\n",
    "typeds = [ nr.choice(M, Mt, replace=False) for i in range(100) ]"
   ]
  },
  {
   "cell_type": "code",
   "execution_count": 5,
   "metadata": {
    "collapsed": true
   },
   "outputs": [],
   "source": [
    "def tau(Ss):\n",
    "    return(\n",
    "        Ss.prod(axis=0).sum() /\n",
    "        np.sqrt((Ss**2).sum(axis=1).sum(axis=1).prod())\n",
    "    )"
   ]
  },
  {
   "cell_type": "code",
   "execution_count": 6,
   "metadata": {
    "collapsed": false
   },
   "outputs": [],
   "source": [
    "ratios = np.array([\n",
    "        tau(Sigmas[:,typed]) / \n",
    "        tau(Sigmas[:,typed[:,None],typed])\n",
    "        for typed in typeds\n",
    "    ])"
   ]
  },
  {
   "cell_type": "code",
   "execution_count": 7,
   "metadata": {
    "collapsed": false
   },
   "outputs": [],
   "source": [
    "ratios_thin50 = np.array([\n",
    "        tau(Sigmas_thin50[:,typed]) / \n",
    "        tau(Sigmas_thin50[:,typed[:,None],typed])\n",
    "        for typed in typeds\n",
    "    ])"
   ]
  },
  {
   "cell_type": "code",
   "execution_count": 8,
   "metadata": {
    "collapsed": false
   },
   "outputs": [],
   "source": [
    "ratios_thin25 = np.array([\n",
    "        tau(Sigmas_thin25[:,typed]) / \n",
    "        tau(Sigmas_thin25[:,typed[:,None],typed])\n",
    "        for typed in typeds\n",
    "    ])"
   ]
  },
  {
   "cell_type": "code",
   "execution_count": 11,
   "metadata": {
    "collapsed": false
   },
   "outputs": [
    {
     "data": {
      "text/plain": [
       "(0.519, 0.510, 0.497)"
      ]
     },
     "execution_count": 11,
     "metadata": {},
     "output_type": "execute_result"
    }
   ],
   "source": [
    "ratios.mean(), ratios_thin50.mean(), ratios_thin25.mean()"
   ]
  },
  {
   "cell_type": "code",
   "execution_count": 12,
   "metadata": {
    "collapsed": false
   },
   "outputs": [
    {
     "data": {
      "text/plain": [
       "(0.009, 0.009, 0.008)"
      ]
     },
     "execution_count": 12,
     "metadata": {},
     "output_type": "execute_result"
    }
   ],
   "source": [
    "ratios.std(), ratios_thin50.std(), ratios_thin25.std()"
   ]
  },
  {
   "cell_type": "code",
   "execution_count": null,
   "metadata": {
    "collapsed": true
   },
   "outputs": [],
   "source": []
  }
 ],
 "metadata": {
  "anaconda-cloud": {},
  "kernelspec": {
   "display_name": "Python [default]",
   "language": "python",
   "name": "python3"
  },
  "language_info": {
   "codemirror_mode": {
    "name": "ipython",
    "version": 3
   },
   "file_extension": ".py",
   "mimetype": "text/x-python",
   "name": "python",
   "nbconvert_exporter": "python",
   "pygments_lexer": "ipython3",
   "version": "3.5.2"
  }
 },
 "nbformat": 4,
 "nbformat_minor": 1
}

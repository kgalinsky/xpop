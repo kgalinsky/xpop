{
 "cells": [
  {
   "cell_type": "code",
   "execution_count": 1,
   "metadata": {
    "collapsed": true
   },
   "outputs": [],
   "source": [
    "import numpy        as np\n",
    "import numpy.random as nr\n",
    "import numpy.linalg as nl\n",
    "import scipy.stats  as ss\n",
    "import scipy.sparse as sp\n",
    "import pandas       as pd"
   ]
  },
  {
   "cell_type": "code",
   "execution_count": 2,
   "metadata": {
    "collapsed": false
   },
   "outputs": [],
   "source": [
    "import matplotlib.pyplot as plt\n",
    "%matplotlib inline"
   ]
  },
  {
   "cell_type": "code",
   "execution_count": 3,
   "metadata": {
    "collapsed": true
   },
   "outputs": [],
   "source": [
    "%precision 3\n",
    "np.set_printoptions(precision=3)"
   ]
  },
  {
   "cell_type": "code",
   "execution_count": 4,
   "metadata": {
    "collapsed": true
   },
   "outputs": [],
   "source": [
    "def equicorrelation_matrix(p, M=2):\n",
    "    \"\"\"Create an equicorrelation matrix\n",
    "    \n",
    "    Arguments:\n",
    "    p -- Off-diagonal correlation (rho)\n",
    "    M -- Size of correlation matrix (M x M)\n",
    "    \n",
    "    Returns:\n",
    "    Sigma -- An M x M equicorrelation matrix\"\"\"\n",
    "\n",
    "    x = np.full((M,M), p)\n",
    "    np.fill_diagonal(x, 1)\n",
    "    return(x)"
   ]
  },
  {
   "cell_type": "code",
   "execution_count": 5,
   "metadata": {
    "collapsed": false
   },
   "outputs": [
    {
     "data": {
      "text/plain": [
       "array([[ 1. ,  0.2,  0.2,  0.2,  0.2],\n",
       "       [ 0.2,  1. ,  0.2,  0.2,  0.2],\n",
       "       [ 0.2,  0.2,  1. ,  0.2,  0.2],\n",
       "       [ 0.2,  0.2,  0.2,  1. ,  0.2],\n",
       "       [ 0.2,  0.2,  0.2,  0.2,  1. ]])"
      ]
     },
     "execution_count": 5,
     "metadata": {},
     "output_type": "execute_result"
    }
   ],
   "source": [
    "equicorrelation_matrix(0.2, 5)"
   ]
  },
  {
   "cell_type": "code",
   "execution_count": 6,
   "metadata": {
    "collapsed": true
   },
   "outputs": [],
   "source": [
    "def banded_matrix(p, K, M):\n",
    "    \"\"\"Create a banded correlation matrix.  \n",
    "    \n",
    "    Arguments:\n",
    "    p -- Correlation between neighboring entries (rho)\n",
    "    K -- number of off-diagonals (fills in from -K to K)\n",
    "    M -- Size of correlation matrix (M x M)\n",
    "    \n",
    "    Returns:\n",
    "    Sigma -- M x M matrix with p^k on each kth off-diagonal.\n",
    "    \"\"\"\n",
    "    k  = np.arange(K)+1\n",
    "    pk = p**k\n",
    "    return(sp.diags(\n",
    "        np.concatenate([[1], pk, pk]),\n",
    "        np.concatenate([[0], k, -k]),\n",
    "        (M,M)\n",
    "    ).toarray())"
   ]
  },
  {
   "cell_type": "code",
   "execution_count": 7,
   "metadata": {
    "collapsed": false
   },
   "outputs": [
    {
     "data": {
      "text/plain": [
       "array([[ 1.   ,  0.45 ,  0.203,  0.   ,  0.   ],\n",
       "       [ 0.45 ,  1.   ,  0.45 ,  0.203,  0.   ],\n",
       "       [ 0.203,  0.45 ,  1.   ,  0.45 ,  0.203],\n",
       "       [ 0.   ,  0.203,  0.45 ,  1.   ,  0.45 ],\n",
       "       [ 0.   ,  0.   ,  0.203,  0.45 ,  1.   ]])"
      ]
     },
     "execution_count": 7,
     "metadata": {},
     "output_type": "execute_result"
    }
   ],
   "source": [
    "banded_matrix(0.45, 2, 5)"
   ]
  },
  {
   "cell_type": "code",
   "execution_count": 8,
   "metadata": {
    "collapsed": true
   },
   "outputs": [],
   "source": [
    "def block_banded_matrix(p, K, M1, M2):\n",
    "    \"\"\"Create a block banded correlation matrix.\n",
    "    \n",
    "    A \"block banded matrix\" is similar to a \"banded matrix\" except\n",
    "    the rows/columns have been rearranged so that there is a\n",
    "    top-left block (corresponding to untyped SNPs) and a bottom-\n",
    "    right block (corresponding to typed SNPs).\n",
    "    \n",
    "    Arguments:\n",
    "    p  -- Correlation between neighboring entries (rho)\n",
    "    K  -- number of off-diagonals (fills in from -K to K)\n",
    "    M1 -- Size of top left block (M1 x M1)\n",
    "    M2 -- Size of bottom right block (M2 x M2)\n",
    "    \n",
    "    Returns:\n",
    "    Sigma -- the block banded matrix\n",
    "    \"\"\"\n",
    "    M = M1 + M2\n",
    "    \n",
    "    Sigma = banded_matrix(p, K, M)\n",
    "    \n",
    "    top_left = np.linspace(0, M, M1, False).astype('uint')\n",
    "    mask = np.zeros(M).astype('bool')\n",
    "    mask[top_left] = True\n",
    "    \n",
    "    Sigma11 = Sigma[ mask][:, mask]\n",
    "    Sigma12 = Sigma[ mask][:,~mask]\n",
    "    Sigma22 = Sigma[~mask][:,~mask]\n",
    "    \n",
    "    return(np.bmat(\n",
    "            [\n",
    "                [Sigma11,   Sigma12],\n",
    "                [Sigma12.T, Sigma22]\n",
    "            ]))"
   ]
  },
  {
   "cell_type": "code",
   "execution_count": 9,
   "metadata": {
    "collapsed": false
   },
   "outputs": [
    {
     "data": {
      "text/plain": [
       "matrix([[ 1.   ,  0.203,  0.45 ,  0.   ,  0.   ],\n",
       "        [ 0.203,  1.   ,  0.45 ,  0.45 ,  0.203],\n",
       "        [ 0.45 ,  0.45 ,  1.   ,  0.203,  0.   ],\n",
       "        [ 0.   ,  0.45 ,  0.203,  1.   ,  0.45 ],\n",
       "        [ 0.   ,  0.203,  0.   ,  0.45 ,  1.   ]])"
      ]
     },
     "execution_count": 9,
     "metadata": {},
     "output_type": "execute_result"
    }
   ],
   "source": [
    "Sigma = block_banded_matrix(0.45, 2, 2, 3)\n",
    "Sigma"
   ]
  },
  {
   "cell_type": "code",
   "execution_count": 10,
   "metadata": {
    "collapsed": true
   },
   "outputs": [],
   "source": [
    "def multivariate_normal_sample(mean, cov, size=None, bias=True, ddof=None):\n",
    "    \"\"\"Draw random samples from a multivariate-normal-like distribution with specified sample mean and covariance.\n",
    "    \n",
    "    This is similar to numpy.random.multivariate_normal, except that the sample\n",
    "    mean and covariance are guaranteed to be what you specify. It functions very\n",
    "    similarly to how you generate a multivariate normal sample normally with one\n",
    "    added step:\n",
    "    \n",
    "    1.  Perform a Cholesky decomposition on the covariance\n",
    "    2.  Simulate N x size random numbers\n",
    "    3.* Center and orthonormalize them\n",
    "    4.  Multiply the random sample by the square root of the covariance\n",
    "    \n",
    "    Arguments:\n",
    "    mean -- mean of the N-dimensional distribution\n",
    "    cov -- covariance\n",
    "    size -- how many samples to generate\n",
    "    bias -- similar to numpy.cov bias\n",
    "    ddof -- similar to numpy.cov ddof\n",
    "    \"\"\"\n",
    "    N = len(mean)\n",
    "\n",
    "    if len(cov.shape) != 2:\n",
    "        raise ValueError('cov must be 2 dimensional')\n",
    "\n",
    "    if cov.shape[0] != cov.shape[1]:\n",
    "        raise ValueError('cov must be square')\n",
    "    \n",
    "    if N != cov.shape[0]:\n",
    "        raise ValueError('mean and cov must have same length')\n",
    "\n",
    "    if ddof is None:\n",
    "        if bias:\n",
    "            ddof = 0\n",
    "        else:\n",
    "            ddof = 1\n",
    "\n",
    "    if size is None:\n",
    "        size = N+1\n",
    "    \n",
    "    if ddof >= size:\n",
    "        raise ValueError('ddof must be less than size')\n",
    "\n",
    "    Sigma12 = nl.cholesky(cov)\n",
    "\n",
    "    Z  = nr.normal(size=(N, size))\n",
    "    Z -= Z.mean(axis=1)[:,None]\n",
    "    Z  = nl.qr(Z.T)[0].T * np.sqrt(size - ddof)\n",
    "\n",
    "    return((Sigma12.dot(Z) + mean[:,None]).T)"
   ]
  },
  {
   "cell_type": "code",
   "execution_count": 11,
   "metadata": {
    "collapsed": false
   },
   "outputs": [
    {
     "data": {
      "text/plain": [
       "matrix([[-1.328,  0.179, -0.379,  1.753,  0.877],\n",
       "        [ 0.766, -0.621, -0.919, -0.107, -1.238],\n",
       "        [ 0.499,  0.123, -0.739, -0.269,  1.611],\n",
       "        [-0.723, -1.809, -0.13 , -1.387, -0.54 ],\n",
       "        [-0.741,  1.187,  0.057, -0.673, -0.884],\n",
       "        [ 1.526,  0.942,  2.109,  0.683,  0.173]])"
      ]
     },
     "execution_count": 11,
     "metadata": {},
     "output_type": "execute_result"
    }
   ],
   "source": [
    "Z = multivariate_normal_sample(np.zeros(5), Sigma)\n",
    "Z"
   ]
  },
  {
   "cell_type": "code",
   "execution_count": 12,
   "metadata": {
    "collapsed": false,
    "scrolled": true
   },
   "outputs": [
    {
     "data": {
      "text/plain": [
       "array([[  1.000e+00,   2.025e-01,   4.500e-01,  -2.961e-16,  -1.943e-16],\n",
       "       [  2.025e-01,   1.000e+00,   4.500e-01,   4.500e-01,   2.025e-01],\n",
       "       [  4.500e-01,   4.500e-01,   1.000e+00,   2.025e-01,  -3.701e-17],\n",
       "       [ -2.961e-16,   4.500e-01,   2.025e-01,   1.000e+00,   4.500e-01],\n",
       "       [ -1.943e-16,   2.025e-01,  -3.701e-17,   4.500e-01,   1.000e+00]])"
      ]
     },
     "execution_count": 12,
     "metadata": {},
     "output_type": "execute_result"
    }
   ],
   "source": [
    "np.cov(Z.T, bias=True)"
   ]
  },
  {
   "cell_type": "code",
   "execution_count": 13,
   "metadata": {
    "collapsed": true
   },
   "outputs": [],
   "source": [
    "def sim_geno(p, Sigma, N, binomial=True):\n",
    "    \"\"\"Simulate genotypes.\n",
    "    \n",
    "    Arguments:\n",
    "    p        -- Vector of allele frequencies\n",
    "    Sigma    -- LD matrix\n",
    "    N        -- Number of samples\n",
    "    binomial -- Generate binomial (True, default) or normal genotypes (False)\n",
    "    \n",
    "    Returns:\n",
    "    G -- Genotype matrix\n",
    "    \"\"\"\n",
    "    if type(p) is list:\n",
    "        p = np.array(p)\n",
    "\n",
    "    if type(Sigma) is list:\n",
    "        Sigma = np.array(Sigma)\n",
    "\n",
    "    if len(Sigma.shape) != 2:\n",
    "        raise ValueError('Sigma must be 2D')\n",
    "    \n",
    "    if Sigma.shape[0] != Sigma.shape[1]:\n",
    "        raise ValueError('Sigma must be square')\n",
    "\n",
    "    if p.shape[0] != Sigma.shape[0]:\n",
    "        raise ValueError('p and Sigma must have same number of rows')\n",
    "    \n",
    "    M = p.shape[0]\n",
    "    \n",
    "    X = multivariate_normal_sample(np.zeros(M), Sigma, N).T\n",
    "\n",
    "    if binomial:\n",
    "        Z = ss.norm().sf(X)\n",
    "        G = np.array([ ss.binom(2, pi).isf(Zi) for pi, Zi in zip(p, Z) ])\n",
    "        return(G)\n",
    "\n",
    "    else:\n",
    "        X = np.array(X)\n",
    "        G = X * np.sqrt(2*p*(1-p))[:, None] + 2*p[:,None]\n",
    "        return(G)"
   ]
  },
  {
   "cell_type": "code",
   "execution_count": 14,
   "metadata": {
    "collapsed": true
   },
   "outputs": [],
   "source": [
    "p = nr.uniform(0.05, 0.95, 5)"
   ]
  },
  {
   "cell_type": "code",
   "execution_count": 15,
   "metadata": {
    "collapsed": false
   },
   "outputs": [
    {
     "data": {
      "text/plain": [
       "array([[ 1.,  1.,  1.,  2.,  0.,  2.,  0.,  2.,  0.,  1.],\n",
       "       [ 0.,  0.,  1.,  1.,  1.,  2.,  1.,  1.,  1.,  2.],\n",
       "       [ 1.,  1.,  1.,  2.,  0.,  2.,  0.,  1.,  0.,  2.],\n",
       "       [ 0.,  0.,  1.,  0.,  1.,  2.,  0.,  0.,  0.,  1.],\n",
       "       [ 2.,  1.,  2.,  1.,  1.,  2.,  2.,  2.,  2.,  2.]])"
      ]
     },
     "execution_count": 15,
     "metadata": {},
     "output_type": "execute_result"
    }
   ],
   "source": [
    "G1 = sim_geno(p, Sigma, 10)\n",
    "G1"
   ]
  },
  {
   "cell_type": "code",
   "execution_count": 16,
   "metadata": {
    "collapsed": false
   },
   "outputs": [
    {
     "data": {
      "text/plain": [
       "array([[ 0.104,  0.258,  2.021,  0.794,  0.254,  1.375,  1.804,  1.983,\n",
       "         0.599,  1.325],\n",
       "       [ 1.307,  0.338,  0.447,  0.983, -0.188,  0.404,  0.899,  1.488,\n",
       "         1.456,  2.396],\n",
       "       [ 0.631, -0.205,  0.563,  0.612,  1.28 ,  1.349,  0.892,  2.53 ,\n",
       "         1.335,  1.652],\n",
       "       [ 0.609,  0.047, -0.49 , -0.07 ,  0.192,  0.843,  1.348, -0.085,\n",
       "         0.738,  1.29 ],\n",
       "       [ 2.058,  2.029,  1.761,  1.239,  1.314,  2.392,  1.859,  1.721,\n",
       "         2.352,  1.871]])"
      ]
     },
     "execution_count": 16,
     "metadata": {},
     "output_type": "execute_result"
    }
   ],
   "source": [
    "G2 = sim_geno(p, Sigma, 10, False)\n",
    "G2"
   ]
  },
  {
   "cell_type": "code",
   "execution_count": 17,
   "metadata": {
    "collapsed": true
   },
   "outputs": [],
   "source": [
    "def he_regression(X, Y):\n",
    "    \"\"\"Perform Haseman-Elston regression.\n",
    "    \n",
    "    Arguments:\n",
    "    X -- Independent variables (M x N)\n",
    "    Y -- Dependent variable (N x 1)\n",
    "    \n",
    "    Returns:\n",
    "    var1 -- Variance from typed SNPs\n",
    "    \"\"\"\n",
    "    Xc = X - X.mean(axis=1)[:,None]\n",
    "    Yc = Y - Y.mean()\n",
    "    \n",
    "    A = Xc.T.dot(Xc) / X.shape[0]\n",
    "    B = Yc[:,None].dot(Yc[None,:])\n",
    "    return(np.triu(A*B,1).sum() / np.triu(A*A,1).sum())"
   ]
  },
  {
   "cell_type": "code",
   "execution_count": 18,
   "metadata": {
    "collapsed": true
   },
   "outputs": [],
   "source": [
    "def he_regression_bivar(X1, X2, Y1, Y2):\n",
    "    \"\"\"Perform bivariate Haseman-Elston regression.\n",
    "    \n",
    "    Arguments:\n",
    "    X1 -- First set of independent variables (M x N1)\n",
    "    X2 -- Second set of independent variables (M x N2)\n",
    "    Y1 -- First set of dependent variables (N1 x 1)\n",
    "    Y2 -- Second set of dependent variables (N2 x 1)\n",
    "    \n",
    "    Returns:\n",
    "    var1 -- Genetic variance for first set of variables\n",
    "    var2 -- Genetic variance for second set of variables\n",
    "    cov12 -- Cross-variable correlation\n",
    "    \"\"\"\n",
    "    if (X1.shape[0] != X2.shape[0]):\n",
    "        raise ValueError(\n",
    "            'M1 ({}) != M2 ({})'.format(X1.shape[0], X2.shape[0])\n",
    "        )\n",
    "\n",
    "    var1 = he_regression(X1, Y1)\n",
    "    var2 = he_regression(X2, Y2)\n",
    "\n",
    "    X1c = X1 - X1.mean(axis=1)[:,None]\n",
    "    X2c = X2 - X2.mean(axis=1)[:,None]\n",
    "    \n",
    "    Y1c = Y1 - Y1.mean()\n",
    "    Y2c = Y2 - Y2.mean()\n",
    "\n",
    "    A = X1c.T.dot(X2c) / X1.shape[0]\n",
    "    B = Y1c[:,None].dot(Y2c[None,:])\n",
    "    \n",
    "    cov12 = (A*B).sum() / (A*A).sum()\n",
    "    \n",
    "    return(var1, var2, cov12 / np.sqrt(var1*var2))"
   ]
  },
  {
   "cell_type": "code",
   "execution_count": 19,
   "metadata": {
    "collapsed": false
   },
   "outputs": [
    {
     "data": {
      "text/plain": [
       "(0.858, 0.796, 0.258)"
      ]
     },
     "execution_count": 19,
     "metadata": {},
     "output_type": "execute_result"
    }
   ],
   "source": [
    "b = multivariate_normal_sample(np.zeros(2), equicorrelation_matrix(0.8), 5).T\n",
    "\n",
    "Y1 = G1.T.dot(b[0])\n",
    "Y2 = G2.T.dot(b[1])\n",
    "\n",
    "he_regression_bivar(G1, G2, Y1, Y2)"
   ]
  },
  {
   "cell_type": "code",
   "execution_count": 20,
   "metadata": {
    "collapsed": true
   },
   "outputs": [],
   "source": [
    "def fromfile_tril(*args, **kwargs):\n",
    "    \"\"\"Read a symmetric matrix stored as just the lower triangular part.\n",
    "\n",
    "    For an MxM matrix, the lower triangular part takes up just N=M*(M+1)/2 bytes\n",
    "    instead of M^2 bytes. Reversing this formula using the quadratic equation,\n",
    "    M=(sqrt(1+8N)-1)/2. This is simply a wrapper around numpy.fromfile.\n",
    "    \"\"\"\n",
    "    X = np.fromfile(*args, **kwargs)\n",
    "\n",
    "    N = len(X)\n",
    "    M = (np.sqrt(1+8*N)-1)/2\n",
    "    if int(M) != M:\n",
    "        raise ValueError('Length of matrix not of form M*(M+1)/2')\n",
    "    M = int(M)\n",
    "\n",
    "    Y = np.empty((M,M), X.dtype)\n",
    "    indices = np.tril_indices(M)\n",
    "\n",
    "    Y[indices] = Y[indices[::-1]] = X\n",
    "\n",
    "    return(Y)"
   ]
  },
  {
   "cell_type": "code",
   "execution_count": 21,
   "metadata": {
    "collapsed": true
   },
   "outputs": [],
   "source": [
    "def tau(Ss, S2s=None):\n",
    "    \"\"\"Tau function which is the core of this work\n",
    "    \n",
    "    Arguments:\n",
    "    Ss  -- ld matrix\n",
    "    S2s -- squared ld matrix (optional)\n",
    "    \n",
    "    Returns:\n",
    "    Tau function of given LD matrix\n",
    "    \"\"\"\n",
    "    \n",
    "    if S2s is None:\n",
    "        S2s = Ss**2\n",
    "\n",
    "    return(\n",
    "        Ss.prod(axis=0).sum() /\n",
    "        np.sqrt(S2s.sum(axis=(1,2)).prod())\n",
    "    )"
   ]
  },
  {
   "cell_type": "code",
   "execution_count": 22,
   "metadata": {
    "collapsed": true
   },
   "outputs": [],
   "source": [
    "def tau_ratio(Ss, typed, S2s=None):\n",
    "    \"\"\"Tau ratio function which wraps around tau\n",
    "    \n",
    "    Arguments:\n",
    "    Ss    -- ld matrix\n",
    "    typed -- indicates which SNPs are typed\n",
    "    S2s   -- squared ld matrix (optional)\n",
    "    \n",
    "    Returns:\n",
    "    Tau ratio function\n",
    "    \"\"\"\n",
    "    if S2s is None:\n",
    "        S2s = Ss**2\n",
    "    \n",
    "    return(\n",
    "        tau(Ss[:,typed], S2s[:,typed]) /\n",
    "        tau(Ss[:,typed[:,None],typed], S2s[:,typed[:,None],typed])\n",
    "    )"
   ]
  },
  {
   "cell_type": "code",
   "execution_count": 23,
   "metadata": {
    "collapsed": true
   },
   "outputs": [],
   "source": [
    "def tau_distance(Ss, dist, S2s=None):\n",
    "    \"\"\"Tau function which is the core of this work\n",
    "    \n",
    "    Arguments:\n",
    "    Ss   -- ld matrix\n",
    "    dist -- distance matrix\n",
    "    S2s  -- squared ld matrix (optional)\n",
    "    \n",
    "    Returns:\n",
    "    Tau function of given LD matrix\n",
    "    \"\"\"\n",
    "\n",
    "    Ss_flat   = Ss.reshape((2,-1))\n",
    "    \n",
    "    if S2s is None:\n",
    "        sq = Ss_flat**2\n",
    "    else:\n",
    "        sq        = S2s.reshape((2,-1))\n",
    "\n",
    "    dist_flat = dist.flatten()\n",
    "\n",
    "    cr = Ss_flat.prod(axis=0)\n",
    "\n",
    "    cr_sum = cr.sum()\n",
    "    sq_sum = sq.sum(axis=1)\n",
    "\n",
    "    i_sort = np.argsort(dist_flat)\n",
    "    \n",
    "    d = -1\n",
    "    taus = list()\n",
    "\n",
    "    for i in i_sort[::-1]:\n",
    "        if (d != dist_flat[i]):\n",
    "            d = dist_flat[i]\n",
    "            taus.append((d, cr_sum / np.sqrt(sq_sum.prod())))\n",
    "\n",
    "        if (d == 0):\n",
    "            break\n",
    "\n",
    "        cr_sum -= cr[i]\n",
    "        sq_sum -= sq[:,i]\n",
    "\n",
    "    return(np.array(taus))"
   ]
  },
  {
   "cell_type": "code",
   "execution_count": 24,
   "metadata": {
    "collapsed": true
   },
   "outputs": [],
   "source": [
    "def tau_ratio_distance(Ss, typed, dist, S2s=None):\n",
    "    if S2s is None:\n",
    "        S2s = Ss**2\n",
    "\n",
    "    tau_STA = tau_distance(Ss[:,typed], dist[typed], S2s[:,typed])\n",
    "    tau_STT = tau_distance(Ss[:,typed[:,None],typed], dist[typed[:,None],typed], S2s[:,typed[:,None],typed])\n",
    "\n",
    "    tau_STA_df = pd.DataFrame(tau_STA[::-1], columns=['dist', 'tau_STA'])\n",
    "    tau_STT_df = pd.DataFrame(tau_STT[::-1], columns=['dist', 'tau_STT'])\n",
    "\n",
    "    tau_df = pd.merge(tau_STA_df, tau_STT_df)\n",
    "\n",
    "    tau_df['ratio'] = tau_df.tau_STA / tau_df.tau_STT\n",
    "    \n",
    "    return(tau_df)"
   ]
  }
 ],
 "metadata": {
  "anaconda-cloud": {},
  "kernelspec": {
   "display_name": "Python [default]",
   "language": "python",
   "name": "python3"
  },
  "language_info": {
   "codemirror_mode": {
    "name": "ipython",
    "version": 3
   },
   "file_extension": ".py",
   "mimetype": "text/x-python",
   "name": "python",
   "nbconvert_exporter": "python",
   "pygments_lexer": "ipython3",
   "version": "3.5.2"
  }
 },
 "nbformat": 4,
 "nbformat_minor": 0
}

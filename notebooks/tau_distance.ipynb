{
 "cells": [
  {
   "cell_type": "code",
   "execution_count": 32,
   "metadata": {
    "collapsed": true
   },
   "outputs": [],
   "source": [
    "import numpy as np\n",
    "import numpy.random as nr\n",
    "import pandas as pd"
   ]
  },
  {
   "cell_type": "code",
   "execution_count": 2,
   "metadata": {
    "collapsed": true
   },
   "outputs": [],
   "source": [
    "class Namespace:\n",
    "    def __init__(self, **kwargs):\n",
    "        self.__dict__.update(kwargs)"
   ]
  },
  {
   "cell_type": "code",
   "execution_count": 31,
   "metadata": {
    "collapsed": false
   },
   "outputs": [],
   "source": [
    "args = Namespace(\n",
    "    hline=0.918,\n",
    "    vline=1e6,\n",
    "    bim='../GERA.1000G/bfile/22.bim',\n",
    "    freq='../GERA.1000G/bfile/22.frq.strat',\n",
    "    pop=['eur', 'eas'],\n",
    "    ld=['../GERA.1000G/ld/22.eur.ld.bin', '../GERA.1000G/ld/22.eas.ld.bin'],\n",
    "    Mt=1000\n",
    ")"
   ]
  },
  {
   "cell_type": "code",
   "execution_count": 17,
   "metadata": {
    "collapsed": true
   },
   "outputs": [],
   "source": [
    "bim = pd.read_table(args.bim, delim_whitespace=True, names=['CHR', 'SNP', 'MORG', 'POS', 'A1', 'A2'])\n",
    "frq = pd.read_table(args.freq, delim_whitespace=True, index_col='CLST')\n",
    "Sigmas = np.array([ np.fromfile(ld) for ld in args.ld ]).T"
   ]
  },
  {
   "cell_type": "code",
   "execution_count": 18,
   "metadata": {
    "collapsed": false
   },
   "outputs": [],
   "source": [
    "M = len(bim)"
   ]
  },
  {
   "cell_type": "code",
   "execution_count": 25,
   "metadata": {
    "collapsed": false
   },
   "outputs": [],
   "source": [
    "if len(frq.loc[args.pop[0]]) != M: raise ValueError('frq 1')\n",
    "if len(frq.loc[args.pop[1]]) != M: raise ValueError('frq 2')\n",
    "if len(Sigmas) != M*(M+1)/2: raise ValueError('Sigma')"
   ]
  },
  {
   "cell_type": "code",
   "execution_count": 29,
   "metadata": {
    "collapsed": false
   },
   "outputs": [],
   "source": [
    "Ns = np.array([ frq.loc[pop].NCHROBS.max() // 2 for pop in args.pop ])"
   ]
  },
  {
   "cell_type": "code",
   "execution_count": 30,
   "metadata": {
    "collapsed": false
   },
   "outputs": [
    {
     "data": {
      "text/plain": [
       "array([44958,  3234], dtype=int64)"
      ]
     },
     "execution_count": 30,
     "metadata": {},
     "output_type": "execute_result"
    }
   ],
   "source": [
    "typed = "
   ]
  },
  {
   "cell_type": "code",
   "execution_count": null,
   "metadata": {
    "collapsed": true
   },
   "outputs": [],
   "source": []
  }
 ],
 "metadata": {
  "anaconda-cloud": {},
  "kernelspec": {
   "display_name": "Python [default]",
   "language": "python",
   "name": "python3"
  },
  "language_info": {
   "codemirror_mode": {
    "name": "ipython",
    "version": 3
   },
   "file_extension": ".py",
   "mimetype": "text/x-python",
   "name": "python",
   "nbconvert_exporter": "python",
   "pygments_lexer": "ipython3",
   "version": "3.5.2"
  }
 },
 "nbformat": 4,
 "nbformat_minor": 1
}

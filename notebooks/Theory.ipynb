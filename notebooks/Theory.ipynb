{
 "cells": [
  {
   "cell_type": "markdown",
   "metadata": {},
   "source": [
    "# Glossary\n",
    "\n",
    "| Effect | Raw | Normalized |\n",
    "|-|-|-|\n",
    "| Causal | $b$ | $\\beta$ |\n",
    "| Marginal | $a$ | $\\alpha$ |\n",
    "| BLUP/BLUE | $g$ | $\\gamma$ |\n",
    "| | | |\n",
    "| **Matrix** | **Raw** | **Normalized** |\n",
    "| Genotype | $G$ / $X$ | $W$ |\n",
    "| LD | $S$ | $\\Sigma$|"
   ]
  },
  {
   "cell_type": "markdown",
   "metadata": {},
   "source": [
    "# Genotype matrix normalizations\n",
    "\n",
    "| Matrix | Definition | Normalization |\n",
    "|-|-|-|\n",
    "| $G$ | Raw data | $G_{i,j} \\in \\left\\{0,1,2\\right\\}$ |\n",
    "| $X$ | Mean centered | $X_{i,j}=G_{i,j}-p_i$ |\n",
    "| $W$ | Normalized | $$\\begin{align} W_{i,j} & = \\frac{G_{i,j}-p_i}{\\sqrt{2p_i\\left(1-p_i\\right)}} \\\\ W & = \\Theta \\times X \\\\ \\Theta & = diag \\left\\{ \\left[ 2p\\left(1-p\\right) \\right]^{-\\frac{1}{2}} \\right\\} \\end{align}$$ |\n",
    "| $S$ | SNP Covariance | $ S = \\lim_{N\\rightarrow\\infty} XX^T/N $ |\n",
    "| $\\Sigma$ | SNP Correlation | $$ \\begin{align} \\Sigma & = \\lim_{N\\rightarrow\\infty} WW^T/N \\\\ & = \\lim_{N\\rightarrow\\infty} \\Theta X X^T \\Theta / N \\\\ & = \\Theta S \\Theta \\\\ \\Theta & \\approx \\left[ diag \\left(S\\right) \\right]^{-\\frac{1}{2}} \\end{align} $$ |\n",
    "\n",
    "\n"
   ]
  },
  {
   "cell_type": "markdown",
   "metadata": {},
   "source": [
    "# Effect size normalizations\n",
    "\n",
    "$$\n",
    "\\begin{align}\n",
    "Y & = W^T \\beta = X^T \\Theta \\beta = X^T b \\\\\n",
    "b & = \\Theta \\beta \\\\\n",
    "Y & = W^T_T \\gamma = X^T \\Theta_T \\gamma = X^T_T g \\\\\n",
    "g & = \\Theta_T \\gamma \\\\\n",
    "Y & = W^T_{i,\\cdot} \\alpha_i = X^T_{i,\\cdot} \\Theta_{i,i} \\alpha_i = X^T_{i,cdot} a_i \\\\\n",
    "a & = \\Theta_T \\alpha\n",
    "\\end{align}\n",
    "$$"
   ]
  },
  {
   "cell_type": "markdown",
   "metadata": {
    "collapsed": true
   },
   "source": [
    "# Relating effect sizes\n",
    "\n",
    "$$\n",
    "\\begin{align}\n",
    "Y & = X^T_Tg \\\\\n",
    "X_TY & = X_TX^T_T g \\\\\n",
    "\\hat{g} & = \\left( X_TX_T^T \\right)^{-1} X_TY \\\\\n",
    " & = \\left( X_TX_T^T \\right)^{-1} X_TX^T b \\\\\n",
    "g & = \\lim_{N\\rightarrow\\infty} \\left( X_TX_T^T \\right)^{-1} X_TX^T b \\\\\n",
    "  & = S_{TT}^{-1} S_{TA} b \\\\\n",
    "Y & = X^T_{i,\\cdot} a_i = X^Tb \\\\\n",
    "a_i & = \\lim_{N\\rightarrow\\infty} \\left( X_{i,\\cdot}X^T_{i,\\cdot} \\right)^{-1} X_{i,\\cdot} X^Tb \\\\\n",
    " & = S_{i,i}^{-1} S_i,\\cdot b \\\\\n",
    "a & = \\Theta^2_T S_{TA} b\n",
    "\\end{align}\n",
    "$$"
   ]
  },
  {
   "cell_type": "markdown",
   "metadata": {},
   "source": [
    "# Distribution\n",
    "\n",
    "$$\n",
    "\\begin{align}\n",
    "b & \\sim N\\left(0,I_M\\right) \\\\\n",
    "g & \\sim N \\left(0, S_{TT}^{-1} S_{TA}S_{AT} S_{TT}^{-1} \\right) \\\\\n",
    "S_{TT} g & \\sim N \\left(0, S_{TA}S_{AT} \\right) \\\\\n",
    "S_{TA}S_{AT} & = \\lim_{N\\rightarrow\\infty} X_T X^T X X_T^T / N^2\n",
    "\\end{align}\n",
    "$$\n",
    "\n",
    "The GRM has popped up here kind of. If $ X^TX = cI $, then:\n",
    "\n",
    "$$\n",
    "\\begin{align}\n",
    "S_{TA}S_{AT} & = \\lim_{N\\rightarrow\\infty} X_T X_T^T c / N^2 \\\\\n",
    " & = \\lim_{N\\rightarrow\\infty} S_{TT} c / N \\\\\n",
    "g & \\sim N \\left(0, S_{TT}^{-1} S_{TT} S_{TT}^{-1} c / N \\right) \\\\\n",
    "  & \\sim N \\left(0, S_{TT}^{-1} c / N \\right) \\\\\n",
    "\\end{align}\n",
    "$$\n",
    "\n",
    "The problem with this is you are dividing by infinity..."
   ]
  },
  {
   "cell_type": "markdown",
   "metadata": {},
   "source": [
    "# Correlation definitions\n",
    "\n",
    "$$\n",
    "\\DeclareMathOperator{\\Cor}{Cor}\n",
    "\\DeclareMathOperator{\\Cov}{Cov}\n",
    "\\DeclareMathOperator{\\Var}{Var}\n",
    "\\begin{align}\n",
    "\\rho_b & = \\Cor\\left(b_1i, b_2i\\right) \\\\\n",
    "(b_1, b_2) & \\sim N \\left( (0,0), \\begin{bmatrix} 1 & \\rho \\\\ \\rho & 1 \\end{bmatrix} \\otimes I_M \n",
    "\\right) \\\\\n",
    "E\\left(b_1b_2^T\\right) & = \\rho I \\\\\n",
    "E\\left(b_1^Tb_2\\right) & = M\\rho \\\\\n",
    "\\rho_g & = \\Cor\\left(g_1i, g_2i\\right) \\\\\n",
    "\\rho_g & = \\frac{ E\\left[g_1^T g_2\\right] }{ \\sqrt{ E\\left[ g_1^Tg_1 \\right] E\\left[ g_2^Tg_2 \\right] } } \\\\\n",
    "\\end{align}\n",
    "$$"
   ]
  },
  {
   "cell_type": "markdown",
   "metadata": {},
   "source": [
    "# Relating correlations\n",
    "$$\n",
    "\\DeclareMathOperator{\\Tr}{Tr}\n",
    "\\begin{align}\n",
    "E\\left[\\left(S^{(1)}_{TT}g_1\\right)^T\\left(S^{(2)}_{TT}g_2\\right)\\right] &\n",
    " = E\\left[\\left(S^{(1)}_{TA}b_1\\right)^T\\left(S^{(2)}_{TA}b_2\\right)\\right] \\\\ \n",
    " & = E\\left[ b_1^T S^{(1)}_{AT} S^{(2)}_{TA}b_2 \\right] \\\\\n",
    " & = E\\left[ \\Tr\\left( b_1^T S^{(1)}_{AT} S^{(2)}_{TA}b_2 \\right) \\right] \\\\\n",
    " & = E\\left[ \\Tr\\left( b_2 b_1^T S^{(1)}_{AT} S^{(2)}_{TA} \\right) \\right] \\\\\n",
    " & = \\Tr\\left[ E \\left( b_2 b_1^T S^{(1)}_{AT} S^{(2)}_{TA} \\right) \\right] \\\\\n",
    " & = \\Tr\\left[ \\rho S^{(1)}_{AT} S^{(2)}_{TA} \\right] \\\\\n",
    " & = \\rho\\Tr\\left[ S^{(1)}_{AT} S^{(2)}_{TA} \\right]\n",
    "\\end{align}\n",
    "$$\n",
    "\n",
    "If $g \\sim N(0,cI)$ (as may be during REML), then $ \\rho_g c \\Tr\\left[ S^{(1)}_{TT} S^{(2)}_{TT} \\right] = \\rho_b \\Tr\\left[ S^{(1)}_{AT} S^{(2)}_{TA} \\right] $."
   ]
  },
  {
   "cell_type": "markdown",
   "metadata": {
    "collapsed": true
   },
   "source": [
    "$$\n",
    "\\begin{align}\n",
    "\\hat{\\rho}_b & = b_1^Tb_2/M \\\\\n",
    "E\\left[a_1^Ta_2\\right] & = E\\left[\\left[ \\theta^2_{T1} S{TA1} b_1 \\right]^T \\left[ \\theta^2_{T2} S{TA2} b_2 \\right]\\right] \\\\\n",
    " & = E\\left[b_1^T S_{AT1} \\theta^2_{T1} \\theta^2_{T2} S_{TA2} b_2\\right] \\\\\n",
    " & = \\rho_b \\Tr \\left[ S_{AT1} \\theta^2_{T1} \\theta^2_{T2} S_{TA2} \\right]\n",
    "\\end{align}\n",
    "$$"
   ]
  },
  {
   "cell_type": "code",
   "execution_count": null,
   "metadata": {
    "collapsed": true
   },
   "outputs": [],
   "source": []
  }
 ],
 "metadata": {
  "kernelspec": {
   "display_name": "Python 2",
   "language": "python",
   "name": "python2"
  },
  "language_info": {
   "codemirror_mode": {
    "name": "ipython",
    "version": 2
   },
   "file_extension": ".py",
   "mimetype": "text/x-python",
   "name": "python",
   "nbconvert_exporter": "python",
   "pygments_lexer": "ipython2",
   "version": "2.7.11"
  }
 },
 "nbformat": 4,
 "nbformat_minor": 0
}

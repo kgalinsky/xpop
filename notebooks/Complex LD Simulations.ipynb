{
 "cells": [
  {
   "cell_type": "markdown",
   "metadata": {},
   "source": [
    "# Banded LD matrix\n",
    "\n",
    "$$\n",
    "\\begin{align}\n",
    "\\Sigma & =\n",
    "\\left(\n",
    "  \\begin{array}{cccccccc}\n",
    "    1 & \\sigma & \\sigma^2 & \\dots & \\sigma^K & 0 & \\dots & 0 \\\\\n",
    "    \\sigma & 1 & \\sigma & \\dots & \\sigma^{K-1} & \\sigma^K & \\dots & 0 \\\\\n",
    "    \\vdots & \\vdots & \\vdots & \\ddots & \\vdots & \\vdots & \\ddots & \\vdots \\\\\n",
    "    0 & 0 & 0 & \\dots & 0 & 0 & \\dots & 1\n",
    "  \\end{array}\n",
    "\\right) \\\\\n",
    "\\Sigma_{i,j} & =\n",
    "\\begin{cases}\n",
    "\\sigma^{\\left| i-j \\right|} & \\left| i-j \\right| \\le K \\\\\n",
    "0 & \\left| i-j \\right| > K\n",
    "\\end{cases}\n",
    "\\end{align}\n",
    "$$"
   ]
  },
  {
   "cell_type": "code",
   "execution_count": 3,
   "metadata": {
    "collapsed": true
   },
   "outputs": [],
   "source": [
    "import numpy as np\n",
    "import numpy.random as nr"
   ]
  },
  {
   "cell_type": "code",
   "execution_count": 32,
   "metadata": {
    "collapsed": true
   },
   "outputs": [],
   "source": [
    "M = 100\n",
    "N = 100000\n",
    "\n",
    "K = 10\n",
    "sigmas = [0.2, 0.3]"
   ]
  },
  {
   "cell_type": "code",
   "execution_count": 33,
   "metadata": {
    "collapsed": false
   },
   "outputs": [],
   "source": [
    "def generate_banded_sigma(sigma, M, K):\n",
    "    Sigma = np.diag([1.]*M)\n",
    "    s = 1\n",
    "    for k in range(1,K+1):\n",
    "        s *= sigma\n",
    "        np.fill_diagonal(Sigma[k:,:], s)\n",
    "        np.fill_diagonal(Sigma[:,k:], s)\n",
    "    return(Sigma)"
   ]
  },
  {
   "cell_type": "code",
   "execution_count": 35,
   "metadata": {
    "collapsed": true
   },
   "outputs": [],
   "source": [
    "Banded = np.array([ generate_banded_sigma(s, M, K) for s in sigmas ])"
   ]
  },
  {
   "cell_type": "markdown",
   "metadata": {},
   "source": [
    "# Causal effect sizes"
   ]
  },
  {
   "cell_type": "code",
   "execution_count": 24,
   "metadata": {
    "collapsed": true
   },
   "outputs": [],
   "source": [
    "rho_b = 0.8\n",
    "Mc = 10"
   ]
  },
  {
   "cell_type": "code",
   "execution_count": 57,
   "metadata": {
    "collapsed": false,
    "scrolled": true
   },
   "outputs": [],
   "source": [
    "B = nr.multivariate_normal([0,0], [[1,rho_b],[rho_b,1]], Mc).T"
   ]
  },
  {
   "cell_type": "code",
   "execution_count": 42,
   "metadata": {
    "collapsed": false
   },
   "outputs": [],
   "source": [
    "Ic = nr.choice(M, Mc, False)"
   ]
  },
  {
   "cell_type": "code",
   "execution_count": 43,
   "metadata": {
    "collapsed": false
   },
   "outputs": [],
   "source": [
    "Mask_c = np.zeros(M, dtype=bool)\n",
    "Mask_c[Ic] = True\n",
    "Mask_n = ~ Mask_c"
   ]
  },
  {
   "cell_type": "markdown",
   "metadata": {},
   "source": [
    "# True $\\rho \\left( g_1, g_2 \\right)$"
   ]
  },
  {
   "cell_type": "code",
   "execution_count": 64,
   "metadata": {
    "collapsed": true
   },
   "outputs": [],
   "source": [
    "G = [np.linalg.inv(S[Mask_n][:,Mask_n]).dot(S[Mask_n][:,Mask_c].dot(b)) for b, S in zip(B, Sigma)]"
   ]
  },
  {
   "cell_type": "code",
   "execution_count": 101,
   "metadata": {
    "collapsed": false
   },
   "outputs": [
    {
     "data": {
      "text/plain": [
       "array([[ 1.        ,  0.91848509],\n",
       "       [ 0.91848509,  1.        ]])"
      ]
     },
     "execution_count": 101,
     "metadata": {},
     "output_type": "execute_result"
    }
   ],
   "source": [
    "np.corrcoef(G)"
   ]
  },
  {
   "cell_type": "markdown",
   "metadata": {},
   "source": [
    "# Genotypes"
   ]
  },
  {
   "cell_type": "code",
   "execution_count": 103,
   "metadata": {
    "collapsed": false
   },
   "outputs": [],
   "source": [
    "X = [ nr.multivariate_normal([0]*M, S, N) for S in Sigma ]"
   ]
  },
  {
   "cell_type": "code",
   "execution_count": 104,
   "metadata": {
    "collapsed": true
   },
   "outputs": [],
   "source": [
    "Y = [x[:,Mask_c].dot(b) for b, x in zip(B, X)]"
   ]
  },
  {
   "cell_type": "code",
   "execution_count": 105,
   "metadata": {
    "collapsed": true
   },
   "outputs": [],
   "source": [
    "Ghat = [np.linalg.inv(x[:,Mask_n].T.dot(x[:,Mask_n])).dot(x[:,Mask_n].T.dot(y)) for x, y in zip(X, Y)]"
   ]
  },
  {
   "cell_type": "code",
   "execution_count": 106,
   "metadata": {
    "collapsed": false,
    "scrolled": false
   },
   "outputs": [
    {
     "data": {
      "text/plain": [
       "array([[ 1.        ,  0.89806259],\n",
       "       [ 0.89806259,  1.        ]])"
      ]
     },
     "execution_count": 106,
     "metadata": {},
     "output_type": "execute_result"
    }
   ],
   "source": [
    "np.corrcoef(Ghat)"
   ]
  },
  {
   "cell_type": "code",
   "execution_count": 7,
   "metadata": {
    "collapsed": true
   },
   "outputs": [],
   "source": [
    "def simple_lm(X, Y):\n",
    "    XY = X.T.dot(Y)\n",
    "    XX = X.T.dot(X)\n",
    "    XX1 = np.linalg.inv(XX)\n",
    "    return(XX1.dot(XY))"
   ]
  },
  {
   "cell_type": "code",
   "execution_count": 8,
   "metadata": {
    "collapsed": true
   },
   "outputs": [],
   "source": [
    "def simulate_rho_g_hat(Sigmas, rho_b=1, Mc=10, N=10000, ):\n",
    "    M  = Sigmas[0].shape[0]\n",
    "\n",
    "    bs = nr.multivariate_normal([0,0], [[1,rho_b],[rho_b,1]], Mc).T\n",
    "\n",
    "    Ic  = nr.choice(M, Mc, False)\n",
    "\n",
    "    Mask_c = np.zeros(M, dtype=bool)\n",
    "    Mask_c[Ic] = True\n",
    "    Mask_n = ~ Mask_c\n",
    "    \n",
    "    gs = [ np.linalg.inv(S[Mask_n][:,Mask_n]).dot(S[Mask_n][:,Mask_c].dot(b)) for b, S in zip(bs, Sigmas) ]\n",
    "    rho_g = np.corrcoef(gs)[0,1]\n",
    "    \n",
    "    Xs = [ nr.multivariate_normal([0]*M, S, N) for S in Sigmas ]\n",
    "    Ys = [ X[:,Mask_c].dot(b) for b, X in zip(bs, Xs) ]\n",
    "\n",
    "    g_hats = [ simple_lm(X[:,Mask_n], Y) for X, Y in zip(Xs, Ys)]\n",
    "    rho_g_hat = np.corrcoef(g_hats)[0,1]\n",
    "    \n",
    "    return(rho_g, rho_g_hat)"
   ]
  },
  {
   "cell_type": "markdown",
   "metadata": {},
   "source": [
    "# Real LD matrix"
   ]
  },
  {
   "cell_type": "code",
   "execution_count": 1,
   "metadata": {
    "collapsed": true
   },
   "outputs": [],
   "source": [
    "files = [ '../phase2/ld/eas.eur.22.0.ld.bin', '../phase2/ld/eas.eur.22.1.ld.bin' ]"
   ]
  },
  {
   "cell_type": "code",
   "execution_count": 4,
   "metadata": {
    "collapsed": false
   },
   "outputs": [],
   "source": [
    "Sigmas = [ np.fromfile(f, 'double', -1, '') for f in files ]"
   ]
  },
  {
   "cell_type": "code",
   "execution_count": 5,
   "metadata": {
    "collapsed": false
   },
   "outputs": [],
   "source": [
    "M = int(np.sqrt(Sigmas[0].shape[0]))"
   ]
  },
  {
   "cell_type": "code",
   "execution_count": 6,
   "metadata": {
    "collapsed": true
   },
   "outputs": [],
   "source": [
    "rho_b = 0.8\n",
    "Mc = 30"
   ]
  },
  {
   "cell_type": "code",
   "execution_count": 7,
   "metadata": {
    "collapsed": false
   },
   "outputs": [],
   "source": [
    "Sigmas = np.array([ S.reshape((M,M)) for S in Sigmas ])"
   ]
  },
  {
   "cell_type": "code",
   "execution_count": 8,
   "metadata": {
    "collapsed": false
   },
   "outputs": [],
   "source": [
    "l = 1\n",
    "lI = np.diag(l*np.ones(M))\n",
    "Sigmasx = Sigmas + np.array([lI, lI])"
   ]
  },
  {
   "cell_type": "code",
   "execution_count": 9,
   "metadata": {
    "collapsed": false
   },
   "outputs": [],
   "source": [
    "X = np.array([nr.multivariate_normal(np.zeros(M), S, 100) for S in Sigmasx])"
   ]
  },
  {
   "cell_type": "code",
   "execution_count": 10,
   "metadata": {
    "collapsed": true
   },
   "outputs": [],
   "source": [
    "Ic  = nr.choice(M, Mc, False)"
   ]
  },
  {
   "cell_type": "code",
   "execution_count": 11,
   "metadata": {
    "collapsed": true
   },
   "outputs": [],
   "source": [
    "Mask_c = np.zeros(M, dtype=bool)\n",
    "Mask_c[Ic] = True\n",
    "Mask_n = ~ Mask_c"
   ]
  },
  {
   "cell_type": "code",
   "execution_count": 12,
   "metadata": {
    "collapsed": false
   },
   "outputs": [],
   "source": [
    "G = np.corrcoef(X[0][:,Mask_n], X[1][:,Mask_n])"
   ]
  },
  {
   "cell_type": "code",
   "execution_count": 13,
   "metadata": {
    "collapsed": false
   },
   "outputs": [],
   "source": [
    "bs = nr.multivariate_normal([0,0], [[1,rho_b],[rho_b,1]], Mc).T"
   ]
  },
  {
   "cell_type": "code",
   "execution_count": 14,
   "metadata": {
    "collapsed": true
   },
   "outputs": [],
   "source": [
    "gs = [ np.linalg.inv(S[Mask_n][:,Mask_n]).dot(S[Mask_n][:,Mask_c].dot(b)) for b, S in zip(bs, Sigmasx) ]\n",
    "rho_g = np.corrcoef(gs)[0,1]"
   ]
  },
  {
   "cell_type": "code",
   "execution_count": 15,
   "metadata": {
    "collapsed": false
   },
   "outputs": [
    {
     "data": {
      "text/plain": [
       "0.41632392984035699"
      ]
     },
     "execution_count": 15,
     "metadata": {},
     "output_type": "execute_result"
    }
   ],
   "source": [
    "rho_g"
   ]
  },
  {
   "cell_type": "code",
   "execution_count": 25,
   "metadata": {
    "collapsed": false
   },
   "outputs": [],
   "source": [
    "trace1 = np.trace(Sigmasx[0,Mask_n,:].dot(Sigmasx[1,Mask_n,:].T))"
   ]
  },
  {
   "cell_type": "code",
   "execution_count": 27,
   "metadata": {
    "collapsed": false
   },
   "outputs": [
    {
     "data": {
      "text/plain": [
       "13639.152069930289"
      ]
     },
     "execution_count": 27,
     "metadata": {},
     "output_type": "execute_result"
    }
   ],
   "source": [
    "trace1"
   ]
  },
  {
   "cell_type": "code",
   "execution_count": 95,
   "metadata": {
    "collapsed": false
   },
   "outputs": [],
   "source": [
    "Y = np.array([ x[:,Mask_c].dot(b) for b, x in zip(bs, X) ])"
   ]
  },
  {
   "cell_type": "code",
   "execution_count": 99,
   "metadata": {
    "collapsed": false
   },
   "outputs": [],
   "source": [
    "Y = Y.reshape((2,-1,1))"
   ]
  },
  {
   "cell_type": "code",
   "execution_count": 100,
   "metadata": {
    "collapsed": false
   },
   "outputs": [],
   "source": [
    "Y11 = Y[0].dot(Y[0].T)\n",
    "Y12 = Y[0].dot(Y[1].T)\n",
    "Y22 = Y[1].dot(Y[1].T)"
   ]
  },
  {
   "cell_type": "code",
   "execution_count": 107,
   "metadata": {
    "collapsed": false
   },
   "outputs": [],
   "source": [
    "G11 = G[:100][:,:100]\n",
    "G12 = G[:100][:,100:]\n",
    "G22 = G[100:][:,100:]"
   ]
  },
  {
   "cell_type": "code",
   "execution_count": 108,
   "metadata": {
    "collapsed": false
   },
   "outputs": [],
   "source": [
    "h1  = np.multiply( np.triu(G11,1), np.triu(Y11,1) ).sum() / np.triu(G11**2,1).sum()\n",
    "h2  = np.multiply( np.triu(G22,1), np.triu(Y22,1) ).sum() / np.triu(G22**2,1).sum()\n",
    "h12 = np.multiply( G12, Y12 ).sum() / G12.sum()"
   ]
  },
  {
   "cell_type": "code",
   "execution_count": 109,
   "metadata": {
    "collapsed": false
   },
   "outputs": [
    {
     "data": {
      "text/plain": [
       "8.7272575327769175"
      ]
     },
     "execution_count": 109,
     "metadata": {},
     "output_type": "execute_result"
    }
   ],
   "source": [
    "h12 / np.sqrt( h1 * h2 )"
   ]
  },
  {
   "cell_type": "markdown",
   "metadata": {},
   "source": [
    "# REML"
   ]
  },
  {
   "cell_type": "code",
   "execution_count": null,
   "metadata": {
    "collapsed": true
   },
   "outputs": [],
   "source": [
    "s"
   ]
  }
 ],
 "metadata": {
  "kernelspec": {
   "display_name": "Python 3",
   "language": "python",
   "name": "python3"
  },
  "language_info": {
   "codemirror_mode": {
    "name": "ipython",
    "version": 3
   },
   "file_extension": ".py",
   "mimetype": "text/x-python",
   "name": "python",
   "nbconvert_exporter": "python",
   "pygments_lexer": "ipython3",
   "version": "3.4.4"
  }
 },
 "nbformat": 4,
 "nbformat_minor": 0
}

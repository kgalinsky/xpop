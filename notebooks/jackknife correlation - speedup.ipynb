{
 "cells": [
  {
   "cell_type": "code",
   "execution_count": 1,
   "metadata": {
    "collapsed": true
   },
   "outputs": [],
   "source": [
    "%run library.ipynb"
   ]
  },
  {
   "cell_type": "code",
   "execution_count": 75,
   "metadata": {
    "collapsed": false
   },
   "outputs": [],
   "source": [
    "G = nr.binomial(2,0.5,(1000,300)).astype('float')"
   ]
  },
  {
   "cell_type": "code",
   "execution_count": 3,
   "metadata": {
    "collapsed": true
   },
   "outputs": [],
   "source": [
    "def cor_jackknife(X):\n",
    "    X2  = X**2\n",
    "    X12 = X.prod(axis=1)\n",
    "\n",
    "    Xsum   = X.sum(axis=0)\n",
    "    X2sum  = X2.sum(axis=0)\n",
    "    X12sum = X12.sum()\n",
    "    \n",
    "    Xisum   = Xsum[None, :] - X\n",
    "    X2isum  = X2sum[None, :] - X2\n",
    "    X12isum = X12sum - X12\n",
    "    \n",
    "    N = len(X12)\n",
    "    \n",
    "    r = (N*X12sum - Xsum.prod()) / np.sqrt((N*X2sum - Xsum**2).prod())\n",
    "    ris = ((N-1)*X12isum - Xisum.prod(axis=1)) / np.sqrt(((N-1)*X2isum - Xisum**2).prod(axis=1))\n",
    "    rimean = ris.mean()\n",
    "    ri2mean = (ris**2).mean()\n",
    "    \n",
    "    return(r, r**2, rimean, ri2mean, N*r - (N-1)*rimean, N*(r**2) - (N-1)*ri2mean)"
   ]
  },
  {
   "cell_type": "code",
   "execution_count": 9,
   "metadata": {
    "collapsed": true
   },
   "outputs": [],
   "source": [
    "def cor_jackknife2(A, B):\n",
    "    A2 = A**2\n",
    "    B2 = B**2\n",
    "    AB = A * B[:,None]\n",
    "\n",
    "    Asum = A.sum(axis=0)\n",
    "    Bsum = B.sum()\n",
    "\n",
    "    A2sum = A2.sum(axis=0)\n",
    "    B2sum = B2.sum()\n",
    "\n",
    "    ABsum = AB.sum(axis=0)\n",
    "\n",
    "    Aisum   = Asum[None, :] - A\n",
    "    Bisum   = Bsum - B\n",
    "\n",
    "    A2isum  = A2sum[None, :] - A2\n",
    "    B2isum  = B2sum - B2\n",
    "\n",
    "    ABisum = ABsum[None, :] - AB\n",
    "\n",
    "    N = len(B)\n",
    "\n",
    "    r = (N*ABsum - Asum * Bsum) / np.sqrt((N*A2sum - Asum**2) * (N*B2sum - Bsum**2))\n",
    "    ris = ((N-1)*ABisum - Aisum*Bisum[:,None]) / np.sqrt(((N-1)*A2isum - Aisum**2) * ((N-1)*B2isum - Bisum**2)[:,None])\n",
    "    rimean = ris.mean(axis=0)\n",
    "    ri2mean = (ris**2).mean(axis=0)\n",
    "\n",
    "    return(r, r**2, rimean, ri2mean, N*r - (N-1)*rimean, N*(r**2) - (N-1)*ri2mean)"
   ]
  },
  {
   "cell_type": "code",
   "execution_count": 94,
   "metadata": {
    "collapsed": true
   },
   "outputs": [],
   "source": [
    "M = G.shape[1]\n",
    "N = int(M*(M+1)/2)"
   ]
  },
  {
   "cell_type": "code",
   "execution_count": 96,
   "metadata": {
    "collapsed": false
   },
   "outputs": [],
   "source": [
    "#%%timeit\n",
    "\n",
    "qs = np.ones(N)\n",
    "q2s = np.ones(N)\n",
    "\n",
    "k = 0\n",
    "for i in range(M):\n",
    "    a, b, c, d, r, r2 = cor_jackknife2(G[:,:i], G[:,i])\n",
    "\n",
    "    qs[k:(k+i)] = r\n",
    "    q2s[k:(k+i)] = r2\n",
    "\n",
    "    k += i + 1"
   ]
  },
  {
   "cell_type": "code",
   "execution_count": 98,
   "metadata": {
    "collapsed": false
   },
   "outputs": [],
   "source": [
    "#%%timeit\n",
    "\n",
    "rs = np.ones(N)\n",
    "r2s = np.ones(N)\n",
    "\n",
    "k = 0\n",
    "for i in range(M):\n",
    "    for j in range(i):\n",
    "        a, b, c, d, r, r2 = cor_jackknife(G[:,(i,j)])\n",
    "        rs[k] = r\n",
    "        r2s[k] = r2\n",
    "        k += 1\n",
    "    k += 1"
   ]
  },
  {
   "cell_type": "code",
   "execution_count": 103,
   "metadata": {
    "collapsed": false
   },
   "outputs": [
    {
     "data": {
      "text/plain": [
       "True"
      ]
     },
     "execution_count": 103,
     "metadata": {},
     "output_type": "execute_result"
    }
   ],
   "source": [
    "np.allclose(qs, rs)"
   ]
  },
  {
   "cell_type": "code",
   "execution_count": 104,
   "metadata": {
    "collapsed": false
   },
   "outputs": [
    {
     "data": {
      "text/plain": [
       "True"
      ]
     },
     "execution_count": 104,
     "metadata": {},
     "output_type": "execute_result"
    }
   ],
   "source": [
    "np.allclose(q2s, r2s)"
   ]
  }
 ],
 "metadata": {
  "anaconda-cloud": {},
  "kernelspec": {
   "display_name": "Python [default]",
   "language": "python",
   "name": "python3"
  },
  "language_info": {
   "codemirror_mode": {
    "name": "ipython",
    "version": 3
   },
   "file_extension": ".py",
   "mimetype": "text/x-python",
   "name": "python",
   "nbconvert_exporter": "python",
   "pygments_lexer": "ipython3",
   "version": "3.5.2"
  }
 },
 "nbformat": 4,
 "nbformat_minor": 1
}

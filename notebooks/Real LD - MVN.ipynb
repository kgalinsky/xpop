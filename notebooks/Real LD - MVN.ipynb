{
 "cells": [
  {
   "cell_type": "code",
   "execution_count": 1,
   "metadata": {
    "collapsed": true
   },
   "outputs": [],
   "source": [
    "import numpy as np"
   ]
  },
  {
   "cell_type": "code",
   "execution_count": 116,
   "metadata": {
    "collapsed": false
   },
   "outputs": [],
   "source": [
    "def read_frq(filename, **kwargs):\n",
    "    return(pd.read_table(filename, index_col=1, names=['chrom','id','ref','alt','maf','n'], **kwargs))"
   ]
  },
  {
   "cell_type": "code",
   "execution_count": null,
   "metadata": {
    "collapsed": true
   },
   "outputs": [],
   "source": [
    "def read_lds(pops, chrom, maf=0.01):\n",
    "    return((lds, overlap))"
   ]
  },
  {
   "cell_type": "code",
   "execution_count": 106,
   "metadata": {
    "collapsed": true
   },
   "outputs": [],
   "source": [
    "maf = 0.01"
   ]
  },
  {
   "cell_type": "code",
   "execution_count": 107,
   "metadata": {
    "collapsed": true
   },
   "outputs": [],
   "source": [
    "pops = ['eas', 'eur']"
   ]
  },
  {
   "cell_type": "code",
   "execution_count": 108,
   "metadata": {
    "collapsed": true
   },
   "outputs": [],
   "source": [
    "chrom = 22"
   ]
  },
  {
   "cell_type": "code",
   "execution_count": 117,
   "metadata": {
    "collapsed": false
   },
   "outputs": [],
   "source": [
    "frqs = [read_frq('../phase2/freq/{}.{}.frq'.format(pop, chrom)).query('maf > {}'.format(maf)) for pop in pops]"
   ]
  },
  {
   "cell_type": "code",
   "execution_count": 127,
   "metadata": {
    "collapsed": false,
    "scrolled": true
   },
   "outputs": [],
   "source": [
    "overlap = frqs[0].index.intersection(frqs[1].index)"
   ]
  },
  {
   "cell_type": "code",
   "execution_count": 130,
   "metadata": {
    "collapsed": false
   },
   "outputs": [],
   "source": [
    "masks = [np.array([True if i in overlap else False for i in frq.index]) for frq in frqs]"
   ]
  },
  {
   "cell_type": "code",
   "execution_count": 134,
   "metadata": {
    "collapsed": false
   },
   "outputs": [],
   "source": [
    "frq = frqs[0]"
   ]
  },
  {
   "cell_type": "code",
   "execution_count": 151,
   "metadata": {
    "collapsed": false
   },
   "outputs": [],
   "source": [
    "lds = [np.fromfile('../phase2/ld/eas.22.0_01.ld.bin'.format(pop, chrom), 'double') for pop in pops]"
   ]
  },
  {
   "cell_type": "code",
   "execution_count": 154,
   "metadata": {
    "collapsed": false
   },
   "outputs": [
    {
     "data": {
      "text/plain": [
       "array([ 6137.])"
      ]
     },
     "execution_count": 154,
     "metadata": {},
     "output_type": "execute_result"
    }
   ],
   "source": [
    "np.sqrt(lds[0].shape)"
   ]
  },
  {
   "cell_type": "code",
   "execution_count": 157,
   "metadata": {
    "collapsed": true
   },
   "outputs": [],
   "source": [
    "def read_ld(pop, chrom, frq, overlap):\n",
    "    m    = frq.index.size\n",
    "    ld   = np.fromfile('../phase2/ld/{}.{}.0_01.ld.bin'.format(pop, chrom), 'double').reshape(m,-1)\n",
    "    mask = np.array([True if s in overlap else False for s in frq.index])\n",
    "    return(ld[mask][:,mask])"
   ]
  },
  {
   "cell_type": "code",
   "execution_count": 158,
   "metadata": {
    "collapsed": false
   },
   "outputs": [],
   "source": [
    "lds = [read_ld(pop, 22, frq, overlap) for pop, frq in zip(pops, frqs)]"
   ]
  },
  {
   "cell_type": "code",
   "execution_count": 159,
   "metadata": {
    "collapsed": false,
    "scrolled": false
   },
   "outputs": [
    {
     "data": {
      "text/plain": [
       "[(3534, 3534), (3534, 3534)]"
      ]
     },
     "execution_count": 159,
     "metadata": {},
     "output_type": "execute_result"
    }
   ],
   "source": [
    "[ld.shape for ld in lds]"
   ]
  },
  {
   "cell_type": "code",
   "execution_count": 164,
   "metadata": {
    "collapsed": false
   },
   "outputs": [],
   "source": [
    "e = np.linalg.eigh(B)"
   ]
  },
  {
   "cell_type": "code",
   "execution_count": 178,
   "metadata": {
    "collapsed": false
   },
   "outputs": [],
   "source": [
    "B_12 = e[1].dot(np.diag(e[0]**(-.5))).dot(e[1].T)"
   ]
  },
  {
   "cell_type": "code",
   "execution_count": 180,
   "metadata": {
    "collapsed": false
   },
   "outputs": [
    {
     "data": {
      "text/plain": [
       "(array([ -2.50270147e+00,  -2.31332311e+00,  -1.41813180e+00, ...,\n",
       "          8.36264824e+02,   8.75479420e+02,   2.07711346e+03]),\n",
       " array([[  7.96968269e-03,  -3.73894279e-04,   6.83946700e-03, ...,\n",
       "          -5.48159326e-04,   1.69115774e-03,  -3.23526479e-03],\n",
       "        [  1.45276025e-03,   2.80828566e-03,   1.06418380e-02, ...,\n",
       "           3.13088544e-04,  -8.66470438e-04,   2.45016935e-03],\n",
       "        [ -8.58740566e-03,  -1.03065240e-02,  -7.13342751e-03, ...,\n",
       "          -9.35101453e-04,  -5.45778333e-05,   9.32379680e-03],\n",
       "        ..., \n",
       "        [ -4.72240558e-03,   1.30765099e-02,  -3.85690045e-03, ...,\n",
       "          -4.55436218e-03,   2.28574828e-03,   1.64717196e-02],\n",
       "        [  4.85572490e-03,   6.72916593e-03,   8.96457611e-03, ...,\n",
       "           2.93263396e-03,  -3.00625892e-03,  -1.02751325e-02],\n",
       "        [  1.08480415e-03,   6.72062961e-03,   1.28690116e-02, ...,\n",
       "           1.64209344e-04,   1.49138778e-03,   2.26420399e-03]]))"
      ]
     },
     "execution_count": 180,
     "metadata": {},
     "output_type": "execute_result"
    }
   ],
   "source": [
    "np.linalg.eigh(B_12.dot(A).dot(B_12))"
   ]
  },
  {
   "cell_type": "code",
   "execution_count": 179,
   "metadata": {
    "collapsed": false
   },
   "outputs": [
    {
     "data": {
      "text/plain": [
       "array([[  1.00000000e+00,  -9.69656213e-16,  -1.30036498e-17, ...,\n",
       "          7.89299182e-17,  -1.20780122e-16,   2.62810607e-16],\n",
       "       [ -1.10800380e-15,   1.00000000e+00,  -9.14181654e-15, ...,\n",
       "          2.11202583e-16,  -2.50640437e-16,   5.97178557e-16],\n",
       "       [ -4.89280112e-17,  -8.93319317e-15,   1.00000000e+00, ...,\n",
       "          2.98806119e-16,   2.52564896e-16,   5.16730755e-16],\n",
       "       ..., \n",
       "       [  8.32667268e-17,   2.35271871e-16,   2.90132501e-16, ...,\n",
       "          1.00000000e+00,  -3.56095362e-15,  -3.61689845e-16],\n",
       "       [ -1.13407547e-16,  -2.29417180e-16,   2.51155433e-16, ...,\n",
       "         -3.85694081e-15,   1.00000000e+00,   1.27475070e-16],\n",
       "       [  2.97071395e-16,   6.10622664e-16,   5.16405495e-16, ...,\n",
       "         -3.77627617e-16,   1.33716009e-16,   1.00000000e+00]])"
      ]
     },
     "execution_count": 179,
     "metadata": {},
     "output_type": "execute_result"
    }
   ],
   "source": [
    "B_12.dot(B).dot(B_12)"
   ]
  },
  {
   "cell_type": "code",
   "execution_count": 174,
   "metadata": {
    "collapsed": false
   },
   "outputs": [
    {
     "data": {
      "text/plain": [
       "array([[  1.00000000e+00,   2.20082877e-16,   2.53567783e-16, ...,\n",
       "         -3.57115973e-17,  -3.59463842e-17,   2.67836053e-17],\n",
       "       [  2.20082877e-16,   1.00000000e+00,   4.30224975e-16, ...,\n",
       "          2.03906241e-17,   3.40278546e-17,  -1.67881930e-18],\n",
       "       [  2.53567783e-16,   4.30224975e-16,   1.00000000e+00, ...,\n",
       "         -4.00434826e-18,   3.70661618e-18,   5.93939503e-18],\n",
       "       ..., \n",
       "       [ -3.57115973e-17,   2.03906241e-17,  -4.00434826e-18, ...,\n",
       "          1.00000000e+00,   3.66026653e-16,  -4.72712147e-17],\n",
       "       [ -3.59463842e-17,   3.40278546e-17,   3.70661618e-18, ...,\n",
       "          3.66026653e-16,   1.00000000e+00,   1.19695920e-16],\n",
       "       [  2.67836053e-17,  -1.67881930e-18,   5.93939503e-18, ...,\n",
       "         -4.72712147e-17,   1.19695920e-16,   1.00000000e+00]])"
      ]
     },
     "execution_count": 174,
     "metadata": {},
     "output_type": "execute_result"
    }
   ],
   "source": [
    "e[1].T.dot(e[1])"
   ]
  },
  {
   "cell_type": "code",
   "execution_count": null,
   "metadata": {
    "collapsed": true
   },
   "outputs": [],
   "source": []
  }
 ],
 "metadata": {
  "anaconda-cloud": {},
  "kernelspec": {
   "display_name": "Python [default]",
   "language": "python",
   "name": "python3"
  },
  "language_info": {
   "codemirror_mode": {
    "name": "ipython",
    "version": 3
   },
   "file_extension": ".py",
   "mimetype": "text/x-python",
   "name": "python",
   "nbconvert_exporter": "python",
   "pygments_lexer": "ipython3",
   "version": "3.5.2"
  }
 },
 "nbformat": 4,
 "nbformat_minor": 0
}

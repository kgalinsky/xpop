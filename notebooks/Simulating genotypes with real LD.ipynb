{
 "cells": [
  {
   "cell_type": "markdown",
   "metadata": {},
   "source": [
    "After examining how the $\\tau$-ratio behaves with different lambdas, I have settled on $\\lambda=0.1$ and will do simulations that way."
   ]
  },
  {
   "cell_type": "code",
   "execution_count": 1,
   "metadata": {
    "collapsed": true
   },
   "outputs": [],
   "source": [
    "import numpy as np\n",
    "import numpy.random as nr\n",
    "import scipy.stats as ss\n",
    "import pandas as pd"
   ]
  },
  {
   "cell_type": "code",
   "execution_count": 2,
   "metadata": {
    "collapsed": true
   },
   "outputs": [],
   "source": [
    "def fromfile_tril(*args, **kwargs):\n",
    "    \"\"\"Read a symmetric matrix stored as just the lower triangular part.\n",
    "\n",
    "    For an MxM matrix, the lower triangular part takes up just N=M*(M+1)$\n",
    "    instead of M^2 bytes. Reversing this formula using the quadratic equ$\n",
    "    M=(sqrt(1+8N)-1)/2. This is simply a wrapper around numpy.fromfile.\n",
    "    \"\"\"\n",
    "    X = np.fromfile(*args, **kwargs)\n",
    "\n",
    "    N = len(X)\n",
    "    M = (np.sqrt(1+8*N)-1)/2\n",
    "    if int(M) != M:\n",
    "        raise ValueError('Length of matrix not of form M*(M+1)/2')\n",
    "    M = int(M)\n",
    "\n",
    "    Y = np.empty((M,M), X.dtype)\n",
    "    indices = np.tril_indices(M)\n",
    "\n",
    "    Y[indices] = Y[indices[::-1]] = X\n",
    "\n",
    "    return(Y)"
   ]
  },
  {
   "cell_type": "code",
   "execution_count": 3,
   "metadata": {
    "collapsed": true
   },
   "outputs": [],
   "source": [
    "def add_lambdaI(Sigma, l):\n",
    "    return((Sigma + l*np.identity(Sigma.shape[0])) / (1+l))"
   ]
  },
  {
   "cell_type": "code",
   "execution_count": 4,
   "metadata": {
    "collapsed": false
   },
   "outputs": [],
   "source": [
    "pops = ['eas', 'eur']\n",
    "files = ['../common/ld/22.{}.ld.bin'.format(pop) for pop in pops]\n",
    "Sigmas = np.array([fromfile_tril(file) for file in files])\n",
    "\n",
    "frq = pd.read_table('../common/bfile.chr/22.frq.strat', delim_whitespace=True)\n",
    "mafs = [ frq.query('CLST == \"{}\"'.format(pop)).MAF.values for pop in pops ]"
   ]
  },
  {
   "cell_type": "code",
   "execution_count": 5,
   "metadata": {
    "collapsed": true
   },
   "outputs": [],
   "source": [
    "l = 0.1\n",
    "N = 100\n",
    "M = Sigmas[0].shape[0]"
   ]
  },
  {
   "cell_type": "code",
   "execution_count": 6,
   "metadata": {
    "collapsed": false
   },
   "outputs": [],
   "source": [
    "SigmaPs = [add_lambdaI(Sigma, l) for Sigma in Sigmas]"
   ]
  },
  {
   "cell_type": "code",
   "execution_count": null,
   "metadata": {
    "collapsed": true
   },
   "outputs": [],
   "source": [
    "Zs = [nr.multivariate_normal(np.zeros(M), SigmaP, N) for SigmaP in SigmaPs]\n",
    "Zs = ss.norm(0,1).sf(Zs)\n",
    "G = np.hstack([[ss.binom(2,p).isf(z) for p, z in zip(maf, Z.T)] for maf, Z in zip(mafs, Zs)])"
   ]
  },
  {
   "cell_type": "code",
   "execution_count": 11,
   "metadata": {
    "collapsed": false
   },
   "outputs": [
    {
     "ename": "ImportError",
     "evalue": "No module named 'pysnptools'",
     "output_type": "error",
     "traceback": [
      "\u001b[0;31m---------------------------------------------------------------------------\u001b[0m",
      "\u001b[0;31mImportError\u001b[0m                               Traceback (most recent call last)",
      "\u001b[0;32m<ipython-input-11-c5fb83ed311f>\u001b[0m in \u001b[0;36m<module>\u001b[0;34m()\u001b[0m\n\u001b[0;32m----> 1\u001b[0;31m \u001b[1;32mfrom\u001b[0m \u001b[0mpysnptools\u001b[0m\u001b[1;33m.\u001b[0m\u001b[0msnpreader\u001b[0m \u001b[1;32mimport\u001b[0m \u001b[0mSnpData\u001b[0m\u001b[1;33m,\u001b[0m \u001b[0mBed\u001b[0m\u001b[1;33m\u001b[0m\u001b[0m\n\u001b[0m",
      "\u001b[0;31mImportError\u001b[0m: No module named 'pysnptools'"
     ]
    }
   ],
   "source": [
    "from pysnptools.snpreader import SnpData, Bed"
   ]
  },
  {
   "cell_type": "code",
   "execution_count": null,
   "metadata": {
    "collapsed": true
   },
   "outputs": [],
   "source": []
  }
 ],
 "metadata": {
  "anaconda-cloud": {},
  "kernelspec": {
   "display_name": "Python [default]",
   "language": "python",
   "name": "python3"
  },
  "language_info": {
   "codemirror_mode": {
    "name": "ipython",
    "version": 3
   },
   "file_extension": ".py",
   "mimetype": "text/x-python",
   "name": "python",
   "nbconvert_exporter": "python",
   "pygments_lexer": "ipython3",
   "version": "3.5.2"
  }
 },
 "nbformat": 4,
 "nbformat_minor": 1
}

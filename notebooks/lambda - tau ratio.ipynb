{
 "cells": [
  {
   "cell_type": "code",
   "execution_count": 1,
   "metadata": {
    "collapsed": true
   },
   "outputs": [],
   "source": [
    "import numpy as np\n",
    "import numpy.random as nr\n",
    "import numpy.linalg as nl\n",
    "import pandas as pd"
   ]
  },
  {
   "cell_type": "code",
   "execution_count": 2,
   "metadata": {
    "collapsed": true
   },
   "outputs": [],
   "source": [
    "import matplotlib.pyplot as plt\n",
    "%matplotlib inline"
   ]
  },
  {
   "cell_type": "code",
   "execution_count": 3,
   "metadata": {
    "collapsed": true
   },
   "outputs": [],
   "source": [
    "def fromfile_tril(*args, **kwargs):\n",
    "    \"\"\"Read a symmetric matrix stored as just the lower triangular part.\n",
    "\n",
    "    For an MxM matrix, the lower triangular part takes up just N=M*(M+1)/2 bytes\n",
    "    instead of M^2 bytes. This is simply a wrapper around numpy.fromfile that\n",
    "    then converts the resulting array into an M*M matrix.\n",
    "    \"\"\"\n",
    "    X = np.fromfile(*args, **kwargs)\n",
    "\n",
    "    N = len(X)\n",
    "    M = (np.sqrt(1+8*N)-1)/2\n",
    "    if int(M) != M:\n",
    "        raise ValueError('Length of matrix not of form M*(M+1)/2')\n",
    "    M = int(M)\n",
    "\n",
    "    Y = np.empty((M,M), X.dtype)\n",
    "    indices = np.tril_indices(M)\n",
    "\n",
    "    # set the lower triangular part and the transpose to X\n",
    "    Y[indices] = Y[indices[::-1]] = X\n",
    "\n",
    "    return(Y)"
   ]
  },
  {
   "cell_type": "code",
   "execution_count": 4,
   "metadata": {
    "collapsed": true
   },
   "outputs": [],
   "source": [
    "def tau(Ss):\n",
    "    return(\n",
    "        np.sum(Ss[0]*Ss[1]) /\n",
    "        np.sqrt(\n",
    "            np.sum(Ss[0]*Ss[0]) *\n",
    "            np.sum(Ss[1]*Ss[1])\n",
    "        )\n",
    "    )"
   ]
  },
  {
   "cell_type": "code",
   "execution_count": 5,
   "metadata": {
    "collapsed": true
   },
   "outputs": [],
   "source": [
    "pops = ['eas', 'eur']\n",
    "files = ['../common/ld/22.{}.ld.bin'.format(pop) for pop in pops]\n",
    "Sigmas = [fromfile_tril(file) for file in files]\n",
    "Sigmas = np.array(Sigmas)"
   ]
  },
  {
   "cell_type": "code",
   "execution_count": 6,
   "metadata": {
    "collapsed": true
   },
   "outputs": [],
   "source": [
    "frq = pd.read_table('../common/bfile.chr/22.frq.strat', delim_whitespace=True)\n",
    "mafs = [ frq.query('CLST == \"{}\"'.format(pop)).MAF.values for pop in pops ]\n",
    "sds = [ np.sqrt(2*maf*(1-maf)) for maf in mafs ]"
   ]
  },
  {
   "cell_type": "code",
   "execution_count": 7,
   "metadata": {
    "collapsed": false
   },
   "outputs": [],
   "source": [
    "M = Sigmas.shape[1]\n",
    "Mt = 1000"
   ]
  },
  {
   "cell_type": "code",
   "execution_count": 8,
   "metadata": {
    "collapsed": true
   },
   "outputs": [],
   "source": [
    "lambdas = [0, 0.01, 0.02, 0.05, 0.1, 0.2, 0.5, 1, 2, 5]\n",
    "typeds = [ nr.choice(M, Mt, replace=False) for i in range(100) ]"
   ]
  },
  {
   "cell_type": "code",
   "execution_count": 9,
   "metadata": {
    "collapsed": true
   },
   "outputs": [],
   "source": [
    "ratios_Sigma = list()\n",
    "ratios_S = list()\n",
    "for l in lambdas:\n",
    "    lI = l*np.identity(M)\n",
    "    Sigmas_prime = np.array([(Sigma + lI)/(1+l) for Sigma in Sigmas])\n",
    "    ratios_Sigma.append([\n",
    "        tau(Sigmas_prime[:,typed]) /\n",
    "        tau(Sigmas_prime[:,typed[:,None],typed])\n",
    "        for typed in typeds\n",
    "    ])\n",
    "    Ss_prime = np.array([ sd[:,None] * Sigma * sd[None,:] for Sigma, sd in zip(Sigmas_prime, sds)])\n",
    "    ratios_S.append([\n",
    "        tau(Ss_prime[:,typed]) /\n",
    "        tau(Ss_prime[:,typed[:,None],typed])\n",
    "        for typed in typeds\n",
    "    ])"
   ]
  },
  {
   "cell_type": "code",
   "execution_count": 10,
   "metadata": {
    "collapsed": true
   },
   "outputs": [],
   "source": [
    "df_Sigma = pd.concat([\n",
    "    pd.DataFrame(\n",
    "        {\n",
    "            'l':l,\n",
    "            'i':range(100),\n",
    "            'ratio':ratio\n",
    "        }\n",
    "    ) for l, ratio in zip(lambdas, ratios_Sigma)\n",
    "])"
   ]
  },
  {
   "cell_type": "code",
   "execution_count": 11,
   "metadata": {
    "collapsed": true
   },
   "outputs": [],
   "source": [
    "df_S = pd.concat([\n",
    "    pd.DataFrame(\n",
    "        {\n",
    "            'l':l,\n",
    "            'i':range(100),\n",
    "            'ratio':ratio\n",
    "        }\n",
    "    ) for l, ratio in zip(lambdas, ratios_S)\n",
    "])"
   ]
  },
  {
   "cell_type": "code",
   "execution_count": 12,
   "metadata": {
    "collapsed": true
   },
   "outputs": [],
   "source": [
    "df_Sigma['type']='Sigma'\n",
    "df_S['type']='S'"
   ]
  },
  {
   "cell_type": "code",
   "execution_count": 13,
   "metadata": {
    "collapsed": false
   },
   "outputs": [],
   "source": [
    "df = pd.concat([df_Sigma, df_S])"
   ]
  },
  {
   "cell_type": "code",
   "execution_count": 14,
   "metadata": {
    "collapsed": false
   },
   "outputs": [
    {
     "data": {
      "image/png": "[encoded data removed]",
      "text/plain": [
       "<matplotlib.figure.Figure at 0x26780012048>"
      ]
     },
     "metadata": {},
     "output_type": "display_data"
    }
   ],
   "source": [
    "df.boxplot('ratio', ['l', 'type'], figsize=(5,15), vert=False)\n",
    "plt.show()"
   ]
  },
  {
   "cell_type": "code",
   "execution_count": 16,
   "metadata": {
    "collapsed": false
   },
   "outputs": [
    {
     "data": {
      "text/plain": [
       "type   l   \n",
       "S      0.00    0.637371\n",
       "       0.01    0.637746\n",
       "       0.02    0.638160\n",
       "       0.05    0.639620\n",
       "       0.10    0.642713\n",
       "       0.20    0.650888\n",
       "       0.50    0.684481\n",
       "       1.00    0.746409\n",
       "       2.00    0.840785\n",
       "       5.00    0.947543\n",
       "Sigma  0.00    0.653835\n",
       "       0.01    0.653491\n",
       "       0.02    0.653189\n",
       "       0.05    0.652526\n",
       "       0.10    0.652164\n",
       "       0.20    0.653792\n",
       "       0.50    0.671025\n",
       "       1.00    0.716270\n",
       "       2.00    0.802786\n",
       "       5.00    0.926308\n",
       "Name: ratio, dtype: float64"
      ]
     },
     "execution_count": 16,
     "metadata": {},
     "output_type": "execute_result"
    }
   ],
   "source": [
    "df.groupby(['type', 'l']).ratio.mean()"
   ]
  },
  {
   "cell_type": "code",
   "execution_count": null,
   "metadata": {
    "collapsed": true
   },
   "outputs": [],
   "source": []
  }
 ],
 "metadata": {
  "anaconda-cloud": {},
  "kernelspec": {
   "display_name": "Python [default]",
   "language": "python",
   "name": "python3"
  },
  "language_info": {
   "codemirror_mode": {
    "name": "ipython",
    "version": 3
   },
   "file_extension": ".py",
   "mimetype": "text/x-python",
   "name": "python",
   "nbconvert_exporter": "python",
   "pygments_lexer": "ipython3",
   "version": "3.5.2"
  }
 },
 "nbformat": 4,
 "nbformat_minor": 1
}

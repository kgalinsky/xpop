{
 "cells": [
  {
   "cell_type": "markdown",
   "metadata": {},
   "source": [
    "# Proof\n",
    "\n",
    "There is a causal SNP which is untyped with causal per-SNP effect $b_1$ and $b_2$ in populations 1 and 2. It is in LD with a tagged SNP with causal effect. The LD in the two populations is $r_1$ and $r_2$. This leads to the following:\n",
    "\n",
    "$$\n",
    "\\begin{aligned}\n",
    "a_1 & = r_1 \\times b_1 \\\\\n",
    "a_2 & = r_2 \\times b_2 \\\\\n",
    "\\\\\n",
    "\\rho \\left( \\alpha_1, \\alpha_2 \\right)\n",
    "  & = \\rho \\left( r_1 b_1, r_2 b_2 \\right) \\\\\n",
    "  & = \\frac\n",
    "    { \\text{cov} \\left( r_1 b_1, r_2 b_2 \\right) }\n",
    "    {\n",
    "      \\sqrt{\n",
    "        \\text{Var} \\left( r_1 b_1 \\right)\n",
    "        \\text{Var} \\left( r_2 b_2 \\right)\n",
    "      }\n",
    "    } \\\\\n",
    "\\\\\n",
    "\\text{Var} \\left( r_i b_i \\right)\n",
    "  & = \\text{E} \\left[ \\left( r_i b_i \\right)^2 \\right] \n",
    "    - \\left[ \\text{E} \\left( r_i b_i \\right) \\right]^2 \\\\\n",
    "  & = \\text{E} \\left( r_i^2 \\right) \\text{E} \\left( b_i^2 \\right)\n",
    "  ,\\; r_i \\perp b_i,\\, \\text{E}(b_i) = 0 \\text{ or } \\text{E}(r_i) = 0 \\\\\n",
    "  & = \\text{Var} \\left( r_i \\right) \\text{Var} \\left( b_i \\right )\n",
    "  ,\\; \\text{E}(b_i) = 0 \\textbf{ and } \\text{E}(r_i) = 0 \\\\\n",
    "\\\\\n",
    "\\text{cov} \\left( r_1 b_1, r_2 b_2 \\right)\n",
    "  & = \\text{E} \\left\\{\n",
    "      \\left[ r_1 b_1 - \\text{E} \\left( r_1 b_1 \\right) \\right]\n",
    "      \\left[ r_2 b_2 - \\text{E} \\left( r_2 b_2 \\right) \\right]\n",
    "    \\right\\} \\\\\n",
    "  & = \\text{E} \\left( r_1 r_2 b_1 b_2 \\right)\n",
    "  ,\\; \\left[ \\text{E}(b_1) = 0 \\text{ or } \\text{E}(r_1) = 0 \\right] \\text{ and }\n",
    "    \\left[ \\text{E}(b_2) = 0 \\text{ or } \\text{E}(r_2) = 0 \\right] \\\\\n",
    "  & = \\text{E} \\left( r_1 r_2 \\right) \\text{E} \\left( b_1 b_2 \\right)\n",
    "  ,\\; r_i \\perp b_j \\\\\n",
    "  & = \\text{cov} \\left( r_1 r_2 \\right) \\text{cov} \\left( b_1 b_2 \\right)\n",
    "  ,\\; \\text{E}(b_1) = \\text{E}(b_2) = \\text{E}(r_1) = \\text{E}(r_2) = 0 \\\\\n",
    "\\\\\n",
    "\\rho \\left( \\alpha_1, \\alpha_2 \\right)\n",
    "  & = \\frac\n",
    "    { \\text{cov} \\left( r_1 r_2 \\right) \\text{cov} \\left( b_1 b_2 \\right) }\n",
    "    {\n",
    "      \\sqrt{\n",
    "        \\text{Var} \\left( r_1 \\right)\n",
    "        \\text{Var} \\left( r_2 \\right)\n",
    "        \\text{Var} \\left( b_1 \\right)\n",
    "        \\text{Var} \\left( b_2 \\right)\n",
    "      }\n",
    "    } \\\\\n",
    " & = \\rho \\left( r_1, r_2 \\right) \\rho \\left( b_1, b_2 \\right )\n",
    "\\end{aligned}\n",
    "$$"
   ]
  },
  {
   "cell_type": "markdown",
   "metadata": {},
   "source": [
    "# Test\n",
    "\n",
    "First simulate the $b$s."
   ]
  },
  {
   "cell_type": "code",
   "execution_count": 1,
   "metadata": {
    "collapsed": true
   },
   "outputs": [],
   "source": [
    "import numpy as np\n",
    "import numpy.random as nr\n",
    "\n",
    "import scipy.stats as ss"
   ]
  },
  {
   "cell_type": "code",
   "execution_count": 2,
   "metadata": {
    "collapsed": true
   },
   "outputs": [],
   "source": [
    "M = 1000\n",
    "N = 1000000"
   ]
  },
  {
   "cell_type": "code",
   "execution_count": 3,
   "metadata": {
    "collapsed": true
   },
   "outputs": [],
   "source": [
    "rho_b = 0.7"
   ]
  },
  {
   "cell_type": "code",
   "execution_count": 4,
   "metadata": {
    "collapsed": false
   },
   "outputs": [
    {
     "data": {
      "text/plain": [
       "0.6998293274673173"
      ]
     },
     "execution_count": 4,
     "metadata": {},
     "output_type": "execute_result"
    }
   ],
   "source": [
    "b = nr.multivariate_normal((0,0), ((1,rho_b),(rho_b, 1)), M)\n",
    "np.corrcoef(b.T)[1,0]"
   ]
  },
  {
   "cell_type": "markdown",
   "metadata": {},
   "source": [
    "Simulate the $r$s. This is a bit trickier becuase $r \\in \\left[ -1,1 \\right]$."
   ]
  },
  {
   "cell_type": "code",
   "execution_count": 5,
   "metadata": {
    "collapsed": true
   },
   "outputs": [],
   "source": [
    "rho_r = 0.7"
   ]
  },
  {
   "cell_type": "code",
   "execution_count": 6,
   "metadata": {
    "collapsed": false
   },
   "outputs": [
    {
     "data": {
      "text/plain": [
       "0.25007696668038587"
      ]
     },
     "execution_count": 6,
     "metadata": {},
     "output_type": "execute_result"
    }
   ],
   "source": [
    "r = nr.multivariate_normal((0,0), ((1,rho_r),(rho_r, 1)), M)\n",
    "r[r > 1] = 1\n",
    "r[r < -1] = 1\n",
    "np.corrcoef(r.T)[1,0]"
   ]
  },
  {
   "cell_type": "markdown",
   "metadata": {},
   "source": [
    "That doesn't work so well. Instead, simulate $r$ from the multivariate normal as usual, and then map it to a beta distribution that is stretched to span $\\left[-1,1\\right]$ and have expectation 0 (so $\\text 2*{Beta}\\left( \\alpha, \\alpha \\right) - 1$)."
   ]
  },
  {
   "cell_type": "code",
   "execution_count": 7,
   "metadata": {
    "collapsed": false,
    "scrolled": true
   },
   "outputs": [
    {
     "name": "stdout",
     "output_type": "stream",
     "text": [
      "-0.963817585762 0.990170323728\n",
      "[ 0.00031517  0.01309775]\n",
      "0.685678007048\n"
     ]
    }
   ],
   "source": [
    "r = nr.multivariate_normal((0,0), ((1,rho_r),(rho_r, 1)), M)\n",
    "r = ss.norm.cdf(r)\n",
    "r = 2*ss.beta.ppf(r, 2, 2) - 1\n",
    "\n",
    "print(np.min(r), np.max(r))\n",
    "print(r.mean(axis=0))\n",
    "print(np.corrcoef(r.T)[0,1])"
   ]
  },
  {
   "cell_type": "markdown",
   "metadata": {},
   "source": [
    "Simulate the true marginal effect sizes."
   ]
  },
  {
   "cell_type": "code",
   "execution_count": 8,
   "metadata": {
    "collapsed": false
   },
   "outputs": [],
   "source": [
    "a = r * b"
   ]
  },
  {
   "cell_type": "code",
   "execution_count": 9,
   "metadata": {
    "collapsed": false,
    "scrolled": true
   },
   "outputs": [
    {
     "data": {
      "text/plain": [
       "0.49479662832080706"
      ]
     },
     "execution_count": 9,
     "metadata": {},
     "output_type": "execute_result"
    }
   ],
   "source": [
    "np.corrcoef(a.T)[0,1]"
   ]
  },
  {
   "cell_type": "code",
   "execution_count": 10,
   "metadata": {
    "collapsed": false
   },
   "outputs": [
    {
     "data": {
      "text/plain": [
       "0.48999999999999994"
      ]
     },
     "execution_count": 10,
     "metadata": {},
     "output_type": "execute_result"
    }
   ],
   "source": [
    "rho_b*rho_r"
   ]
  },
  {
   "cell_type": "markdown",
   "metadata": {},
   "source": [
    "Simulate the causal SNPs."
   ]
  },
  {
   "cell_type": "code",
   "execution_count": 11,
   "metadata": {
    "collapsed": false
   },
   "outputs": [],
   "source": [
    "p = nr.uniform(0.05, 0.95, (M, 2))"
   ]
  },
  {
   "cell_type": "code",
   "execution_count": 12,
   "metadata": {
    "collapsed": true
   },
   "outputs": [],
   "source": [
    "X = np.zeros((M, 2, N), dtype='uint8')\n",
    "for m in range(M):\n",
    "    for i in range(2):\n",
    "        X[m,i,:] = nr.binomial(2, p[m,i], N)"
   ]
  },
  {
   "cell_type": "markdown",
   "metadata": {},
   "source": [
    "Simulate the tagged SNPs."
   ]
  },
  {
   "cell_type": "code",
   "execution_count": 13,
   "metadata": {
    "collapsed": true
   },
   "outputs": [],
   "source": [
    "Y = np.zeros((M, 2, N), dtype='uint8')\n",
    "for m in range(M):\n",
    "    for i in range(2):\n",
    "        replace   = nr.binomial(1, 1-np.abs(r[m,i]), N)\n",
    "        candidate = nr.binomial(2, p[m,i], N)\n",
    "        Y[m,i,:]  = replace*candidate + (1-replace)*X[m,i,:]\n",
    "        if r[m,i] < 0: Y[m,i,:] = 2 - Y[m,i,:]"
   ]
  },
  {
   "cell_type": "code",
   "execution_count": 14,
   "metadata": {
    "collapsed": false
   },
   "outputs": [],
   "source": [
    "rhat = np.zeros(r.shape)\n",
    "for m in range(M):\n",
    "    for i in range(2):\n",
    "        rhat[m,i] = np.corrcoef(X[m,i], Y[m,i])[0,1]"
   ]
  },
  {
   "cell_type": "markdown",
   "metadata": {},
   "source": [
    "Estimate the phenotype."
   ]
  },
  {
   "cell_type": "code",
   "execution_count": 15,
   "metadata": {
    "collapsed": false
   },
   "outputs": [],
   "source": [
    "Z = X.T.dot(b)[:,(0,1),(0,1)]\n",
    "Z -= Z.mean(axis=0)[np.newaxis,:]"
   ]
  },
  {
   "cell_type": "markdown",
   "metadata": {},
   "source": [
    "Estimate the marginal effect sizes."
   ]
  },
  {
   "cell_type": "code",
   "execution_count": 16,
   "metadata": {
    "collapsed": false
   },
   "outputs": [],
   "source": [
    "ahat = np.zeros((M,2))\n",
    "for i in range(2):\n",
    "    y = Y[:,i,:]\n",
    "    y = y - y.mean(axis=1)[:,np.newaxis]\n",
    "    z = Z[:,i]\n",
    "    ahat[:,i] = y.dot(z) / (y**2).sum(axis=1)"
   ]
  },
  {
   "cell_type": "markdown",
   "metadata": {},
   "source": [
    "The correlation of estimated marginal effect sizes."
   ]
  },
  {
   "cell_type": "code",
   "execution_count": 17,
   "metadata": {
    "collapsed": false
   },
   "outputs": [
    {
     "data": {
      "text/plain": [
       "0.49220275457945828"
      ]
     },
     "execution_count": 17,
     "metadata": {},
     "output_type": "execute_result"
    }
   ],
   "source": [
    "np.corrcoef(ahat.T)[0,1]"
   ]
  }
 ],
 "metadata": {
  "kernelspec": {
   "display_name": "Python 3",
   "language": "python",
   "name": "python3"
  },
  "language_info": {
   "codemirror_mode": {
    "name": "ipython",
    "version": 3
   },
   "file_extension": ".py",
   "mimetype": "text/x-python",
   "name": "python",
   "nbconvert_exporter": "python",
   "pygments_lexer": "ipython3",
   "version": "3.4.3"
  }
 },
 "nbformat": 4,
 "nbformat_minor": 0
}

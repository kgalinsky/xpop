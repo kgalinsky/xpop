{
 "cells": [
  {
   "cell_type": "code",
   "execution_count": 1,
   "metadata": {
    "collapsed": true
   },
   "outputs": [],
   "source": [
    "import numpy as np\n",
    "import numpy.random as nr"
   ]
  },
  {
   "cell_type": "code",
   "execution_count": 44,
   "metadata": {
    "collapsed": true
   },
   "outputs": [],
   "source": [
    "def fromfile_tril(*args, **kwargs):\n",
    "    '''\n",
    "    Read a symmetric matrix stored as just the lower triangular part.\n",
    "\n",
    "    For an MxM matrix, the lower triangular part takes up just N=M*(M+1)/2 bytes\n",
    "    instead of M^2 bytes. Reversing this formula using the quadratic equation,\n",
    "    M=(sqrt(1+8N)-1)/2. This is simply a wrapper around numpy.fromfile.\n",
    "    '''\n",
    "    X = np.fromfile(*args, **kwargs)\n",
    "    \n",
    "    N = len(X)\n",
    "    M = (np.sqrt(1+8*N)-1)/2\n",
    "    if int(M) != M:\n",
    "        raise ValueError('Length of matrix not of form M*(M+1)/2')\n",
    "    M = int(M)\n",
    "    \n",
    "    Y = np.empty((M,M), X.dtype)\n",
    "    indices = np.tril_indices(M)\n",
    "    \n",
    "    Y[indices] = Y[indices[::-1]] = X\n",
    "    \n",
    "    return(Y)"
   ]
  },
  {
   "cell_type": "code",
   "execution_count": 49,
   "metadata": {
    "collapsed": true
   },
   "outputs": [],
   "source": [
    "def tofile_tril(X, *args, **kwargs):\n",
    "    '''\n",
    "    Store just the lower triangular part of a (symmetric) matrix.\n",
    "\n",
    "    This is simply a wrapper around numpy.ndarray.tofile.\n",
    "    '''\n",
    "    X[np.tril_lower_from(X)].tofile(*args, **kwargs)"
   ]
  },
  {
   "cell_type": "code",
   "execution_count": 84,
   "metadata": {
    "collapsed": true
   },
   "outputs": [],
   "source": [
    "eas_ld = fromfile_tril('../common/ld/eas.22.ld.bin')\n",
    "eas_ld_n = fromfile_tril('../common/ld/eas.22.ld.N.bin', dtype='float32')\n",
    "eur_ld = fromfile_tril('../common/ld/eur.22.ld.bin')\n",
    "eur_ld_n = fromfile_tril('../common/ld/eur.22.ld.N.bin', dtype='float32')"
   ]
  },
  {
   "cell_type": "code",
   "execution_count": 85,
   "metadata": {
    "collapsed": false
   },
   "outputs": [
    {
     "data": {
      "text/plain": [
       "0.00062314660508077117"
      ]
     },
     "execution_count": 85,
     "metadata": {},
     "output_type": "execute_result"
    }
   ],
   "source": [
    "(eas_ld**2)[0][1000:].mean()"
   ]
  },
  {
   "cell_type": "code",
   "execution_count": 86,
   "metadata": {
    "collapsed": false,
    "scrolled": true
   },
   "outputs": [
    {
     "data": {
      "text/plain": [
       "2.4950605803934822e-05"
      ]
     },
     "execution_count": 86,
     "metadata": {},
     "output_type": "execute_result"
    }
   ],
   "source": [
    "(eur_ld**2)[0][1000:].mean()"
   ]
  },
  {
   "cell_type": "code",
   "execution_count": 87,
   "metadata": {
    "collapsed": true
   },
   "outputs": [],
   "source": [
    "eas_r2 = eas_ld**2\n",
    "eur_r2 = eur_ld**2"
   ]
  },
  {
   "cell_type": "code",
   "execution_count": 88,
   "metadata": {
    "collapsed": true
   },
   "outputs": [],
   "source": [
    "eas_r2_adj = eas_r2 - (1-eas_r2)/(eas_ld_n-2)\n",
    "eur_r2_adj = eur_r2 - (1-eur_r2)/(eur_ld_n-2)"
   ]
  },
  {
   "cell_type": "code",
   "execution_count": 90,
   "metadata": {
    "collapsed": false
   },
   "outputs": [],
   "source": [
    "indices = np.tril_indices_from(eas_ld, 100)"
   ]
  },
  {
   "cell_type": "code",
   "execution_count": 91,
   "metadata": {
    "collapsed": false
   },
   "outputs": [
    {
     "data": {
      "text/plain": [
       "(0.0040941615552362118, 0.0038882020944894049)"
      ]
     },
     "execution_count": 91,
     "metadata": {},
     "output_type": "execute_result"
    }
   ],
   "source": [
    "eas_r2[indices].mean(), eas_r2_adj[indices].mean()"
   ]
  },
  {
   "cell_type": "code",
   "execution_count": 92,
   "metadata": {
    "collapsed": false
   },
   "outputs": [
    {
     "data": {
      "text/plain": [
       "(0.0022023820983895544, 0.0021856052283247113)"
      ]
     },
     "execution_count": 92,
     "metadata": {},
     "output_type": "execute_result"
    }
   ],
   "source": [
    "eur_r2[indices].mean(), eur_r2_adj[indices].mean()"
   ]
  },
  {
   "cell_type": "code",
   "execution_count": null,
   "metadata": {
    "collapsed": true
   },
   "outputs": [],
   "source": []
  }
 ],
 "metadata": {
  "anaconda-cloud": {},
  "kernelspec": {
   "display_name": "Python [default]",
   "language": "python",
   "name": "python3"
  },
  "language_info": {
   "codemirror_mode": {
    "name": "ipython",
    "version": 3
   },
   "file_extension": ".py",
   "mimetype": "text/x-python",
   "name": "python",
   "nbconvert_exporter": "python",
   "pygments_lexer": "ipython3",
   "version": "3.5.2"
  }
 },
 "nbformat": 4,
 "nbformat_minor": 1
}

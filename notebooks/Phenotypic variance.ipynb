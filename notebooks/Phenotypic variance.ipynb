{
 "cells": [
  {
   "cell_type": "markdown",
   "metadata": {},
   "source": [
    "# Phenotypic variance"
   ]
  },
  {
   "cell_type": "markdown",
   "metadata": {},
   "source": [
    "$$\n",
    "\\newcommand{\\Bin}{\\operatorname{Bin}}\n",
    "\\newcommand{\\Var}{\\operatorname{Var}}\n",
    "\\newcommand{\\Cov}{\\operatorname{Cov}}\n",
    "\\newcommand{\\Cor}{\\operatorname{Cor}}\n",
    "\\newcommand{\\E}{\\operatorname{E}}\n",
    "\\newcommand{\\diag}{\\operatorname{diag}}\n",
    "\\newcommand{\\tr}{\\operatorname{tr}}\n",
    "$$"
   ]
  },
  {
   "cell_type": "markdown",
   "metadata": {},
   "source": [
    "When dealing with normalized genotypes (i.e. centered to have mean=0 and scaled to have variance=1), the notions of variance and heritability are fairly easy to deal with.\n",
    "\n",
    "$$\n",
    "\\begin{align}\n",
    "Y & = W^T \\beta + e = \\sum W_i \\beta_i + e \\\\\n",
    "\\Var \\left( Y \\right)\n",
    "  & = \\Var \\left(\\sum W_i \\beta_i + e \\right) \\\\\n",
    "  & = M \\Var \\left( W_i \\beta_i \\right) + \\Var \\left( e \\right) && IID \\\\\n",
    "  & = M \\Var \\left( W_i \\right) \\Var \\left( \\beta_i \\right) + \\Var \\left( e \\right) && W_i \\perp \\beta_i, \\E \\left( W_i \\right) = \\E \\left( \\beta_i \\right) = 0 \\\\\n",
    "  & = M \\sigma^2_\\beta + \\sigma^2_e = \\sigma^2_g + \\sigma^2_e && \\Var \\left( W_i \\right) = 1 \\\\\n",
    "h^2_g & = \\frac { \\sigma^2_g } { \\sigma^2_g + \\sigma^2_e }\n",
    "\\end{align}\n",
    "$$"
   ]
  },
  {
   "cell_type": "markdown",
   "metadata": {},
   "source": [
    "With only centered genotypes, this is no longer so easy because $X_i$ aren't IID - the variance is a function of allele frequency.\n",
    "\n",
    "$$\n",
    "\\begin{align}\n",
    "\\Var \\left( Y \\right) & = \\Var \\left( \\sum X_i b_i + e \\right) \\\\\n",
    "  & = \\sum \\Var \\left( X_i b_i \\right) + \\Var \\left( e \\right) \\\\\n",
    "  & = \\sum \\Var \\left( X_i \\right) \\Var \\left( b_i \\right) + \\Var \\left( e \\right) \\\\\n",
    "  & = \\sum 2 p_i \\left( 1-p_i \\right) \\sigma^2_b + \\sigma^2_e \\\\\n",
    "\\end{align}\n",
    "$$"
   ]
  },
  {
   "cell_type": "code",
   "execution_count": 1,
   "metadata": {
    "collapsed": true
   },
   "outputs": [],
   "source": [
    "%run 'library.ipynb'"
   ]
  },
  {
   "cell_type": "code",
   "execution_count": 2,
   "metadata": {
    "collapsed": true
   },
   "outputs": [],
   "source": [
    "def test_phenotypic_variance(M=100, N=None):\n",
    "    if (N is None):\n",
    "        N = 10*M\n",
    "    \n",
    "    p = nr.uniform(0.05, 0.95, M)\n",
    "    G = np.array([nr.binomial(2,pi, N) for pi in p])\n",
    "    b = nr.normal(size=M)\n",
    "    Y = G.T.dot(b)\n",
    "    return(Y.var(), (2*p*(1-p)).sum())"
   ]
  },
  {
   "cell_type": "code",
   "execution_count": 3,
   "metadata": {
    "collapsed": false
   },
   "outputs": [],
   "source": [
    "nr.seed(0)\n",
    "runs = pd.DataFrame([test_phenotypic_variance() for i in range(1000)],\n",
    "                    columns=['empirical', 'theoretical'])"
   ]
  },
  {
   "cell_type": "code",
   "execution_count": 4,
   "metadata": {
    "collapsed": false
   },
   "outputs": [
    {
     "data": {
      "image/png": "[encoded data removed]",
      "text/plain": [
       "<matplotlib.figure.Figure at 0x52fe0b8>"
      ]
     },
     "metadata": {},
     "output_type": "display_data"
    }
   ],
   "source": [
    "runs.boxplot(return_type='axes')\n",
    "plt.show()"
   ]
  }
 ],
 "metadata": {
  "kernelspec": {
   "display_name": "Python 3",
   "language": "python",
   "name": "python3"
  },
  "language_info": {
   "codemirror_mode": {
    "name": "ipython",
    "version": 3
   },
   "file_extension": ".py",
   "mimetype": "text/x-python",
   "name": "python",
   "nbconvert_exporter": "python",
   "pygments_lexer": "ipython3",
   "version": "3.4.4"
  }
 },
 "nbformat": 4,
 "nbformat_minor": 0
}

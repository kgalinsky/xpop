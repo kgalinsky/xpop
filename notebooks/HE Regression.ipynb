{
 "cells": [
  {
   "cell_type": "code",
   "execution_count": 1,
   "metadata": {
    "collapsed": true
   },
   "outputs": [],
   "source": [
    "%run 'library.ipynb'"
   ]
  },
  {
   "cell_type": "code",
   "execution_count": 2,
   "metadata": {
    "collapsed": true
   },
   "outputs": [],
   "source": [
    "rho_b=0.8\n",
    "M=100\n",
    "R=(0.5, 0.2)\n",
    "K=(4, 2)\n",
    "causal=(True, False)\n",
    "N=None\n",
    "binomial=False"
   ]
  },
  {
   "cell_type": "code",
   "execution_count": 3,
   "metadata": {
    "collapsed": true
   },
   "outputs": [],
   "source": [
    "# set up the number of untyped/typed SNPs    \n",
    "if type(M) is int:\n",
    "    Ms = (M, M)\n",
    "else:\n",
    "    Ms = M\n",
    "\n",
    "Mtot = Ms[0] + Ms[1]\n",
    "\n",
    "if N is None:\n",
    "    N = 10*Mtot"
   ]
  },
  {
   "cell_type": "code",
   "execution_count": 4,
   "metadata": {
    "collapsed": true
   },
   "outputs": [],
   "source": [
    "# sample b_k\n",
    "bs = list()\n",
    "for (M, flag) in zip(Ms, causal):\n",
    "    if flag:\n",
    "        bs.append(multivariate_normal_sample(np.zeros(2), equicorrelation_matrix(rho_b), M).T)\n",
    "    else:\n",
    "        bs.append(np.zeros((2,M)))\n",
    "bs = np.concatenate(bs, 1)"
   ]
  },
  {
   "cell_type": "code",
   "execution_count": 5,
   "metadata": {
    "collapsed": true
   },
   "outputs": [],
   "source": [
    "# create Sigma\n",
    "Sigmas = np.array([\n",
    "    block_banded_matrix(r, Ms[0], Ms[1], k) for r, k in zip(R, K)\n",
    "])\n",
    "\n",
    "# sample ps and generate standard deviation\n",
    "ps = nr.uniform(0.05, 0.95, (2,2*M))\n",
    "Vs = 2*ps*(1-ps)\n",
    "sds = np.sqrt(Vs)\n",
    "\n",
    "# transform Sigmas to Ss\n",
    "Ss = np.array([\n",
    "    Sigma * sd[:, None] * sd[None, :]\n",
    "    for (Sigma, sd) in zip(Sigmas, sds)\n",
    "])"
   ]
  },
  {
   "cell_type": "code",
   "execution_count": null,
   "metadata": {
    "collapsed": true
   },
   "outputs": [],
   "source": [
    "# calculate true gs\n",
    "gs = np.array([\n",
    "    np.linalg.inv(S[Ms[0]:][:,Ms[0]:]).dot(S[Ms[0]:].dot(b))\n",
    "    for (S, b) in zip(Ss, bs)\n",
    "])\n",
    "\n",
    "# calculate rho_g/rho_b ratio\n",
    "ratio = tau(Ss[:,Ms[0]:]) / tau(Ss[:,Ms[0]:][:,:,Ms[0]:])"
   ]
  },
  {
   "cell_type": "code",
   "execution_count": 6,
   "metadata": {
    "collapsed": true
   },
   "outputs": [],
   "source": [
    "# sample genotypes\n",
    "if (binomial):\n",
    "    Xs = list()\n",
    "    for P, Sigma in zip(ps, Sigmas):\n",
    "        Z = multivariate_normal_sample(np.zeros(Mtot), Sigma, N)\n",
    "        Z = ss.norm().sf(Z)\n",
    "        G = np.array([ ss.binom(2, p).isf(z) for (p, z) in zip(P, Z.T) ])\n",
    "        Xs.append((G - np.mean(G, axis=1)[:,None]).T)\n",
    "    Xs = np.array(Xs)\n",
    "else:\n",
    "    Xs = np.array([\n",
    "        multivariate_normal_sample(np.zeros(Mtot), S, N)\n",
    "        for S in Ss\n",
    "    ])\n",
    "\n",
    "# generate phenotypes\n",
    "Ys = (Xs * bs[:,None,:]).sum(axis=2)"
   ]
  },
  {
   "cell_type": "code",
   "execution_count": 22,
   "metadata": {
    "collapsed": true
   },
   "outputs": [],
   "source": [
    "Gs = np.array([X + 2*p[None,:] for X, p in zip(Xs, ps)])"
   ]
  },
  {
   "cell_type": "code",
   "execution_count": 26,
   "metadata": {
    "collapsed": false
   },
   "outputs": [
    {
     "data": {
      "text/plain": [
       "(200,)"
      ]
     },
     "execution_count": 26,
     "metadata": {},
     "output_type": "execute_result"
    }
   ],
   "source": [
    "Gs[0].mean(axis=0).shape"
   ]
  },
  {
   "cell_type": "code",
   "execution_count": 47,
   "metadata": {
    "collapsed": false
   },
   "outputs": [
    {
     "data": {
      "text/plain": [
       "(200, 4000)"
      ]
     },
     "execution_count": 47,
     "metadata": {},
     "output_type": "execute_result"
    }
   ],
   "source": [
    "np.hstack([Xs[0].T, Xs[1].T]).shape"
   ]
  },
  {
   "cell_type": "code",
   "execution_count": 46,
   "metadata": {
    "collapsed": true
   },
   "outputs": [],
   "source": [
    "def he_regression(X, Y):\n",
    "    \"\"\"Perform Haseman-Elston regression.\n",
    "    \n",
    "    Arguments:\n",
    "    X -- Independent variables (M x N)\n",
    "    Y -- Dependent variable (N x 1)\n",
    "    \n",
    "    Returns:\n",
    "    h2g -- Heritability from typed SNPs\n",
    "    \"\"\"\n",
    "    Z = X - X.mean(axis=1)[:,None]\n",
    "    A = Z.T.dot(Z) / Z.shape[0]\n",
    "    B = Y[:,None].dot(Y[None,:])\n",
    "    return(np.triu(A*B,1).sum() / np.triu(A*A,1).sum())"
   ]
  },
  {
   "cell_type": "code",
   "execution_count": 42,
   "metadata": {
    "collapsed": false,
    "scrolled": false
   },
   "outputs": [
    {
     "data": {
      "text/plain": [
       "27.980116712096738"
      ]
     },
     "execution_count": 42,
     "metadata": {},
     "output_type": "execute_result"
    }
   ],
   "source": [
    "he_regression(Gs[0].T[Ms[0]:], Ys[0])"
   ]
  },
  {
   "cell_type": "code",
   "execution_count": 45,
   "metadata": {
    "collapsed": false
   },
   "outputs": [
    {
     "data": {
      "text/plain": [
       "array([  1.55518812e+00,   6.70676323e-01,   1.35453705e+00,\n",
       "         1.44662109e+00,   7.25080951e-01,   1.48483572e+00,\n",
       "         9.47188612e-01,   5.27009622e-01,   7.65813064e-01,\n",
       "         1.00563930e+00,   1.24617213e+00,   1.71679419e+00,\n",
       "         1.66921908e+00,   1.62652105e-01,   1.03204888e+00,\n",
       "         7.92544909e-01,   1.44110439e+00,   1.86523674e+00,\n",
       "         1.70820582e+00,   3.11296611e-01,   1.38740948e+00,\n",
       "         1.48785508e+00,   3.69199318e-01,   2.38667357e-01,\n",
       "         1.10425520e+00,   1.36178643e+00,   4.89522887e-01,\n",
       "         1.30998348e+00,   1.33109304e+00,   8.57598820e-01,\n",
       "         1.14824528e+00,   5.06324214e-01,   2.60672350e-01,\n",
       "         1.51371580e+00,   1.15607858e+00,   1.09258583e+00,\n",
       "         9.13564049e-01,   1.33994073e+00,   1.75258446e+00,\n",
       "         1.69029796e+00,   8.58391295e-01,   1.03604757e+00,\n",
       "         9.52927195e-01,   1.30897895e-01,   5.08766843e-01,\n",
       "         1.22069834e+00,   1.75679595e+00,   1.32836593e+00,\n",
       "         4.26457229e-01,   1.28244561e-01,   1.80866751e+00,\n",
       "         3.52829467e-01,   7.82111835e-01,   1.30820747e-01,\n",
       "         1.50222220e+00,   1.21904186e+00,   1.11471288e+00,\n",
       "         2.59072298e-01,   1.03435966e+00,   4.86910862e-01,\n",
       "         7.91593374e-01,   2.10131006e-01,   6.43337610e-01,\n",
       "         1.66252192e+00,   4.98341260e-01,   1.20678506e+00,\n",
       "         7.76410300e-01,   5.62718976e-01,   1.07950791e+00,\n",
       "         7.19970571e-01,   1.87472289e-01,   1.73617617e+00,\n",
       "         1.53620267e+00,   1.78594684e+00,   1.68297981e+00,\n",
       "         1.58281100e+00,   1.77891064e+00,   7.98859020e-01,\n",
       "         1.04565955e+00,   6.36831949e-01,   9.77266193e-01,\n",
       "         4.17793532e-01,   2.79092910e-01,   7.68704393e-01,\n",
       "         1.37620214e+00,   7.25056865e-01,   4.19179383e-01,\n",
       "         1.45257637e+00,   1.14642465e+00,   3.69438805e-01,\n",
       "         1.85084369e+00,   7.42266386e-01,   1.80688068e+00,\n",
       "         1.00870059e+00,   1.75429024e-01,   8.93576035e-01,\n",
       "         4.30580198e-01,   1.57097185e+00,   1.42562256e+00,\n",
       "         2.04526299e-01,   9.73221503e-16,   6.60582700e-17,\n",
       "        -1.59211533e-15,   2.41728859e-15,  -2.47746268e-16,\n",
       "         4.80449014e-16,  -4.37538894e-16,  -8.97282249e-16,\n",
       "        -4.65183447e-16,   1.10600418e-15,  -2.35922393e-17,\n",
       "         3.55271368e-18,   4.24460467e-15,  -4.45421477e-16,\n",
       "        -2.18436380e-16,   2.21378471e-15,   2.64260835e-16,\n",
       "        -1.45528034e-15,   2.44276821e-15,   2.96096481e-16,\n",
       "         2.20046203e-15,   2.19602114e-16,  -1.35960687e-16,\n",
       "         8.99835761e-16,  -1.22124533e-16,  -1.02307052e-16,\n",
       "         8.04800671e-16,   2.28483898e-16,   6.66910971e-16,\n",
       "         1.99668060e-15,  -1.11372023e-15,  -7.72382158e-16,\n",
       "        -4.86277685e-16,  -8.96283048e-16,  -9.81437154e-17,\n",
       "        -3.44058115e-16,  -6.64968081e-16,   2.02116102e-16,\n",
       "         5.54306601e-16,  -4.28157509e-16,  -4.64683847e-16,\n",
       "        -6.12954132e-16,   9.87376847e-16,  -4.18998169e-16,\n",
       "        -9.92261828e-17,   1.24844579e-16,  -4.53970195e-16,\n",
       "         1.56297197e-15,  -8.94728736e-16,   4.66071626e-16,\n",
       "        -1.77358128e-16,   1.53321800e-16,  -2.70811151e-16,\n",
       "        -1.15463195e-16,   1.31539224e-15,  -1.14175336e-15,\n",
       "        -1.56274993e-15,  -2.36033415e-16,  -3.54605234e-16,\n",
       "        -4.58300065e-16,  -2.00409134e-16,  -8.43214387e-16,\n",
       "        -1.99762429e-15,   2.43927101e-15,   1.97120098e-15,\n",
       "         1.78040915e-15,  -5.06344966e-16,   6.51867449e-16,\n",
       "        -4.38649117e-16,   1.13964393e-16,  -1.81010762e-15,\n",
       "         4.45143922e-16,   5.12645482e-16,  -3.87412324e-16,\n",
       "         2.66031641e-15,   1.11222143e-15,   6.95110636e-16,\n",
       "         6.76847467e-16,  -9.81437154e-17,   3.87939680e-16,\n",
       "        -4.31377156e-16,   2.65049094e-15,   2.23154828e-15,\n",
       "         1.83741911e-17,   1.53627111e-15,  -2.59237076e-16,\n",
       "        -4.50417481e-16,  -3.57969210e-15,   1.76364479e-15,\n",
       "        -6.54004628e-16,   4.32986980e-16,  -8.75743922e-16,\n",
       "         2.02859951e-15,   2.16993090e-16,  -4.52499149e-16,\n",
       "         5.99037486e-15,  -2.24043006e-16,  -3.56537022e-15,\n",
       "        -1.45877754e-15,   1.04791176e-16])"
      ]
     },
     "execution_count": 45,
     "metadata": {},
     "output_type": "execute_result"
    }
   ],
   "source": [
    "Gs[0].T.mean(axis=1)"
   ]
  },
  {
   "cell_type": "code",
   "execution_count": 40,
   "metadata": {
    "collapsed": false
   },
   "outputs": [
    {
     "data": {
      "text/plain": [
       "27.980116712096727"
      ]
     },
     "execution_count": 40,
     "metadata": {},
     "output_type": "execute_result"
    }
   ],
   "source": [
    "he_regression(Xs[0,:,Ms[0]:].T + ps[0,Ms[0]:,None], Ys[0])"
   ]
  },
  {
   "cell_type": "code",
   "execution_count": 41,
   "metadata": {
    "collapsed": false
   },
   "outputs": [
    {
     "data": {
      "text/plain": [
       "27.980116712096724"
      ]
     },
     "execution_count": 41,
     "metadata": {},
     "output_type": "execute_result"
    }
   ],
   "source": [
    "he_regression(Xs[0,:,Ms[0]:].T + ((ps[0] - ps[1])/2)[Ms[0]:,None], Ys[0])"
   ]
  },
  {
   "cell_type": "code",
   "execution_count": null,
   "metadata": {
    "collapsed": true
   },
   "outputs": [],
   "source": []
  },
  {
   "cell_type": "code",
   "execution_count": 36,
   "metadata": {
    "collapsed": false
   },
   "outputs": [
    {
     "data": {
      "text/plain": [
       "array([[ 0.04835764, -0.09580168,  0.70489909, ...,  0.13276354,\n",
       "        -0.50972953, -0.70252572],\n",
       "       [ 0.0800602 , -0.32189834, -0.0328658 , ..., -0.58930853,\n",
       "         0.10583475, -0.46241226],\n",
       "       [ 0.90451741,  0.33585316,  0.31562319, ..., -0.77806385,\n",
       "        -0.15071713, -0.15961697],\n",
       "       ..., \n",
       "       [ 0.26209567, -0.3021741 , -0.46873677, ...,  0.54916924,\n",
       "         0.16117034,  1.04998977],\n",
       "       [ 1.55134549, -1.02055744, -0.97546471, ..., -0.83330304,\n",
       "         0.14242671, -0.40624623],\n",
       "       [-0.19111681, -0.36773167, -0.49133476, ..., -0.70668771,\n",
       "        -0.45467937, -0.21791507]])"
      ]
     },
     "execution_count": 36,
     "metadata": {},
     "output_type": "execute_result"
    }
   ],
   "source": [
    "Xs[0,:,Ms[0]:].T + (ps[0,Ms[0]:,None] - ps[1,Ms[0]:,None])/2"
   ]
  },
  {
   "cell_type": "code",
   "execution_count": 14,
   "metadata": {
    "collapsed": false
   },
   "outputs": [
    {
     "data": {
      "text/plain": [
       "array([[ 0.06826799, -0.07589133,  0.72480943, ...,  0.15267388,\n",
       "        -0.48981918, -0.68261537],\n",
       "       [ 0.08485845, -0.31710009, -0.02806755, ..., -0.58451028,\n",
       "         0.110633  , -0.45761402],\n",
       "       [ 0.84762065,  0.2789564 ,  0.25872643, ..., -0.83496061,\n",
       "        -0.20761389, -0.21651373],\n",
       "       ..., \n",
       "       [ 0.31023436, -0.2540354 , -0.42059807, ...,  0.59730794,\n",
       "         0.20930903,  1.09812846],\n",
       "       [ 1.4343482 , -1.13755472, -1.092462  , ..., -0.95030032,\n",
       "         0.02542942, -0.52324352],\n",
       "       [ 0.00788068, -0.16873418, -0.29233727, ..., -0.50769022,\n",
       "        -0.25568189, -0.01891758]])"
      ]
     },
     "execution_count": 14,
     "metadata": {},
     "output_type": "execute_result"
    }
   ],
   "source": [
    "Xs[0,:,Ms[0]:].T"
   ]
  },
  {
   "cell_type": "code",
   "execution_count": 12,
   "metadata": {
    "collapsed": false
   },
   "outputs": [
    {
     "data": {
      "text/plain": [
       "(2, 200)"
      ]
     },
     "execution_count": 12,
     "metadata": {},
     "output_type": "execute_result"
    }
   ],
   "source": [
    "ps.shape"
   ]
  },
  {
   "cell_type": "code",
   "execution_count": null,
   "metadata": {
    "collapsed": true
   },
   "outputs": [],
   "source": [
    "# calculate ghat\n",
    "ghats = np.array([\n",
    "    np.linalg.inv(X.T[Ms[0]:].dot(X[:,Ms[0]:])).dot(X.T[Ms[0]:].dot(Y))\n",
    "    for (X, Y) in zip(Xs, Ys)\n",
    "])\n",
    "\n",
    "# HE regression\n",
    "rho_hat = he_regression_bivar(Xs[0,:,Ms[0]:].T, Xs[1,:,Ms[0]:].T, Ys[0], Ys[1])[2]\n",
    "\n",
    "return({\n",
    "    'cor(g1,g2)'        : np.corrcoef(gs)[0,1],\n",
    "    'cor(g1hat, g2hat)' : np.corrcoef(ghats)[0,1],\n",
    "    'rho_g_HE'          : rho_hat,\n",
    "    'rho_g'             : rho_b * ratio\n",
    "})"
   ]
  },
  {
   "cell_type": "code",
   "execution_count": 1,
   "metadata": {
    "collapsed": true
   },
   "outputs": [],
   "source": [
    "import numpy as np\n",
    "import pandas as pd"
   ]
  },
  {
   "cell_type": "markdown",
   "metadata": {},
   "source": [
    "### Read data"
   ]
  },
  {
   "cell_type": "code",
   "execution_count": 2,
   "metadata": {
    "collapsed": false
   },
   "outputs": [],
   "source": [
    "ID = pd.read_table('../phase2/HE/eas.eur.22.1k.001.rand.ncl.grm.id', names=['FID', 'IID'])"
   ]
  },
  {
   "cell_type": "code",
   "execution_count": 3,
   "metadata": {
    "collapsed": true
   },
   "outputs": [],
   "source": [
    "M = ID.FID.count()"
   ]
  },
  {
   "cell_type": "code",
   "execution_count": 4,
   "metadata": {
    "collapsed": false
   },
   "outputs": [],
   "source": [
    "phen = pd.read_table(\n",
    "    '../phase2/HE/eas.eur.22.1k.0_5.0_5.001.rand.phen2',\n",
    "    names=['FID', 'IID', 'phen1', 'phen2'],\n",
    "    sep=' ', index_col=[0,1]\n",
    ")"
   ]
  },
  {
   "cell_type": "code",
   "execution_count": 5,
   "metadata": {
    "collapsed": false,
    "scrolled": true
   },
   "outputs": [],
   "source": [
    "# reorder the phenotypes to match the GRM\n",
    "phen = phen.reindex(ID)"
   ]
  },
  {
   "cell_type": "code",
   "execution_count": 6,
   "metadata": {
    "collapsed": true
   },
   "outputs": [],
   "source": [
    "phen.phen1 = (phen.phen1 - phen.phen1.mean()) / phen.phen1.std()\n",
    "phen.phen2 = (phen.phen2 - phen.phen2.mean()) / phen.phen2.std()"
   ]
  },
  {
   "cell_type": "code",
   "execution_count": 7,
   "metadata": {
    "collapsed": false
   },
   "outputs": [],
   "source": [
    "g = np.fromfile('../phase2/HE/eas.eur.22.1k.001.rand.ncl.grm.bin', 'float32')"
   ]
  },
  {
   "cell_type": "code",
   "execution_count": 8,
   "metadata": {
    "collapsed": false
   },
   "outputs": [],
   "source": [
    "G = np.empty((M,M))"
   ]
  },
  {
   "cell_type": "code",
   "execution_count": 9,
   "metadata": {
    "collapsed": true
   },
   "outputs": [],
   "source": [
    "a = []\n",
    "b = []\n",
    "for i in range(M):\n",
    "    a.extend([i]*(i+1))\n",
    "    b.extend(range(i+1))\n",
    "a = np.array(a)\n",
    "b = np.array(b)"
   ]
  },
  {
   "cell_type": "code",
   "execution_count": 10,
   "metadata": {
    "collapsed": false
   },
   "outputs": [],
   "source": [
    "G[a,b] = g\n",
    "G[b,a] = g"
   ]
  },
  {
   "cell_type": "markdown",
   "metadata": {},
   "source": [
    "### Create the masks"
   ]
  },
  {
   "cell_type": "code",
   "execution_count": 11,
   "metadata": {
    "collapsed": false
   },
   "outputs": [],
   "source": [
    "mask1 = np.isnan(phen.phen2).values\n",
    "mask2 = np.isnan(phen.phen1).values"
   ]
  },
  {
   "cell_type": "markdown",
   "metadata": {},
   "source": [
    "### Create the phenotype matrix"
   ]
  },
  {
   "cell_type": "code",
   "execution_count": 12,
   "metadata": {
    "collapsed": false
   },
   "outputs": [],
   "source": [
    "Y11 = phen.phen1[mask1].reshape((-1,1)).dot(phen.phen1[mask1].reshape((1,-1)))\n",
    "Y22 = phen.phen2[mask2].reshape((-1,1)).dot(phen.phen2[mask2].reshape((1,-1)))\n",
    "Y12 = phen.phen1[mask1].reshape((-1,1)).dot(phen.phen2[mask2].reshape((1,-1)))"
   ]
  },
  {
   "cell_type": "markdown",
   "metadata": {},
   "source": [
    "### HE regression"
   ]
  },
  {
   "cell_type": "code",
   "execution_count": 13,
   "metadata": {
    "collapsed": false
   },
   "outputs": [],
   "source": [
    "h1  = np.multiply( np.triu(G[mask1][:,mask1],1), np.triu(Y11,1) ).sum() / np.triu(G[mask1][:,mask1]**2).sum()\n",
    "h2  = np.multiply( np.triu(G[mask2][:,mask2],1), np.triu(Y22,1) ).sum() / np.triu(G[mask2][:,mask2]**2).sum()\n",
    "h12 = np.multiply( G[mask1][:,mask2], Y12 ).sum() / (G[mask1][:,mask2]**2).sum()"
   ]
  },
  {
   "cell_type": "code",
   "execution_count": 14,
   "metadata": {
    "collapsed": false
   },
   "outputs": [
    {
     "data": {
      "text/plain": [
       "(0.024985925112624683, 0.024647999225060883, 0.015137083271384284)"
      ]
     },
     "execution_count": 14,
     "metadata": {},
     "output_type": "execute_result"
    }
   ],
   "source": [
    "(h1, h2, h12)"
   ]
  },
  {
   "cell_type": "code",
   "execution_count": 15,
   "metadata": {
    "collapsed": false
   },
   "outputs": [
    {
     "data": {
      "text/plain": [
       "0.60996321836434741"
      ]
     },
     "execution_count": 15,
     "metadata": {},
     "output_type": "execute_result"
    }
   ],
   "source": [
    "h12 / np.sqrt(h1*h2)"
   ]
  }
 ],
 "metadata": {
  "kernelspec": {
   "display_name": "Python 3",
   "language": "python",
   "name": "python3"
  },
  "language_info": {
   "codemirror_mode": {
    "name": "ipython",
    "version": 3
   },
   "file_extension": ".py",
   "mimetype": "text/x-python",
   "name": "python",
   "nbconvert_exporter": "python",
   "pygments_lexer": "ipython3",
   "version": "3.4.4"
  }
 },
 "nbformat": 4,
 "nbformat_minor": 0
}

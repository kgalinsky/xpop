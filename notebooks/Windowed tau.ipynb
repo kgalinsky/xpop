{
 "cells": [
  {
   "cell_type": "markdown",
   "metadata": {},
   "source": [
    "$$\n",
    "r^2_{adj} = \\hat{r}^2 - \\frac { 1 - \\hat{r}^2 } { N - 2 }\n",
    "$$"
   ]
  },
  {
   "cell_type": "code",
   "execution_count": 1,
   "metadata": {
    "collapsed": true
   },
   "outputs": [],
   "source": [
    "import numpy as np\n",
    "import numpy.random as nr\n",
    "import pandas as pd"
   ]
  },
  {
   "cell_type": "code",
   "execution_count": 2,
   "metadata": {
    "collapsed": true
   },
   "outputs": [],
   "source": [
    "def tau(Ss):\n",
    "    return(\n",
    "        np.sum(Ss[0]*Ss[1]) /\n",
    "        np.sqrt(\n",
    "            np.sum(Ss[0]*Ss[0]) *\n",
    "            np.sum(Ss[1]*Ss[1])\n",
    "        )\n",
    "    )"
   ]
  },
  {
   "cell_type": "code",
   "execution_count": 3,
   "metadata": {
    "collapsed": true
   },
   "outputs": [],
   "source": [
    "def read_LD(filename):\n",
    "    Sigma = np.fromfile(filename, 'double', -1, '')\n",
    "    M = int(np.sqrt(Sigma.shape[0]))\n",
    "    return Sigma.reshape((M,M))"
   ]
  },
  {
   "cell_type": "code",
   "execution_count": 4,
   "metadata": {
    "collapsed": false
   },
   "outputs": [],
   "source": [
    "def banded_from(X, k):\n",
    "    Y = X.copy()\n",
    "    Y[np.triu_indices_from(Y, k)] = 0\n",
    "    Y[np.tril_indices_from(Y, -k)] = 0\n",
    "    return(Y)"
   ]
  },
  {
   "cell_type": "code",
   "execution_count": 5,
   "metadata": {
    "collapsed": true
   },
   "outputs": [],
   "source": [
    "pops  = ['eas', 'eur']\n",
    "chrom = 22\n",
    "files = [ '../phase2/ld/%s.%d.S.bin' % (pop, chrom) for pop in pops]\n",
    "Sigma_pair = np.array([ read_LD(f) for f in files ])"
   ]
  },
  {
   "cell_type": "code",
   "execution_count": 6,
   "metadata": {
    "collapsed": true
   },
   "outputs": [],
   "source": [
    "Ns = [ 4862, 59844 ]"
   ]
  },
  {
   "cell_type": "code",
   "execution_count": null,
   "metadata": {
    "collapsed": true
   },
   "outputs": [],
   "source": [
    "def adjust_r2 (S, n):"
   ]
  },
  {
   "cell_type": "code",
   "execution_count": 10,
   "metadata": {
    "collapsed": false
   },
   "outputs": [
    {
     "data": {
      "text/plain": [
       "array([[  2.45295945e-01,   1.69717539e-04,   9.05590043e-04, ...,\n",
       "         -6.03996902e-05,  -1.85908401e-04,  -2.05657895e-04],\n",
       "       [  1.69717539e-04,   2.29427332e-01,   1.73254850e-02, ...,\n",
       "         -2.05489327e-04,  -1.97779290e-04,  -1.94973753e-04],\n",
       "       [  9.05590043e-04,   1.73254850e-02,   3.95537736e-02, ...,\n",
       "         -2.05726821e-04,  -1.73692574e-04,  -2.04178021e-04],\n",
       "       ..., \n",
       "       [ -6.03996902e-05,  -2.05489327e-04,  -2.05726821e-04, ...,\n",
       "          1.60975047e-01,   1.43057562e-02,  -1.64138018e-04],\n",
       "       [ -1.85908401e-04,  -1.97779290e-04,  -1.73692574e-04, ...,\n",
       "          1.43057562e-02,   2.35568509e-01,   1.26414439e-05],\n",
       "       [ -2.05657895e-04,  -1.94973753e-04,  -2.04178021e-04, ...,\n",
       "         -1.64138018e-04,   1.26414439e-05,   3.08435038e-03]])"
      ]
     },
     "execution_count": 10,
     "metadata": {},
     "output_type": "execute_result"
    }
   ],
   "source": [
    "Sigma_pair[0]**2 - (1-Sigma_pair[0]**2)/(Ns[0]-2)"
   ]
  },
  {
   "cell_type": "code",
   "execution_count": null,
   "metadata": {
    "collapsed": true
   },
   "outputs": [],
   "source": [
    "def run_test(Sigma_pair, chrom=22, M_T = 500, ks = [1000, 500, 200, 100, 50, 20, 10, 5], reps=100):\n",
    "    Sigma_pairs = list()\n",
    "    Sigma_pairs.append(Sigma_pair)\n",
    "\n",
    "    ks = [1000, 500, 200, 100, 50, 20, 10, 5]\n",
    "\n",
    "    for k in ks:\n",
    "        Sigma_pairs.append(np.array([banded_from(S, k) for S in Sigma_pair]))\n",
    "\n",
    "    M = Sigma_pair.shape[1]\n",
    "\n",
    "    results = list()\n",
    "\n",
    "    for r in range(reps):\n",
    "        typed = nr.choice(M, M_T, replace=False)\n",
    "        mask  = np.zeros(M, dtype='bool')\n",
    "        mask[typed] = True\n",
    "        results.append([tau(S[:,mask]) / tau(S[:,mask][:,:,mask]) for S in Sigma_pairs ])\n",
    "\n",
    "    return( pd.DataFrame(results, columns=('all', *ks)) )"
   ]
  },
  {
   "cell_type": "code",
   "execution_count": null,
   "metadata": {
    "collapsed": true
   },
   "outputs": [],
   "source": [
    "import matplotlib.pyplot as plt\n",
    "%matplotlib inline"
   ]
  },
  {
   "cell_type": "code",
   "execution_count": null,
   "metadata": {
    "collapsed": false
   },
   "outputs": [],
   "source": [
    "axes = run_test(M_T=200).boxplot(return_type='axes')\n",
    "plt.show()"
   ]
  },
  {
   "cell_type": "code",
   "execution_count": null,
   "metadata": {
    "collapsed": false
   },
   "outputs": [],
   "source": [
    "axes = run_test().boxplot(return_type='axes')\n",
    "plt.show()"
   ]
  },
  {
   "cell_type": "code",
   "execution_count": null,
   "metadata": {
    "collapsed": false,
    "scrolled": false
   },
   "outputs": [],
   "source": [
    "axes = run_test(M_T=1000).boxplot(return_type='axes')\n",
    "plt.show()"
   ]
  },
  {
   "cell_type": "code",
   "execution_count": null,
   "metadata": {
    "collapsed": false,
    "scrolled": true
   },
   "outputs": [],
   "source": [
    "axes = run_test(M_T=200, chrom=15, ks=[10, 100, 1000]).boxplot(return_type='axes')\n",
    "plt.show()"
   ]
  },
  {
   "cell_type": "code",
   "execution_count": null,
   "metadata": {
    "collapsed": false
   },
   "outputs": [],
   "source": [
    "axes = run_test(M_T=500, chrom=15).boxplot(return_type='axes')\n",
    "plt.show()"
   ]
  },
  {
   "cell_type": "code",
   "execution_count": null,
   "metadata": {
    "collapsed": false
   },
   "outputs": [],
   "source": [
    "axes = run_test(M_T=1000, chrom=15).boxplot(return_type='axes')\n",
    "plt.show()"
   ]
  }
 ],
 "metadata": {
  "anaconda-cloud": {},
  "kernelspec": {
   "display_name": "Python [default]",
   "language": "python",
   "name": "python3"
  },
  "language_info": {
   "codemirror_mode": {
    "name": "ipython",
    "version": 3
   },
   "file_extension": ".py",
   "mimetype": "text/x-python",
   "name": "python",
   "nbconvert_exporter": "python",
   "pygments_lexer": "ipython3",
   "version": "3.5.2"
  }
 },
 "nbformat": 4,
 "nbformat_minor": 1
}

{
 "cells": [
  {
   "cell_type": "markdown",
   "metadata": {},
   "source": [
    "# Theory\n",
    "\n",
    "Let the centered genotype matrix $X = \\left( \\begin{array}{c} X_U \\\\ X_T \\end{array} \\right)$\n",
    "where $X$ has dimension $M \\times N$,\n",
    "the untyped SNP matrix $X_U$ has dimension $M_U \\times N$\n",
    "and typed SNP matrix $X_T$ has dimension $M_T \\times N$ and $M=M_U+M_T$.\n",
    "\n",
    "Let $S$ be the $M \\times M$ LD matrix defined as $S=\\lim_{N \\rightarrow \\infty} N^{-1}XX^T$.\n",
    "$S$ can be further broken down as the LD between and within typed and untyped SNPs as\n",
    "$S=\\left( \\begin{array}{cc} S_{UU} & S_{UT} \\\\ S_{TU} & S_{TT} \\end{array} \\right)$.\n",
    "\n",
    "We can now relate the true causal per-allele effect sizes $b$ and the joint per-allele effect sizes $g$.\n",
    "\n",
    "$$\n",
    "\\begin{align}\n",
    "Y & = X_A^T b + e_b \\\\\n",
    "  & = X_T^T g + e_g \\\\\n",
    "\\hat{g} & = \\left( X_T X_T^T \\right)^{-1} X_T X_A^T b \\\\\n",
    "g & = \\lim_{N \\rightarrow \\infty} \\hat{g} = S_{TT} S_{TA} b \\\\\n",
    "b & = S_{TA}^{-1} S_{TT}^{-1} g \\\\ \\\\\n",
    "S_{TA} & = UDV^T \\\\\n",
    "S_{TA}^{-1} & = VD^{-1}U^T \\\\\n",
    "S_{TA}^{-1}S_{TA} & = I\n",
    "\\end{align}\n",
    "$$\n",
    "\n",
    "# Simulation\n",
    "\n",
    "1. Simulate $S_1$ and $S_2$ from a $W_M(\\Sigma,n)/n$ distribution\n",
    "    * $M$ is the total number of SNPs\n",
    "    * $\\Sigma$ is the target LD matrix - have it be a banded matrix with some gradual LD falloff\n",
    "    * $n$ is tricky - as $n$ increases, $S$ becomes tighter around $\\Sigma$.\n",
    "1. Simulate $X_q$ from a $N\\left(0,S_q\\right)$\n",
    "1. Separate $X_{qT}$ and $X_{qU}$\n",
    "1. Simulate $b_1$ and $b_2$ from a $N\\left[0, \\left( \\begin{array}{cc} 1 & \\rho \\\\ \\rho & 1 \\end{array} \\right)\\right]$ for causal alleles, 0 otherwise\n",
    "1. Calculate $g_q=S_{qTT} S_{qTA} b_q$\n",
    "1. Calculate $Y_q=X^Tb_q$\n",
    "1. Calculate $\\hat{g}_q=(X_{qT} X_{qT}^T)^{-1}X_{qT}Y_q$\n",
    "1. Calculate $\\hat{b}_q=S_{TA}^{-1} S_{TT}^{-1} \\hat{g}_q$\n",
    "1. Compare $g_q$ and $\\hat{g}_q$\n",
    "1. Compare $\\rho$, $\\rho\\left(b_1,b_2\\right)$ and $\\rho\\left(\\hat{b}_1,\\hat{b}_2\\right)$"
   ]
  },
  {
   "cell_type": "code",
   "execution_count": 1,
   "metadata": {
    "collapsed": true
   },
   "outputs": [],
   "source": [
    "import numpy as np\n",
    "import numpy.random as nr\n",
    "import scipy.stats as ss"
   ]
  },
  {
   "cell_type": "code",
   "execution_count": 7,
   "metadata": {
    "collapsed": true
   },
   "outputs": [],
   "source": [
    "Mu = 50        # untyped SNPs\n",
    "Mt = 50        # typed SNPs\n",
    "M  = Mu + Mt   # total SNPs\n",
    "\n",
    "N = 1000       # samples\n",
    "\n",
    "Mc = 10        # causal SNPs\n",
    "rho = 0.7      # effect size correlation"
   ]
  },
  {
   "cell_type": "markdown",
   "metadata": {},
   "source": [
    "## 1. Simulate $S_q$s"
   ]
  },
  {
   "cell_type": "code",
   "execution_count": 8,
   "metadata": {
    "collapsed": true
   },
   "outputs": [],
   "source": [
    "def generate_sigma(M=100, r=0.2, k=5):\n",
    "    Sigma = np.diag([0.5]*M)\n",
    "    rk = 1\n",
    "    for i in range(1,k+1):\n",
    "        rk = rk*r\n",
    "        Sigma += np.diag([rk]*(M-i), i)\n",
    "    Sigma += Sigma.T\n",
    "    return(Sigma)"
   ]
  },
  {
   "cell_type": "code",
   "execution_count": 9,
   "metadata": {
    "collapsed": true
   },
   "outputs": [],
   "source": [
    "Sigma = generate_sigma(M)"
   ]
  },
  {
   "cell_type": "code",
   "execution_count": 10,
   "metadata": {
    "collapsed": false
   },
   "outputs": [],
   "source": [
    "n = 1000\n",
    "S = ss.wishart.rvs(n, Sigma, 2) / n"
   ]
  },
  {
   "cell_type": "code",
   "execution_count": 11,
   "metadata": {
    "collapsed": false,
    "scrolled": true
   },
   "outputs": [
    {
     "name": "stdout",
     "output_type": "stream",
     "text": [
      "3.13864754977 3.19548895367 4.49800347204\n"
     ]
    }
   ],
   "source": [
    "print(np.linalg.norm(Sigma - S[0]),\n",
    "      np.linalg.norm(Sigma - S[1]),\n",
    "      np.linalg.norm(S[0] - S[1]))"
   ]
  },
  {
   "cell_type": "markdown",
   "metadata": {},
   "source": [
    "## 2. Simulate $X_q$s"
   ]
  },
  {
   "cell_type": "code",
   "execution_count": 12,
   "metadata": {
    "collapsed": false
   },
   "outputs": [],
   "source": [
    "mu = np.zeros(M)"
   ]
  },
  {
   "cell_type": "code",
   "execution_count": 13,
   "metadata": {
    "collapsed": false
   },
   "outputs": [],
   "source": [
    "X = np.array([[nr.multivariate_normal(mu, s) for i in range(N)] for s in S])"
   ]
  },
  {
   "cell_type": "code",
   "execution_count": 14,
   "metadata": {
    "collapsed": false
   },
   "outputs": [
    {
     "data": {
      "text/plain": [
       "(2, 1000, 100)"
      ]
     },
     "execution_count": 14,
     "metadata": {},
     "output_type": "execute_result"
    }
   ],
   "source": [
    "X.shape"
   ]
  },
  {
   "cell_type": "markdown",
   "metadata": {},
   "source": [
    "## 3. Partition typed and untyped SNPs"
   ]
  },
  {
   "cell_type": "code",
   "execution_count": 15,
   "metadata": {
    "collapsed": false
   },
   "outputs": [],
   "source": [
    "SNPs = nr.permutation(M)\n",
    "untyped = np.sort(SNPs[:Mu])\n",
    "typed   = np.sort(SNPs[Mu:])"
   ]
  },
  {
   "cell_type": "markdown",
   "metadata": {},
   "source": [
    "## 4. Simulate causal effect sizes"
   ]
  },
  {
   "cell_type": "code",
   "execution_count": 16,
   "metadata": {
    "collapsed": false
   },
   "outputs": [],
   "source": [
    "causal = np.sort(nr.permutation(M)[:Mc])"
   ]
  },
  {
   "cell_type": "code",
   "execution_count": 42,
   "metadata": {
    "collapsed": false
   },
   "outputs": [],
   "source": [
    "B = np.zeros((2,M))\n",
    "for i in causal:\n",
    "    B.T[i] = nr.multivariate_normal([0,0], [[1,rho],[rho,1]])"
   ]
  },
  {
   "cell_type": "markdown",
   "metadata": {},
   "source": [
    "## 5. Calculate true joint effect sizes"
   ]
  },
  {
   "cell_type": "code",
   "execution_count": 43,
   "metadata": {
    "collapsed": false
   },
   "outputs": [],
   "source": [
    "G = np.array([np.linalg.inv(s[typed][:,typed]).dot(s[typed].dot(b))\n",
    "              for b, s in zip(B, S)])"
   ]
  },
  {
   "cell_type": "markdown",
   "metadata": {},
   "source": [
    "### 5b. Go back"
   ]
  },
  {
   "cell_type": "code",
   "execution_count": 47,
   "metadata": {
    "collapsed": false
   },
   "outputs": [],
   "source": [
    "def g2b (b, s, g):\n",
    "    (u, d, v) = np.linalg.svd(s[typed])\n",
    "    stt = s[typed][:,typed]\n",
    "    return(v[:,:50].dot(u.T.dot(np.linalg.inv(stt).dot(g))/d))"
   ]
  },
  {
   "cell_type": "code",
   "execution_count": 53,
   "metadata": {
    "collapsed": true
   },
   "outputs": [],
   "source": [
    "B2 = np.array([g2b(b, s, g) for b, s, g in zip(B, S, G)])"
   ]
  },
  {
   "cell_type": "code",
   "execution_count": 52,
   "metadata": {
    "collapsed": false
   },
   "outputs": [
    {
     "data": {
      "text/plain": [
       "array([[ 1.        ,  0.78683807],\n",
       "       [ 0.78683807,  1.        ]])"
      ]
     },
     "execution_count": 52,
     "metadata": {},
     "output_type": "execute_result"
    }
   ],
   "source": [
    "np.corrcoef(B)"
   ]
  },
  {
   "cell_type": "code",
   "execution_count": 54,
   "metadata": {
    "collapsed": false
   },
   "outputs": [
    {
     "data": {
      "text/plain": [
       "array([[ 1.        ,  0.08453754],\n",
       "       [ 0.08453754,  1.        ]])"
      ]
     },
     "execution_count": 54,
     "metadata": {},
     "output_type": "execute_result"
    }
   ],
   "source": [
    "np.corrcoef(B2)"
   ]
  },
  {
   "cell_type": "code",
   "execution_count": 24,
   "metadata": {
    "collapsed": false
   },
   "outputs": [],
   "source": [
    "(u, d, v) = np.linalg.svd(s[typed])"
   ]
  },
  {
   "cell_type": "code",
   "execution_count": 35,
   "metadata": {
    "collapsed": false,
    "scrolled": true
   },
   "outputs": [],
   "source": [
    "stt = s[typed][:,typed]"
   ]
  },
  {
   "cell_type": "code",
   "execution_count": 40,
   "metadata": {
    "collapsed": false
   },
   "outputs": [
    {
     "data": {
      "text/plain": [
       "array([  2.57836488e-01,  -5.03353016e-01,  -6.74171646e-01,\n",
       "         9.67312671e-01,   5.39995439e-01,  -1.44419267e-01,\n",
       "         3.59253998e-01,  -4.40325784e-01,   1.24375478e-01,\n",
       "        -4.62865664e-01,  -1.04344681e+00,  -5.42789639e-01,\n",
       "         6.99869292e-01,   3.75447955e-01,   5.62582552e-01,\n",
       "         4.91451043e-01,  -2.68739176e-01,   1.05391450e+00,\n",
       "         1.93367905e-01,  -4.60093562e-01,   8.23876205e-01,\n",
       "        -1.48639871e+00,   4.51321505e-01,  -1.01277307e-02,\n",
       "         1.92588355e-01,   1.14356705e-01,  -2.15369403e-01,\n",
       "         9.47621536e-03,   2.48750261e-01,  -6.68955089e-02,\n",
       "        -1.90201964e-03,   4.22963212e-02,  -5.21775674e-01,\n",
       "        -4.07094638e-01,   3.01536692e-01,   3.23549652e-01,\n",
       "        -6.90348987e-01,  -1.14263164e+00,   3.86987963e-01,\n",
       "        -2.70725956e-01,   6.81852305e-01,  -5.07300971e-01,\n",
       "        -6.07754343e-03,   5.19482471e-01,   1.10973252e-01,\n",
       "        -2.12222578e-01,   9.03953278e-01,   2.17125636e-01,\n",
       "         2.96827193e-01,   4.17503074e-01,   4.56361367e-01,\n",
       "         1.55730430e-01,  -7.47250372e-02,  -1.33564310e-02,\n",
       "         2.09941289e-01,  -1.82689838e-01,  -2.73112444e-01,\n",
       "        -1.04718163e-02,  -2.08277474e-02,  -1.37271760e-01,\n",
       "        -1.70472435e-02,   5.35239734e-01,  -5.11822630e-02,\n",
       "        -9.27732325e-02,  -2.76217133e-02,   1.19596682e-01,\n",
       "        -3.26302635e-01,  -7.30062384e-01,   4.69903609e-02,\n",
       "        -1.33182176e-03,  -3.46854614e-01,  -3.65372891e-01,\n",
       "        -1.61290474e-01,  -1.99417721e-01,   1.37751708e-01,\n",
       "         6.83159185e-01,   4.00741727e-02,  -3.18816130e-01,\n",
       "         7.77021043e-05,  -8.87297637e-02,  -5.87503387e-02,\n",
       "         5.36419261e-02,  -3.40234488e-01,   9.88752914e-02,\n",
       "        -1.56869622e-01,  -1.05511206e-01,   1.02786611e+00,\n",
       "        -5.73665358e-02,   5.63065993e-02,   7.84268421e-02,\n",
       "         5.20130819e-01,  -4.49099278e-02,  -3.51738798e-01,\n",
       "         2.29319049e-01,  -1.87448400e-01,  -1.53614571e-01,\n",
       "         3.51913077e-01,  -3.81900639e-02,  -1.14275227e-01,\n",
       "        -5.48744543e-02])"
      ]
     },
     "execution_count": 40,
     "metadata": {},
     "output_type": "execute_result"
    }
   ],
   "source": [
    "v[:,:50].dot(u.T.dot(np.linalg.inv(stt).dot(g))/d)"
   ]
  },
  {
   "cell_type": "code",
   "execution_count": null,
   "metadata": {
    "collapsed": true
   },
   "outputs": [],
   "source": []
  },
  {
   "cell_type": "markdown",
   "metadata": {},
   "source": [
    "## 6. Calculate phenotypes"
   ]
  },
  {
   "cell_type": "code",
   "execution_count": 93,
   "metadata": {
    "collapsed": false
   },
   "outputs": [],
   "source": [
    "Y = np.array([x.dot(b) for x, b in zip(X, B.T)])"
   ]
  },
  {
   "cell_type": "code",
   "execution_count": 101,
   "metadata": {
    "collapsed": false
   },
   "outputs": [],
   "source": [
    "Y -= Y.mean(axis=1)[:,np.newaxis]"
   ]
  },
  {
   "cell_type": "markdown",
   "metadata": {},
   "source": [
    "## 7. Calculate join effect estimates"
   ]
  },
  {
   "cell_type": "code",
   "execution_count": 114,
   "metadata": {
    "collapsed": false
   },
   "outputs": [],
   "source": [
    "Ghat = [np.linalg.inv(x.T[typed].dot(x[:,typed])).dot(x.T[typed].dot(y))\n",
    "        for x, y in zip(X, Y)]"
   ]
  },
  {
   "cell_type": "code",
   "execution_count": 116,
   "metadata": {
    "collapsed": false
   },
   "outputs": [
    {
     "data": {
      "text/plain": [
       "array([[ 1.        ,  0.30893579,  0.96279323,  0.45669473],\n",
       "       [ 0.30893579,  1.        ,  0.45626239,  0.89669926],\n",
       "       [ 0.96279323,  0.45626239,  1.        ,  0.58283572],\n",
       "       [ 0.45669473,  0.89669926,  0.58283572,  1.        ]])"
      ]
     },
     "execution_count": 116,
     "metadata": {},
     "output_type": "execute_result"
    }
   ],
   "source": [
    "np.corrcoef(Ghat, G)"
   ]
  },
  {
   "cell_type": "code",
   "execution_count": null,
   "metadata": {
    "collapsed": true
   },
   "outputs": [],
   "source": [
    "P = nr.uniform(0.05, 0.5, M)\n",
    "V = np.diag(2*P*(1-P))"
   ]
  },
  {
   "cell_type": "code",
   "execution_count": null,
   "metadata": {
    "collapsed": false,
    "scrolled": true
   },
   "outputs": [],
   "source": [
    "def LD_matrix(M=100, r=0.2, k=5):\n",
    "    Sigma = np.diag([0.5]*M)\n",
    "    rk = 1\n",
    "    for i in range(1,k+1):\n",
    "        rk = rk*r\n",
    "        Sigma += np.diag([rk]*(M-i), i)\n",
    "    Sigma += Sigma.T\n",
    "    return(Sigma)"
   ]
  },
  {
   "cell_type": "code",
   "execution_count": null,
   "metadata": {
    "collapsed": false
   },
   "outputs": [],
   "source": [
    "Sigma = LD_matrix()"
   ]
  },
  {
   "cell_type": "code",
   "execution_count": null,
   "metadata": {
    "collapsed": false
   },
   "outputs": [],
   "source": [
    "S   = np.sqrt(V).dot(Sigma).dot(np.sqrt(V))"
   ]
  },
  {
   "cell_type": "code",
   "execution_count": null,
   "metadata": {
    "collapsed": false
   },
   "outputs": [],
   "source": [
    "X = nr.multivariate_normal([0]*100, Cov, 10000).T"
   ]
  },
  {
   "cell_type": "code",
   "execution_count": null,
   "metadata": {
    "collapsed": false
   },
   "outputs": [],
   "source": [
    "Covhat = X.dot(X.T) / X.shape[1]"
   ]
  },
  {
   "cell_type": "code",
   "execution_count": null,
   "metadata": {
    "collapsed": false
   },
   "outputs": [],
   "source": [
    "X.shape"
   ]
  },
  {
   "cell_type": "code",
   "execution_count": null,
   "metadata": {
    "collapsed": false
   },
   "outputs": [],
   "source": [
    "Sigmahat = np.corrcoef(X)"
   ]
  },
  {
   "cell_type": "code",
   "execution_count": null,
   "metadata": {
    "collapsed": false,
    "scrolled": true
   },
   "outputs": [],
   "source": [
    "b = nr.normal(size=M)"
   ]
  },
  {
   "cell_type": "code",
   "execution_count": null,
   "metadata": {
    "collapsed": false
   },
   "outputs": [],
   "source": [
    "Y = X.T.dot(b)\n",
    "Y -= Y.mean()"
   ]
  },
  {
   "cell_type": "code",
   "execution_count": null,
   "metadata": {
    "collapsed": false
   },
   "outputs": [],
   "source": [
    "a = S.dot(b)/np.diag(V)"
   ]
  },
  {
   "cell_type": "code",
   "execution_count": null,
   "metadata": {
    "collapsed": false
   },
   "outputs": [],
   "source": [
    "ahat = X.dot(Y) / (X**2).sum(axis=1)"
   ]
  },
  {
   "cell_type": "code",
   "execution_count": null,
   "metadata": {
    "collapsed": false
   },
   "outputs": [],
   "source": [
    "np.vstack([a, S.dot(b)/np.diag(S), ahat, Covhat.dot(b)/np.diag(Covhat), Sigmahat.dot(b)/np.diag(Sigmahat)]).T"
   ]
  },
  {
   "cell_type": "code",
   "execution_count": null,
   "metadata": {
    "collapsed": true
   },
   "outputs": [],
   "source": [
    "X.shape"
   ]
  },
  {
   "cell_type": "code",
   "execution_count": null,
   "metadata": {
    "collapsed": false
   },
   "outputs": [],
   "source": [
    "X.shape"
   ]
  },
  {
   "cell_type": "code",
   "execution_count": null,
   "metadata": {
    "collapsed": false
   },
   "outputs": [],
   "source": [
    "Sigma"
   ]
  },
  {
   "cell_type": "code",
   "execution_count": null,
   "metadata": {
    "collapsed": true
   },
   "outputs": [],
   "source": [
    "Ma = 270\n",
    "Mb = 30\n",
    "Mc = 970"
   ]
  },
  {
   "cell_type": "code",
   "execution_count": null,
   "metadata": {
    "collapsed": true
   },
   "outputs": [],
   "source": [
    "rho = "
   ]
  }
 ],
 "metadata": {
  "kernelspec": {
   "display_name": "Python 3",
   "language": "python",
   "name": "python3"
  },
  "language_info": {
   "codemirror_mode": {
    "name": "ipython",
    "version": 3
   },
   "file_extension": ".py",
   "mimetype": "text/x-python",
   "name": "python",
   "nbconvert_exporter": "python",
   "pygments_lexer": "ipython3",
   "version": "3.4.3"
  }
 },
 "nbformat": 4,
 "nbformat_minor": 0
}

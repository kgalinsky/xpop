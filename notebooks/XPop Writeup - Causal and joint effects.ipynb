{
 "cells": [
  {
   "cell_type": "markdown",
   "metadata": {},
   "source": [
    "# Causal and joint effects ($b$ and $g$)"
   ]
  },
  {
   "cell_type": "markdown",
   "metadata": {},
   "source": [
    "$$\n",
    "\\newcommand{\\Bin}{\\operatorname{Bin}}\n",
    "\\newcommand{\\Var}{\\operatorname{Var}}\n",
    "\\newcommand{\\Cov}{\\operatorname{Cov}}\n",
    "\\newcommand{\\Cor}{\\operatorname{Cor}}\n",
    "\\newcommand{\\E}{\\operatorname{E}}\n",
    "\\newcommand{\\diag}{\\operatorname{diag}}\n",
    "\\newcommand{\\tr}{\\operatorname{tr}}\n",
    "$$"
   ]
  },
  {
   "cell_type": "code",
   "execution_count": 1,
   "metadata": {
    "collapsed": false
   },
   "outputs": [],
   "source": [
    "%run library.ipynb"
   ]
  },
  {
   "cell_type": "markdown",
   "metadata": {},
   "source": [
    "## Relating $b$ and $g$"
   ]
  },
  {
   "cell_type": "markdown",
   "metadata": {},
   "source": [
    "First, consider what the \"true\" $g$ should be in terms of $b$ and the LD matrix.\n",
    "\n",
    "$$\n",
    "\\begin{align}\n",
    "Y & = X^T b + \\epsilon \\\\\n",
    "\\hat{g} & = \\left( X_T X^T_T \\right)^{-1}X_TY \\\\\n",
    "  & = \\left( X_T X^T_T \\right)^{-1} X_T \\left( X^T b + \\epsilon \\right) \\\\\n",
    "g & = \\lim_{N\\rightarrow\\infty} \\hat{g} \\\\\n",
    "  & = \\lim_{N\\rightarrow\\infty} \\left( X_T X^T_T \\right)^{-1} X_T \\left( X^T b + \\epsilon \\right) \\\\\n",
    "  & = \\lim_{N\\rightarrow\\infty} \\left( \\frac{X_T X^T_T}{N} \\right)^{-1} \\frac{X_T X^T}{N} b \\\\\n",
    "  & = S^{-1}_{TT} S_{TA} b \\\\\n",
    "\\gamma & = \\Sigma^{-1}_{TT} \\Sigma_{TA} \\beta\n",
    "\\end{align}\n",
    "$$\n",
    "\n",
    "This is very similar to the results for $a$."
   ]
  },
  {
   "cell_type": "markdown",
   "metadata": {},
   "source": [
    "## Relating $\\rho_b$ and $\\rho_g$"
   ]
  },
  {
   "cell_type": "markdown",
   "metadata": {},
   "source": [
    "When relating $\\rho_g$ and $\\rho_b$, you can use a similar derivation as with $\\rho_a$:\n",
    "\n",
    "$$\n",
    "\\begin{align}\n",
    "\\rho_g & = \\rho_b \\frac{ \\tr \\left[ S^{\\left(1\\right)}_{AT} \\left(S^{\\left(1\\right)}_{TT}\\right)^{-1} \\left(S^{\\left(2\\right)}_{TT}\\right)^{-1} S^{\\left(2\\right)}_{AT} \\right] } { \\sqrt{\n",
    "\\tr \\left[ S^{\\left(1\\right)}_{AT} \\left(S^{\\left(1\\right)}_{TT}\\right)^{-1} \\left(S^{\\left(1\\right)}_{TT}\\right)^{-1} S^{\\left(1\\right)}_{AT} \\right]\n",
    "\\tr \\left[ S^{\\left(2\\right)}_{AT} \\left(S^{\\left(2\\right)}_{TT}\\right)^{-1} \\left(S^{\\left(2\\right)}_{TT}\\right)^{-1} S^{\\left(2\\right)}_{AT} \\right]\n",
    "} } \\\\\n",
    "  & = \\tau \\left( S^{\\left(1\\right)}_{AT} \\left(S^{\\left(1\\right)}_{TT}\\right)^{-1}, S^{\\left(2\\right)}_{AT} \\left(S^{\\left(2\\right)}_{TT}\\right)^{-1} \\right)\n",
    "\\end{align}\n",
    "$$\n",
    "\n",
    "Inverting $S^{\\left(k\\right)}_{TT}$ is going to be a real pain."
   ]
  },
  {
   "cell_type": "markdown",
   "metadata": {},
   "source": [
    "An alternate approach is to assume that pairs $g_{1i}$ and $g_{2i}$ are IID like $b_{1i}$ and $b_{2i}$. This is the assumption made by REML. Starting with $S^{\\left(k\\right)}_{TT}g_k = S^{\\left(k\\right)}_{TA}b_k$, we get:\n",
    "\n",
    "$$\n",
    "\\begin{align}\n",
    "\\tau \\left( S^{\\left(1\\right)}_{TT}, S^{\\left(2\\right)}_{TT} \\right) \\rho_g & =\n",
    "\\tau \\left( S^{\\left(1\\right)}_{TA}, S^{\\left(2\\right)}_{TA} \\right) \\rho_b \\\\\n",
    "\\rho_g & = \\frac{ \\tau \\left( S^{\\left(1\\right)}_{TA}, S^{\\left(2\\right)}_{TA} \\right) } { \\tau \\left( S^{\\left(1\\right)}_{TT}, S^{\\left(2\\right)}_{TT} \\right) } \\rho_b\n",
    "\\end{align}\n",
    "$$"
   ]
  },
  {
   "cell_type": "markdown",
   "metadata": {},
   "source": [
    "### Testing"
   ]
  },
  {
   "cell_type": "markdown",
   "metadata": {},
   "source": [
    "#### Simple test 1 - all SNPs nonzero have effect size\n",
    "\n",
    "1. Sample $b$ from MVN ($\\rho_b$ parameter)\n",
    "1. Let $\\Sigma^{\\left(k\\right)}$ be a block banded matrix\n",
    "1. Sample $p_{ki} \\sim Uniform \\left( 0.05, 0.95 \\right)$\n",
    "1. Compute $S^{\\left(k\\right)} = \\left(V^{\\left(k\\right)}\\right)^{\\frac{1}{2}} \\Sigma^{\\left(k\\right)} \\left(V^{\\left(k\\right)}\\right)^{\\frac{1}{2}}$\n",
    "1. Compute $g_k = \\left(S^{\\left(k\\right)}_{TT}\\right)^{-1} S^{\\left(k\\right)}_{TA} b_k$\n",
    "1. Sample $X_k \\sim N \\left(0, S^{\\left(k\\right)} \\right)$\n",
    "1. Compute $\\hat{g}_k = \\left( X_{kT} X_{kT}^T \\right)^{-1} X_{kT} X_{k}^T b_k $\n",
    "1. Calculate $\\Cor\\left(g_1, g_2\\right)$, $\\Cor\\left(\\hat{g}_1, \\hat{g}_2\\right)$, $\\widehat{\\Cor}\\left(g_1, g_2\\right)$ (bivariate HE regression) and $\\frac{ \\tau \\left( S^{\\left(1\\right)}_{TA}, S^{\\left(2\\right)}_{TA} \\right) } { \\tau \\left( S^{\\left(1\\right)}_{TT}, S^{\\left(2\\right)}_{TT} \\right) }  \\rho_b$."
   ]
  },
  {
   "cell_type": "code",
   "execution_count": 2,
   "metadata": {
    "collapsed": false
   },
   "outputs": [],
   "source": [
    "def tau(Ss):\n",
    "    return(\n",
    "        np.sum(Ss[0]*Ss[1]) /\n",
    "        np.sqrt(\n",
    "            np.sum(Ss[0]*Ss[0]) *\n",
    "            np.sum(Ss[1]*Ss[1])\n",
    "        )\n",
    "    )"
   ]
  },
  {
   "cell_type": "code",
   "execution_count": 3,
   "metadata": {
    "collapsed": true
   },
   "outputs": [],
   "source": [
    "def sim_b(rho_b, Ms, causal):\n",
    "    bs = list()\n",
    "    for M, flag in zip(Ms, causal):\n",
    "        if flag:\n",
    "            bs.append(\n",
    "                multivariate_normal_sample(\n",
    "                    np.zeros(2), \n",
    "                    equicorrelation_matrix(rho_b),\n",
    "                    M\n",
    "                ).T\n",
    "            )\n",
    "        else:\n",
    "            bs.append(np.zeros((2,M)))\n",
    "    bs = np.concatenate(bs, 1)\n",
    "    return(bs)"
   ]
  },
  {
   "cell_type": "code",
   "execution_count": 4,
   "metadata": {
    "collapsed": false
   },
   "outputs": [],
   "source": [
    "def run_test(rho_b=0.8, M=100, R=(0.5, 0.2), K=(4, 2), causal=(True, True), N=None, binomial=False):\n",
    "    # set up the number of untyped/typed SNPs    \n",
    "    if type(M) is int:\n",
    "        Ms = (M, M)\n",
    "    else:\n",
    "        Ms = M\n",
    "\n",
    "    Mtot = Ms[0] + Ms[1]\n",
    "\n",
    "    if N is None:\n",
    "        N = 10*Mtot\n",
    "\n",
    "    # sample b_k\n",
    "    bs = sim_b(rho_b, Ms, causal)\n",
    "\n",
    "    # create Sigma\n",
    "    Sigmas = np.array([\n",
    "        block_banded_matrix(r, k, Ms[0], Ms[1]) for r, k in zip(R, K)\n",
    "    ])\n",
    "\n",
    "    # sample ps and generate standard deviation\n",
    "    ps = nr.uniform(0.05, 0.95, (2,2*M))\n",
    "    Vs = 2*ps*(1-ps)\n",
    "    sds = np.sqrt(Vs)\n",
    "\n",
    "    # transform Sigmas to Ss\n",
    "    Ss = np.array([\n",
    "        Sigma * sd[:, None] * sd[None, :]\n",
    "        for (Sigma, sd) in zip(Sigmas, sds)\n",
    "    ])\n",
    "\n",
    "    Rs = Ss / Vs[:,:,None]\n",
    "\n",
    "    # calculate true gs\n",
    "    gs = np.array([\n",
    "        np.linalg.inv(S[Ms[0]:][:,Ms[0]:]).dot(S[Ms[0]:].dot(b))\n",
    "        for (S, b) in zip(Ss, bs)\n",
    "    ])\n",
    "\n",
    "    # calculate true as\n",
    "    As = (Rs * bs[:,None,:]).sum(axis=2)[:,Ms[0]:]\n",
    "\n",
    "    # calculate rho_g/rho_b ratio\n",
    "    if causal[0]:\n",
    "        if causal[1]:\n",
    "            numerator = tau(Ss[:,Ms[0]:])\n",
    "        else:\n",
    "            numerator = tau(Ss[:,Ms[0]:][:,:,:Ms[0]])\n",
    "    else:\n",
    "        if causal[1]:\n",
    "            numerator = tau(Ss[:,Ms[0]:][:,:,Ms[0]:])\n",
    "        else:\n",
    "            numerator = 0\n",
    "    ratio = numerator / tau(Ss[:,Ms[0]:][:,:,Ms[0]:])\n",
    "\n",
    "    # sample genotypes\n",
    "    Gs = np.array(\n",
    "        [\n",
    "            sim_geno(p, Sigma, N, binomial)\n",
    "            for p, Sigma in zip(ps, Sigmas)\n",
    "        ]\n",
    "    )\n",
    "\n",
    "    Xs = np.array([ G - G.mean(axis=0)[None,:] for G in Gs ])\n",
    "\n",
    "    # generate phenotypes\n",
    "    Ys = (Xs * bs[:,:,None]).sum(axis=1)\n",
    "    Ys -= Ys.mean(axis=1)[:,None]\n",
    "\n",
    "    # calculate ghat\n",
    "    ghats = list()\n",
    "    ahats = list()\n",
    "    for X, Y in zip(Xs, Ys):\n",
    "        Xt = X[Ms[0]:]\n",
    "        XtY = Xt.dot(Y)\n",
    "        ghats.append(\n",
    "            np.linalg.inv(Xt.dot(Xt.T)).dot(XtY)\n",
    "        )\n",
    "        ahats.append(XtY / (Xt**2).sum(axis=1))\n",
    "\n",
    "    # HE regression\n",
    "    rho_hat = he_regression_bivar(Gs[0][Ms[0]:], Gs[1][Ms[0]:], Ys[0], Ys[1])[2]\n",
    "\n",
    "    return({\n",
    "        'cor(a1,a2)'        : np.corrcoef(As)[0,1],\n",
    "        'cor(a1hat, a2hat)' : np.corrcoef(ahats)[0,1],\n",
    "        'cor(g1,g2)'        : np.corrcoef(gs)[0,1],\n",
    "        'cor(g1hat, g2hat)' : np.corrcoef(ghats)[0,1],\n",
    "        'rho_g_HE'          : rho_hat,\n",
    "        'ratio'             : ratio\n",
    "    })"
   ]
  },
  {
   "cell_type": "code",
   "execution_count": 5,
   "metadata": {
    "collapsed": false
   },
   "outputs": [
    {
     "name": "stdout",
     "output_type": "stream",
     "text": [
      "cor(a1,a2)           0.707363\n",
      "cor(a1hat, a2hat)    0.612025\n",
      "cor(g1,g2)           0.763420\n",
      "cor(g1hat, g2hat)    0.752847\n",
      "ratio                0.956851\n",
      "rho_g_HE             0.783671\n",
      "dtype: float64\n",
      "cor(a1,a2)           0.037832\n",
      "cor(a1hat, a2hat)    0.052603\n",
      "cor(g1,g2)           0.026207\n",
      "cor(g1hat, g2hat)    0.029185\n",
      "ratio                0.003430\n",
      "rho_g_HE             0.052107\n",
      "dtype: float64\n"
     ]
    }
   ],
   "source": [
    "nr.seed(0)\n",
    "test1_data = pd.DataFrame([run_test() for i in range(100)])\n",
    "\n",
    "print(test1_data.mean())\n",
    "print(test1_data.std())"
   ]
  },
  {
   "cell_type": "code",
   "execution_count": 6,
   "metadata": {
    "collapsed": false
   },
   "outputs": [
    {
     "data": {
      "image/png": "[encoded data removed]",
      "text/plain": [
       "<matplotlib.figure.Figure at 0x53f5a20>"
      ]
     },
     "metadata": {},
     "output_type": "display_data"
    }
   ],
   "source": [
    "test1_data.iloc[:,[0,1,2,3,5]].boxplot(return_type='axes')\n",
    "plt.show()"
   ]
  },
  {
   "cell_type": "code",
   "execution_count": 7,
   "metadata": {
    "collapsed": false
   },
   "outputs": [
    {
     "data": {
      "image/png": "[encoded data removed]",
      "text/plain": [
       "<matplotlib.figure.Figure at 0x12e8c18>"
      ]
     },
     "metadata": {},
     "output_type": "display_data"
    }
   ],
   "source": [
    "test1_corrected = pd.DataFrame(\n",
    "    test1_data.values[:,[2,3,5]] / test1_data.values[:,4,None],\n",
    "    columns=['cor(g1,g2)/ratio', 'cor(g1hat,g2hat)/ratio', 'rho_b_HE']\n",
    ")\n",
    "\n",
    "test1_corrected.boxplot(return_type='axes')\n",
    "plt.show()"
   ]
  },
  {
   "cell_type": "code",
   "execution_count": 8,
   "metadata": {
    "collapsed": true
   },
   "outputs": [],
   "source": [
    "import matplotlib as mpl\n",
    "mpl.rcParams['figure.figsize'] = (10,6)"
   ]
  },
  {
   "cell_type": "markdown",
   "metadata": {},
   "source": [
    "#### Test 2 - binomial genotypes"
   ]
  },
  {
   "cell_type": "code",
   "execution_count": 9,
   "metadata": {
    "collapsed": false
   },
   "outputs": [
    {
     "name": "stdout",
     "output_type": "stream",
     "text": [
      "cor(a1,a2)           0.707363\n",
      "cor(a1hat, a2hat)    0.600155\n",
      "cor(g1,g2)           0.763420\n",
      "cor(g1hat, g2hat)    0.743808\n",
      "ratio                0.956851\n",
      "rho_g_HE             0.774505\n",
      "dtype: float64\n",
      "cor(a1,a2)           0.037832\n",
      "cor(a1hat, a2hat)    0.054800\n",
      "cor(g1,g2)           0.026207\n",
      "cor(g1hat, g2hat)    0.031300\n",
      "ratio                0.003430\n",
      "rho_g_HE             0.053609\n",
      "dtype: float64\n"
     ]
    }
   ],
   "source": [
    "nr.seed(0)\n",
    "test2_data = pd.DataFrame([run_test(binomial=True) for i in range(100)])\n",
    "\n",
    "print(test2_data.mean())\n",
    "print(test2_data.std())"
   ]
  },
  {
   "cell_type": "code",
   "execution_count": 10,
   "metadata": {
    "collapsed": false
   },
   "outputs": [
    {
     "data": {
      "image/png": "[encoded data removed]",
      "text/plain": [
       "<matplotlib.figure.Figure at 0x132fa58>"
      ]
     },
     "metadata": {},
     "output_type": "display_data"
    }
   ],
   "source": [
    "test2_data.iloc[:,[0,1,2,3,5]].boxplot(return_type='axes')\n",
    "plt.show()"
   ]
  },
  {
   "cell_type": "code",
   "execution_count": 11,
   "metadata": {
    "collapsed": false
   },
   "outputs": [
    {
     "data": {
      "image/png": "[encoded data removed]",
      "text/plain": [
       "<matplotlib.figure.Figure at 0x13a11d0>"
      ]
     },
     "metadata": {},
     "output_type": "display_data"
    }
   ],
   "source": [
    "test2_corrected = pd.DataFrame(\n",
    "    test2_data.values[:,[2,3,5]] / test2_data.values[:,4,None],\n",
    "    columns=['cor(g1,g2)/ratio', 'cor(g1hat,g2hat)/ratio', 'rho_b_HE']\n",
    ")\n",
    "\n",
    "test1_corrected.boxplot(return_type='axes')\n",
    "plt.show()"
   ]
  },
  {
   "cell_type": "markdown",
   "metadata": {},
   "source": [
    "### Real LD"
   ]
  },
  {
   "cell_type": "code",
   "execution_count": 12,
   "metadata": {
    "collapsed": true
   },
   "outputs": [],
   "source": [
    "files = [\n",
    "    '../phase2/ld/eas.eur.22.0.ld.bin',\n",
    "    '../phase2/ld/eas.eur.22.1.ld.bin'\n",
    "]"
   ]
  },
  {
   "cell_type": "code",
   "execution_count": 13,
   "metadata": {
    "collapsed": false
   },
   "outputs": [
    {
     "ename": "FileNotFoundError",
     "evalue": "[Errno 2] No such file or directory: '../phase2/ld/eas.eur.22.0.ld.bin'",
     "output_type": "error",
     "traceback": [
      "\u001b[0;31m---------------------------------------------------------------------------\u001b[0m",
      "\u001b[0;31mFileNotFoundError\u001b[0m                         Traceback (most recent call last)",
      "\u001b[0;32m<ipython-input-13-213dd8c348b5>\u001b[0m in \u001b[0;36m<module>\u001b[0;34m()\u001b[0m\n\u001b[0;32m----> 1\u001b[0;31m \u001b[0mSigmas\u001b[0m \u001b[0;34m=\u001b[0m \u001b[0;34m[\u001b[0m \u001b[0mnp\u001b[0m\u001b[0;34m.\u001b[0m\u001b[0mfromfile\u001b[0m\u001b[0;34m(\u001b[0m\u001b[0mf\u001b[0m\u001b[0;34m,\u001b[0m \u001b[0;34m'double'\u001b[0m\u001b[0;34m,\u001b[0m \u001b[0;34m-\u001b[0m\u001b[0;36m1\u001b[0m\u001b[0;34m,\u001b[0m \u001b[0;34m''\u001b[0m\u001b[0;34m)\u001b[0m \u001b[0;32mfor\u001b[0m \u001b[0mf\u001b[0m \u001b[0;32min\u001b[0m \u001b[0mfiles\u001b[0m \u001b[0;34m]\u001b[0m\u001b[0;34m\u001b[0m\u001b[0m\n\u001b[0m\u001b[1;32m      2\u001b[0m \u001b[0;34m\u001b[0m\u001b[0m\n\u001b[1;32m      3\u001b[0m \u001b[0mMs\u001b[0m \u001b[0;34m=\u001b[0m \u001b[0;34m[\u001b[0m \u001b[0mint\u001b[0m\u001b[0;34m(\u001b[0m\u001b[0mnp\u001b[0m\u001b[0;34m.\u001b[0m\u001b[0msqrt\u001b[0m\u001b[0;34m(\u001b[0m\u001b[0mSigma\u001b[0m\u001b[0;34m.\u001b[0m\u001b[0mshape\u001b[0m\u001b[0;34m[\u001b[0m\u001b[0;36m0\u001b[0m\u001b[0;34m]\u001b[0m\u001b[0;34m)\u001b[0m\u001b[0;34m)\u001b[0m \u001b[0;32mfor\u001b[0m \u001b[0mSigma\u001b[0m \u001b[0;32min\u001b[0m \u001b[0mSigmas\u001b[0m \u001b[0;34m]\u001b[0m\u001b[0;34m\u001b[0m\u001b[0m\n\u001b[1;32m      4\u001b[0m \u001b[0mM\u001b[0m \u001b[0;34m=\u001b[0m \u001b[0;36m0\u001b[0m\u001b[0;34m\u001b[0m\u001b[0m\n\u001b[1;32m      5\u001b[0m \u001b[0;34m\u001b[0m\u001b[0m\n",
      "\u001b[0;32m<ipython-input-13-213dd8c348b5>\u001b[0m in \u001b[0;36m<listcomp>\u001b[0;34m(.0)\u001b[0m\n\u001b[0;32m----> 1\u001b[0;31m \u001b[0mSigmas\u001b[0m \u001b[0;34m=\u001b[0m \u001b[0;34m[\u001b[0m \u001b[0mnp\u001b[0m\u001b[0;34m.\u001b[0m\u001b[0mfromfile\u001b[0m\u001b[0;34m(\u001b[0m\u001b[0mf\u001b[0m\u001b[0;34m,\u001b[0m \u001b[0;34m'double'\u001b[0m\u001b[0;34m,\u001b[0m \u001b[0;34m-\u001b[0m\u001b[0;36m1\u001b[0m\u001b[0;34m,\u001b[0m \u001b[0;34m''\u001b[0m\u001b[0;34m)\u001b[0m \u001b[0;32mfor\u001b[0m \u001b[0mf\u001b[0m \u001b[0;32min\u001b[0m \u001b[0mfiles\u001b[0m \u001b[0;34m]\u001b[0m\u001b[0;34m\u001b[0m\u001b[0m\n\u001b[0m\u001b[1;32m      2\u001b[0m \u001b[0;34m\u001b[0m\u001b[0m\n\u001b[1;32m      3\u001b[0m \u001b[0mMs\u001b[0m \u001b[0;34m=\u001b[0m \u001b[0;34m[\u001b[0m \u001b[0mint\u001b[0m\u001b[0;34m(\u001b[0m\u001b[0mnp\u001b[0m\u001b[0;34m.\u001b[0m\u001b[0msqrt\u001b[0m\u001b[0;34m(\u001b[0m\u001b[0mSigma\u001b[0m\u001b[0;34m.\u001b[0m\u001b[0mshape\u001b[0m\u001b[0;34m[\u001b[0m\u001b[0;36m0\u001b[0m\u001b[0;34m]\u001b[0m\u001b[0;34m)\u001b[0m\u001b[0;34m)\u001b[0m \u001b[0;32mfor\u001b[0m \u001b[0mSigma\u001b[0m \u001b[0;32min\u001b[0m \u001b[0mSigmas\u001b[0m \u001b[0;34m]\u001b[0m\u001b[0;34m\u001b[0m\u001b[0m\n\u001b[1;32m      4\u001b[0m \u001b[0mM\u001b[0m \u001b[0;34m=\u001b[0m \u001b[0;36m0\u001b[0m\u001b[0;34m\u001b[0m\u001b[0m\n\u001b[1;32m      5\u001b[0m \u001b[0;34m\u001b[0m\u001b[0m\n",
      "\u001b[0;31mFileNotFoundError\u001b[0m: [Errno 2] No such file or directory: '../phase2/ld/eas.eur.22.0.ld.bin'"
     ]
    }
   ],
   "source": [
    "Sigmas = [ np.fromfile(f, 'double', -1, '') for f in files ]\n",
    "\n",
    "Ms = [ int(np.sqrt(Sigma.shape[0])) for Sigma in Sigmas ]\n",
    "M = 0\n",
    "\n",
    "if (Ms[0] == Ms[1]):\n",
    "    M = Ms[0]\n",
    "    print(\"M={}\".format(M))\n",
    "else:\n",
    "    print(\"Ms not equal\")\n",
    "\n",
    "Sigmas = np.array([ Sigma.reshape((M,M)) for Sigma in Sigmas ])"
   ]
  },
  {
   "cell_type": "code",
   "execution_count": null,
   "metadata": {
    "collapsed": true
   },
   "outputs": [],
   "source": [
    "l = 0.1\n",
    "lI = np.diag(np.full(M, l))\n",
    "\n",
    "Sigma_primes = np.array([(Sigma + lI)/(1+l) for Sigma in Sigmas])"
   ]
  },
  {
   "cell_type": "code",
   "execution_count": null,
   "metadata": {
    "collapsed": true
   },
   "outputs": [],
   "source": [
    "def run_test_real_LD(rho_b=0.8, MT=1000, N=10000):\n",
    "    typed = nr.choice(M, MT, replace=False)\n",
    "    mask  = np.zeros(M, dtype='bool')\n",
    "    mask[typed] = 1\n",
    "\n",
    "    # sample ps and generate standard deviation\n",
    "    ps = nr.uniform(0.05, 0.95, (2,M))\n",
    "    Vs = 2*ps*(1-ps)\n",
    "    sds = np.sqrt(Vs)\n",
    "    \n",
    "    Ss = np.array([\n",
    "    Sigma * sd[:, None] * sd[None, :]\n",
    "    for (Sigma, sd) in zip(Sigma_primes, sds)\n",
    "    ])\n",
    "    \n",
    "    bs = multivariate_normal_sample(np.zeros(2), equicorrelation_matrix(0.8), M).T\n",
    "    gs = np.array([np.linalg.inv(S[mask][:,mask]).dot(S[mask].dot(b)) for S, b in zip(Ss, bs)])\n",
    "\n",
    "    Xs = np.array([nr.multivariate_normal(np.zeros(M), S, N) for S in Ss])\n",
    "    Ys = np.array([X.dot(b) for (X, b) in zip(Xs, bs)])\n",
    "\n",
    "    ghats = np.array([\n",
    "        np.linalg.inv(X.T[mask].dot(X[:,mask])).dot(X.T[mask].dot(Y))\n",
    "        for (X, Y) in zip(Xs, Ys)\n",
    "    ])\n",
    "\n",
    "    rho_hat = he_regression_bivar(Xs[0,:,mask], Xs[1,:,mask], Ys[0], Ys[1])[2]\n",
    "    \n",
    "    ratio = tau(Ss[:,mask]) / tau(Ss[:,mask][:,:,mask])\n",
    "\n",
    "    return({\n",
    "        'cor(g1,g2)'        : np.corrcoef(gs)[0,1],\n",
    "        'cor(g1hat, g2hat)' : np.corrcoef(ghats)[0,1],\n",
    "        'rho_g_HE'          : rho_hat,\n",
    "        'rho_g'             : rho_b * ratio\n",
    "    })"
   ]
  },
  {
   "cell_type": "code",
   "execution_count": null,
   "metadata": {
    "collapsed": false
   },
   "outputs": [],
   "source": [
    "run_test_real_LD(N=5000)"
   ]
  },
  {
   "cell_type": "code",
   "execution_count": null,
   "metadata": {
    "collapsed": false
   },
   "outputs": [],
   "source": [
    "test_real_LD_data = pd.DataFrame([run_test_real_LD() for i in range(5)])\n",
    "\n",
    "print(test_real_LD_data.mean())\n",
    "print(test_real_LD_data.std())\n",
    "\n",
    "test_real_LD_data.boxplot(return_type='axes')\n",
    "plt.show()"
   ]
  },
  {
   "cell_type": "code",
   "execution_count": null,
   "metadata": {
    "collapsed": true
   },
   "outputs": [],
   "source": [
    "q = pd.DataFrame([run_test_real_LD() for i in range(5)])"
   ]
  },
  {
   "cell_type": "code",
   "execution_count": null,
   "metadata": {
    "collapsed": false
   },
   "outputs": [],
   "source": [
    "pd.concat([test_real_LD_data, q]).boxplot()\n",
    "plt.show()"
   ]
  },
  {
   "cell_type": "code",
   "execution_count": null,
   "metadata": {
    "collapsed": true
   },
   "outputs": [],
   "source": []
  }
 ],
 "metadata": {
  "anaconda-cloud": {},
  "kernelspec": {
   "display_name": "Python [default]",
   "language": "python",
   "name": "python3"
  },
  "language_info": {
   "codemirror_mode": {
    "name": "ipython",
    "version": 3
   },
   "file_extension": ".py",
   "mimetype": "text/x-python",
   "name": "python",
   "nbconvert_exporter": "python",
   "pygments_lexer": "ipython3",
   "version": "3.5.2"
  }
 },
 "nbformat": 4,
 "nbformat_minor": 0
}

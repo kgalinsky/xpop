{
 "cells": [
  {
   "cell_type": "code",
   "execution_count": 1,
   "metadata": {
    "collapsed": true
   },
   "outputs": [],
   "source": [
    "%run library.ipynb"
   ]
  },
  {
   "cell_type": "code",
   "execution_count": 3,
   "metadata": {
    "collapsed": false
   },
   "outputs": [],
   "source": [
    "?banded_matrix"
   ]
  },
  {
   "cell_type": "code",
   "execution_count": 5,
   "metadata": {
    "collapsed": false
   },
   "outputs": [
    {
     "data": {
      "text/plain": [
       "array([[ 1.  ,  0.4 ,  0.16,  0.  ,  0.  ,  0.  ,  0.  ,  0.  ,  0.  ,  0.  ],\n",
       "       [ 0.4 ,  1.  ,  0.4 ,  0.16,  0.  ,  0.  ,  0.  ,  0.  ,  0.  ,  0.  ],\n",
       "       [ 0.16,  0.4 ,  1.  ,  0.4 ,  0.16,  0.  ,  0.  ,  0.  ,  0.  ,  0.  ],\n",
       "       [ 0.  ,  0.16,  0.4 ,  1.  ,  0.4 ,  0.16,  0.  ,  0.  ,  0.  ,  0.  ],\n",
       "       [ 0.  ,  0.  ,  0.16,  0.4 ,  1.  ,  0.4 ,  0.16,  0.  ,  0.  ,  0.  ],\n",
       "       [ 0.  ,  0.  ,  0.  ,  0.16,  0.4 ,  1.  ,  0.4 ,  0.16,  0.  ,  0.  ],\n",
       "       [ 0.  ,  0.  ,  0.  ,  0.  ,  0.16,  0.4 ,  1.  ,  0.4 ,  0.16,  0.  ],\n",
       "       [ 0.  ,  0.  ,  0.  ,  0.  ,  0.  ,  0.16,  0.4 ,  1.  ,  0.4 ,\n",
       "         0.16],\n",
       "       [ 0.  ,  0.  ,  0.  ,  0.  ,  0.  ,  0.  ,  0.16,  0.4 ,  1.  ,  0.4 ],\n",
       "       [ 0.  ,  0.  ,  0.  ,  0.  ,  0.  ,  0.  ,  0.  ,  0.16,  0.4 ,  1.  ]])"
      ]
     },
     "execution_count": 5,
     "metadata": {},
     "output_type": "execute_result"
    }
   ],
   "source": [
    "Sigma = banded_matrix(0.4, 10, 2)\n",
    "Sigma"
   ]
  },
  {
   "cell_type": "code",
   "execution_count": 16,
   "metadata": {
    "collapsed": false
   },
   "outputs": [
    {
     "data": {
      "text/plain": [
       "array([[ 1. ,  0.2,  0. ,  0. ,  0. ],\n",
       "       [ 0.2,  1. ,  0.2,  0. ,  0. ],\n",
       "       [ 0. ,  0.2,  1. ,  0.2,  0. ],\n",
       "       [ 0. ,  0. ,  0.2,  1. ,  0.2],\n",
       "       [ 0. ,  0. ,  0. ,  0.2,  1. ]])"
      ]
     },
     "execution_count": 16,
     "metadata": {},
     "output_type": "execute_result"
    }
   ],
   "source": [
    "A = banded_matrix(0.2, 5, 1)\n",
    "A"
   ]
  },
  {
   "cell_type": "code",
   "execution_count": 17,
   "metadata": {
    "collapsed": true
   },
   "outputs": [],
   "source": [
    "Q = np.kron(Sigma, A)"
   ]
  },
  {
   "cell_type": "code",
   "execution_count": 22,
   "metadata": {
    "collapsed": false
   },
   "outputs": [],
   "source": [
    "X = nr.multivariate_normal(np.zeros(Q.shape[0]), Q).reshape((Sigma.shape[0],-1))"
   ]
  },
  {
   "cell_type": "code",
   "execution_count": 24,
   "metadata": {
    "collapsed": false,
    "scrolled": true
   },
   "outputs": [
    {
     "data": {
      "text/plain": [
       "array([[ 1.        ,  0.22318511,  0.1294484 , -0.43036141,  0.08506907],\n",
       "       [ 0.22318511,  1.        ,  0.2142602 ,  0.02354603, -0.34149675],\n",
       "       [ 0.1294484 ,  0.2142602 ,  1.        ,  0.57082351,  0.22350478],\n",
       "       [-0.43036141,  0.02354603,  0.57082351,  1.        , -0.06463758],\n",
       "       [ 0.08506907, -0.34149675,  0.22350478, -0.06463758,  1.        ]])"
      ]
     },
     "execution_count": 24,
     "metadata": {},
     "output_type": "execute_result"
    }
   ],
   "source": [
    "np.corrcoef(X.T)"
   ]
  },
  {
   "cell_type": "code",
   "execution_count": null,
   "metadata": {
    "collapsed": true
   },
   "outputs": [],
   "source": [
    "def compute_S(p, Sigma):\n",
    "    sd = np.sqrt(2*p*(1-p))\n",
    "    return(Sigma * sd[:, None] * sd[None, :])"
   ]
  },
  {
   "cell_type": "code",
   "execution_count": null,
   "metadata": {
    "collapsed": true
   },
   "outputs": [],
   "source": [
    "def simulate_genotypes(Sigma=None, p=None, N=None, binomial=False):\n",
    "    if Si\n",
    "    if p is None:\n",
    "        p = nr.uniform(0.05,0.95)"
   ]
  }
 ],
 "metadata": {
  "kernelspec": {
   "display_name": "Python 3",
   "language": "python",
   "name": "python3"
  },
  "language_info": {
   "codemirror_mode": {
    "name": "ipython",
    "version": 3
   },
   "file_extension": ".py",
   "mimetype": "text/x-python",
   "name": "python",
   "nbconvert_exporter": "python",
   "pygments_lexer": "ipython3",
   "version": "3.4.4"
  }
 },
 "nbformat": 4,
 "nbformat_minor": 0
}

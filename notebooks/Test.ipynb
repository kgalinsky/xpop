{
 "cells": [
  {
   "cell_type": "code",
   "execution_count": 1,
   "metadata": {
    "collapsed": false
   },
   "outputs": [],
   "source": [
    "import numpy as np\n",
    "import numpy.random as nr"
   ]
  },
  {
   "cell_type": "markdown",
   "metadata": {},
   "source": [
    "# Test with normal"
   ]
  },
  {
   "cell_type": "code",
   "execution_count": 4,
   "metadata": {
    "collapsed": true
   },
   "outputs": [],
   "source": [
    "X = nr.normal(0, 1, (600,3000))"
   ]
  },
  {
   "cell_type": "code",
   "execution_count": 3,
   "metadata": {
    "collapsed": true
   },
   "outputs": [],
   "source": [
    "B = nr.normal(0, 1, 300)"
   ]
  },
  {
   "cell_type": "code",
   "execution_count": 5,
   "metadata": {
    "collapsed": true
   },
   "outputs": [],
   "source": [
    "Y = X[:300].T.dot(B)"
   ]
  },
  {
   "cell_type": "code",
   "execution_count": 6,
   "metadata": {
    "collapsed": true
   },
   "outputs": [],
   "source": [
    "Bhat1 = np.linalg.inv(X[:300].dot(X[:300].T)).dot(X[:300]).dot(Y)"
   ]
  },
  {
   "cell_type": "code",
   "execution_count": 7,
   "metadata": {
    "collapsed": false,
    "scrolled": true
   },
   "outputs": [
    {
     "data": {
      "text/plain": [
       "array([[ 1.,  1.],\n",
       "       [ 1.,  1.]])"
      ]
     },
     "execution_count": 7,
     "metadata": {},
     "output_type": "execute_result"
    }
   ],
   "source": [
    "np.corrcoef(B, Bhat1)"
   ]
  },
  {
   "cell_type": "code",
   "execution_count": 8,
   "metadata": {
    "collapsed": true
   },
   "outputs": [],
   "source": [
    "Bhat2 = np.linalg.inv(X.dot(X.T)).dot(X).dot(Y)"
   ]
  },
  {
   "cell_type": "code",
   "execution_count": 11,
   "metadata": {
    "collapsed": false,
    "scrolled": true
   },
   "outputs": [
    {
     "data": {
      "text/plain": [
       "array([[ 1.,  1.],\n",
       "       [ 1.,  1.]])"
      ]
     },
     "execution_count": 11,
     "metadata": {},
     "output_type": "execute_result"
    }
   ],
   "source": [
    "np.corrcoef(np.hstack([B, np.zeros(300)]), Bhat2)"
   ]
  },
  {
   "cell_type": "markdown",
   "metadata": {},
   "source": [
    "# Test with binomial"
   ]
  },
  {
   "cell_type": "code",
   "execution_count": 12,
   "metadata": {
    "collapsed": true
   },
   "outputs": [],
   "source": [
    "X = nr.binomial(2, 0.5, (600,3000))"
   ]
  },
  {
   "cell_type": "code",
   "execution_count": 13,
   "metadata": {
    "collapsed": true
   },
   "outputs": [],
   "source": [
    "Y = X[:300].T.dot(B)"
   ]
  },
  {
   "cell_type": "code",
   "execution_count": 14,
   "metadata": {
    "collapsed": true
   },
   "outputs": [],
   "source": [
    "Bhat1 = np.linalg.inv(X[:300].dot(X[:300].T)).dot(X[:300]).dot(Y)"
   ]
  },
  {
   "cell_type": "code",
   "execution_count": 15,
   "metadata": {
    "collapsed": false,
    "scrolled": false
   },
   "outputs": [
    {
     "data": {
      "text/plain": [
       "array([[ 1.,  1.],\n",
       "       [ 1.,  1.]])"
      ]
     },
     "execution_count": 15,
     "metadata": {},
     "output_type": "execute_result"
    }
   ],
   "source": [
    "np.corrcoef(B, Bhat1)"
   ]
  },
  {
   "cell_type": "code",
   "execution_count": 16,
   "metadata": {
    "collapsed": true
   },
   "outputs": [],
   "source": [
    "Bhat2 = np.linalg.inv(X.dot(X.T)).dot(X).dot(Y)"
   ]
  },
  {
   "cell_type": "code",
   "execution_count": 17,
   "metadata": {
    "collapsed": false,
    "scrolled": true
   },
   "outputs": [
    {
     "data": {
      "text/plain": [
       "array([[ 1.,  1.],\n",
       "       [ 1.,  1.]])"
      ]
     },
     "execution_count": 17,
     "metadata": {},
     "output_type": "execute_result"
    }
   ],
   "source": [
    "np.corrcoef(np.hstack([B, np.zeros(300)]), Bhat2)"
   ]
  },
  {
   "cell_type": "markdown",
   "metadata": {
    "collapsed": true
   },
   "source": [
    "Double beta distribution"
   ]
  },
  {
   "cell_type": "code",
   "execution_count": 2,
   "metadata": {
    "collapsed": true
   },
   "outputs": [],
   "source": [
    "b = ss.beta(1, 2)"
   ]
  },
  {
   "cell_type": "code",
   "execution_count": 3,
   "metadata": {
    "collapsed": false
   },
   "outputs": [
    {
     "data": {
      "text/plain": [
       "array([ 0.04862095,  0.11644809,  0.41385975,  0.08446904,  0.46834205,\n",
       "        0.17601198,  0.38926977,  0.21150802,  0.65850442,  0.21951928,\n",
       "        0.69671529,  0.79941834,  0.46063256,  0.2139358 ,  0.35306858,\n",
       "        0.11364102,  0.01551896,  0.11129527,  0.56743438,  0.36668689,\n",
       "        0.16933243,  0.0481    ,  0.93498423,  0.4097074 ,  0.51160954,\n",
       "        0.65662567,  0.3790256 ,  0.50376089,  0.80282885,  0.17460166,\n",
       "        0.13909594,  0.26622168,  0.17978008,  0.02407864,  0.28712374,\n",
       "        0.46278362,  0.36056942,  0.39707172,  0.13465761,  0.02951555,\n",
       "        0.33453228,  0.89880719,  0.30621946,  0.18126133,  0.18287844,\n",
       "        0.31299245,  0.44463981,  0.23069329,  0.4570391 ,  0.23921839,\n",
       "        0.04299924,  0.35857749,  0.2226816 ,  0.00976172,  0.19475744,\n",
       "        0.06550596,  0.10025298,  0.16156202,  0.01109878,  0.70069191,\n",
       "        0.0189522 ,  0.29476736,  0.78373047,  0.70973265,  0.52175445,\n",
       "        0.67616191,  0.7229087 ,  0.24545069,  0.17048219,  0.08121355,\n",
       "        0.1882537 ,  0.53386793,  0.2055943 ,  0.06221953,  0.41569218,\n",
       "        0.45214051,  0.08574652,  0.04424734,  0.1017141 ,  0.08776695,\n",
       "        0.1258845 ,  0.68772127,  0.19204722,  0.39667416,  0.52467606,\n",
       "        0.00222835,  0.04891853,  0.21254472,  0.32578799,  0.18843839,\n",
       "        0.52585098,  0.52819705,  0.37376054,  0.3669001 ,  0.20646846,\n",
       "        0.46938694,  0.00109597,  0.55323863,  0.09377508,  0.24169349])"
      ]
     },
     "execution_count": 3,
     "metadata": {},
     "output_type": "execute_result"
    }
   ],
   "source": [
    "b.rvs(100)"
   ]
  },
  {
   "cell_type": "code",
   "execution_count": 17,
   "metadata": {
    "collapsed": false
   },
   "outputs": [
    {
     "data": {
      "text/plain": [
       "array([-1,  1, -1,  1,  1, -1, -1, -1,  1, -1,  1,  1, -1,  1,  1,  1,  1,\n",
       "       -1, -1, -1, -1,  1, -1,  1, -1,  1,  1, -1, -1,  1,  1,  1,  1, -1,\n",
       "        1, -1,  1,  1,  1,  1, -1, -1, -1,  1, -1,  1,  1,  1,  1,  1, -1,\n",
       "        1,  1, -1, -1, -1,  1,  1, -1, -1, -1, -1, -1,  1, -1,  1, -1, -1,\n",
       "        1, -1,  1,  1,  1,  1,  1,  1, -1, -1,  1, -1, -1, -1,  1,  1,  1,\n",
       "        1, -1,  1, -1,  1,  1,  1, -1, -1, -1,  1,  1,  1,  1,  1])"
      ]
     },
     "execution_count": 17,
     "metadata": {},
     "output_type": "execute_result"
    }
   ],
   "source": [
    "ss.bernoulli.rvs(0.5, size=100)*2 - 1"
   ]
  },
  {
   "cell_type": "code",
   "execution_count": 38,
   "metadata": {
    "collapsed": true
   },
   "outputs": [],
   "source": [
    "class dbeta:\n",
    "    def __init__(self, *args, **kwargs):\n",
    "        self.beta = ss.beta(*args, **kwargs)\n",
    "\n",
    "    def rvs(self, *args, **kwargs):\n",
    "        rvs = self.beta.rvs(*args, **kwargs)\n",
    "        if type(rvs) is float:\n",
    "            scale = ss.bernoulli.rvs(0.5)*2 - 1\n",
    "        else:\n",
    "            scale = ss.bernoulli.rvs(0.5, size=rvs.shape)*2 - 1\n",
    "        return rvs*scale\n",
    "    \n",
    "    def cdf()"
   ]
  },
  {
   "cell_type": "code",
   "execution_count": 39,
   "metadata": {
    "collapsed": true
   },
   "outputs": [],
   "source": [
    "d = dbeta(1,2)"
   ]
  },
  {
   "cell_type": "code",
   "execution_count": 43,
   "metadata": {
    "collapsed": false
   },
   "outputs": [
    {
     "data": {
      "text/plain": [
       "array([[-0.24035856, -0.10971691],\n",
       "       [ 0.89497979,  0.15781412],\n",
       "       [ 0.48657566, -0.00671175],\n",
       "       [ 0.38191796, -0.2581871 ],\n",
       "       [ 0.51511362,  0.54795441],\n",
       "       [-0.01967323, -0.68327563],\n",
       "       [-0.28496144,  0.57757288],\n",
       "       [ 0.13952198,  0.72816153],\n",
       "       [ 0.50954176, -0.49223973],\n",
       "       [-0.18198242,  0.15635716]])"
      ]
     },
     "execution_count": 43,
     "metadata": {},
     "output_type": "execute_result"
    }
   ],
   "source": [
    "d.rvs((10,2))"
   ]
  },
  {
   "cell_type": "code",
   "execution_count": null,
   "metadata": {
    "collapsed": true
   },
   "outputs": [],
   "source": []
  }
 ],
 "metadata": {
  "kernelspec": {
   "display_name": "Python 3",
   "language": "python",
   "name": "python3"
  },
  "language_info": {
   "codemirror_mode": {
    "name": "ipython",
    "version": 3
   },
   "file_extension": ".py",
   "mimetype": "text/x-python",
   "name": "python",
   "nbconvert_exporter": "python",
   "pygments_lexer": "ipython3",
   "version": "3.4.3"
  }
 },
 "nbformat": 4,
 "nbformat_minor": 0
}

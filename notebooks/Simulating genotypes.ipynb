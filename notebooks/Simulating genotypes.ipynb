{
 "cells": [
  {
   "cell_type": "markdown",
   "metadata": {},
   "source": [
    "# Simulating genotypes\n",
    "\n",
    "I spoke with Brielin at ASHG. He acknowledged that hapgen2 doesn't work well. In particular, it produces really long haplotypes due to the way it recombines things. I will try to go back to generating genotypes using a MVN to binomial approach. There are a few difficulties to this approach:\n",
    "\n",
    "1. Generating a variable from $N \\left( 0, \\Sigma \\right)$ requires computing a decomposition of $\\Sigma = \\Sigma^\\frac{1}{2} {\\Sigma^\\frac{1}{2}}^T $. Pretty much all the approaches to do this take $O \\left( M^3 \\right)$ time.\n",
    "1. Due to numerical approximations, $\\Sigma$ is often not positive definite. This prevents us from taking the root directly.\n",
    "1. Depending upon how we massage $\\Sigma$, we may end up with very large negative eigenvalues."
   ]
  },
  {
   "cell_type": "markdown",
   "metadata": {},
   "source": [
    "# Approach\n",
    "\n",
    "\n",
    "## Idea 1\n",
    "\n",
    "1. Find the top $K$ eigenvalues/eigenvectors, where top refers to positive eigenvalues with greatest magnitude. $ \\Sigma \\approx V_K \\Lambda_K V_K^T $. These eigenvectors account for $ \\sum_k \\lambda_k / M $ of the variance.\n",
    "1. Simulate $Z_K \\sim N \\left( 0, I_K \\right)$ and $Z_M \\sim N \\left( 0, \\frac{ M - \\sum_k \\lambda_k } { M } I_M \\right) $\n",
    "1. $ Z = V_K \\lambda_K^\\frac{1}{2} Z_K + Z_M $\n",
    "\n",
    "### Drawbacks:\n",
    "\n",
    "This is basically upweighting variance of SNPs with large loadings. I don't think this is producing $Z$ with variance approximately $S$. While the total variance remains the same, it isn't giving a realistic covariance structure. It's simply promoting the largest LD blocks, rather than making local covariance look good across the board."
   ]
  },
  {
   "cell_type": "code",
   "execution_count": 11,
   "metadata": {
    "collapsed": true
   },
   "outputs": [],
   "source": [
    "import numpy as np\n",
    "import numpy.random as nr\n",
    "import numpy.linalg as nl"
   ]
  },
  {
   "cell_type": "code",
   "execution_count": 15,
   "metadata": {
    "collapsed": false
   },
   "outputs": [],
   "source": [
    "import matplotlib.pyplot as plt\n",
    "%matplotlib inline"
   ]
  },
  {
   "cell_type": "code",
   "execution_count": 4,
   "metadata": {
    "collapsed": true
   },
   "outputs": [],
   "source": [
    "def fromfile_tril(*args, **kwargs):\n",
    "    \"\"\"Read a symmetric matrix stored as just the lower triangular part.\n",
    "\n",
    "    For an MxM matrix, the lower triangular part takes up just N=M*(M+1)$\n",
    "    instead of M^2 bytes. Reversing this formula using the quadratic equ$\n",
    "    M=(sqrt(1+8N)-1)/2. This is simply a wrapper around numpy.fromfile.\n",
    "    \"\"\"\n",
    "    X = np.fromfile(*args, **kwargs)\n",
    "\n",
    "    N = len(X)\n",
    "    M = (np.sqrt(1+8*N)-1)/2\n",
    "    if int(M) != M:\n",
    "        raise ValueError('Length of matrix not of form M*(M+1)/2')\n",
    "    M = int(M)\n",
    "\n",
    "    Y = np.empty((M,M), X.dtype)\n",
    "    indices = np.tril_indices(M)\n",
    "\n",
    "    Y[indices] = Y[indices[::-1]] = X\n",
    "\n",
    "    return(Y)"
   ]
  },
  {
   "cell_type": "code",
   "execution_count": 45,
   "metadata": {
    "collapsed": true
   },
   "outputs": [],
   "source": [
    "S = fromfile_tril('../common/ld/eas.22.ld.bin')"
   ]
  },
  {
   "cell_type": "code",
   "execution_count": 8,
   "metadata": {
    "collapsed": true
   },
   "outputs": [],
   "source": [
    "M = len(S)\n",
    "K = 100"
   ]
  },
  {
   "cell_type": "code",
   "execution_count": 18,
   "metadata": {
    "collapsed": true
   },
   "outputs": [],
   "source": [
    "from scipy.sparse.linalg import eigsh"
   ]
  },
  {
   "cell_type": "code",
   "execution_count": 19,
   "metadata": {
    "collapsed": true
   },
   "outputs": [],
   "source": [
    "LK, VK = eigsh(S, K, which='LA')"
   ]
  },
  {
   "cell_type": "code",
   "execution_count": 20,
   "metadata": {
    "collapsed": true
   },
   "outputs": [],
   "source": [
    "SK = VK.dot(LK[:,None]*VK.T) + np.identity(M)*((M-LK.sum())/M)"
   ]
  },
  {
   "cell_type": "code",
   "execution_count": 21,
   "metadata": {
    "collapsed": false
   },
   "outputs": [
    {
     "data": {
      "text/plain": [
       "[<matplotlib.lines.Line2D at 0x291b985e160>]"
      ]
     },
     "execution_count": 21,
     "metadata": {},
     "output_type": "execute_result"
    },
    {
     "data": {
      "image/png": "[encoded data removed]",
      "text/plain": [
       "<matplotlib.figure.Figure at 0x291b965a668>"
      ]
     },
     "metadata": {},
     "output_type": "display_data"
    }
   ],
   "source": [
    "plt.plot(np.diag(SK))"
   ]
  },
  {
   "cell_type": "markdown",
   "metadata": {},
   "source": [
    "The intuition appears correct. This doesn't really do the job."
   ]
  },
  {
   "cell_type": "markdown",
   "metadata": {},
   "source": [
    "## Idea 1b\n",
    "\n",
    "Keep top 10 eigvals, set the rest to $\\frac{M-\\sum_k \\lambda_k}{M-K}$."
   ]
  },
  {
   "cell_type": "code",
   "execution_count": 6,
   "metadata": {
    "collapsed": true
   },
   "outputs": [],
   "source": [
    "L, V = nl.eigh(S)"
   ]
  },
  {
   "cell_type": "code",
   "execution_count": 23,
   "metadata": {
    "collapsed": false
   },
   "outputs": [],
   "source": [
    "L[:-K] = (M - L[-K:].sum()) / (M-K)"
   ]
  },
  {
   "cell_type": "code",
   "execution_count": 24,
   "metadata": {
    "collapsed": false
   },
   "outputs": [],
   "source": [
    "Sq = V.dot(L[:,None]*V.T)"
   ]
  },
  {
   "cell_type": "code",
   "execution_count": 26,
   "metadata": {
    "collapsed": false
   },
   "outputs": [
    {
     "data": {
      "text/plain": [
       "(2087.0, 2087.0, 2087.0)"
      ]
     },
     "execution_count": 26,
     "metadata": {},
     "output_type": "execute_result"
    }
   ],
   "source": [
    "np.trace(S), np.trace(SK), np.trace(Sq)"
   ]
  },
  {
   "cell_type": "code",
   "execution_count": 25,
   "metadata": {
    "collapsed": false
   },
   "outputs": [
    {
     "data": {
      "text/plain": [
       "<matplotlib.collections.PathCollection at 0x291b99315f8>"
      ]
     },
     "execution_count": 25,
     "metadata": {},
     "output_type": "execute_result"
    },
    {
     "data": {
      "image/png": "[encoded data removed]",
      "text/plain": [
       "<matplotlib.figure.Figure at 0x291b9899358>"
      ]
     },
     "metadata": {},
     "output_type": "display_data"
    }
   ],
   "source": [
    "plt.scatter(np.diag(SK), np.diag(Sq))"
   ]
  },
  {
   "cell_type": "markdown",
   "metadata": {},
   "source": [
    "## Idea 2: Banding the matrix"
   ]
  },
  {
   "cell_type": "code",
   "execution_count": 46,
   "metadata": {
    "collapsed": false
   },
   "outputs": [],
   "source": [
    "Sb = S.copy()\n",
    "Sb[np.tril_indices_from(Sb, -100)] = 0"
   ]
  },
  {
   "cell_type": "code",
   "execution_count": 42,
   "metadata": {
    "collapsed": false
   },
   "outputs": [],
   "source": [
    "Lb, Vb = nl.eigh(Sb)"
   ]
  },
  {
   "cell_type": "code",
   "execution_count": 48,
   "metadata": {
    "collapsed": false
   },
   "outputs": [
    {
     "data": {
      "text/plain": [
       "(-0.53362217850279137, 0.53362217850279137)"
      ]
     },
     "execution_count": 48,
     "metadata": {},
     "output_type": "execute_result"
    }
   ],
   "source": [
    "np.min(Sb - Sb.T), np.max(Sb - Sb.T)"
   ]
  },
  {
   "cell_type": "code",
   "execution_count": 63,
   "metadata": {
    "collapsed": false,
    "scrolled": true
   },
   "outputs": [
    {
     "data": {
      "text/plain": [
       "(627268, 323785)"
      ]
     },
     "execution_count": 63,
     "metadata": {},
     "output_type": "execute_result"
    }
   ],
   "source": [
    "np.argmax(np.triu(Sb-Sb.T)), np.argmax(np.triu(Sb.T-Sb))"
   ]
  },
  {
   "cell_type": "code",
   "execution_count": 64,
   "metadata": {
    "collapsed": false
   },
   "outputs": [
    {
     "data": {
      "text/plain": [
       "(300, 1168)"
      ]
     },
     "execution_count": 64,
     "metadata": {},
     "output_type": "execute_result"
    }
   ],
   "source": [
    "np.unravel_index(627268, Sb.shape)"
   ]
  },
  {
   "cell_type": "code",
   "execution_count": 65,
   "metadata": {
    "collapsed": false
   },
   "outputs": [
    {
     "data": {
      "text/plain": [
       "(155, 300)"
      ]
     },
     "execution_count": 65,
     "metadata": {},
     "output_type": "execute_result"
    }
   ],
   "source": [
    "np.unravel_index(323785, Sb.shape)"
   ]
  },
  {
   "cell_type": "code",
   "execution_count": 67,
   "metadata": {
    "collapsed": false
   },
   "outputs": [
    {
     "data": {
      "text/plain": [
       "-0.23319126074118648"
      ]
     },
     "execution_count": 67,
     "metadata": {},
     "output_type": "execute_result"
    }
   ],
   "source": [
    "Sb[155,300]"
   ]
  },
  {
   "cell_type": "code",
   "execution_count": null,
   "metadata": {
    "collapsed": true
   },
   "outputs": [],
   "source": []
  }
 ],
 "metadata": {
  "anaconda-cloud": {},
  "kernelspec": {
   "display_name": "Python [default]",
   "language": "python",
   "name": "python3"
  },
  "language_info": {
   "codemirror_mode": {
    "name": "ipython",
    "version": 3
   },
   "file_extension": ".py",
   "mimetype": "text/x-python",
   "name": "python",
   "nbconvert_exporter": "python",
   "pygments_lexer": "ipython3",
   "version": "3.5.2"
  }
 },
 "nbformat": 4,
 "nbformat_minor": 1
}

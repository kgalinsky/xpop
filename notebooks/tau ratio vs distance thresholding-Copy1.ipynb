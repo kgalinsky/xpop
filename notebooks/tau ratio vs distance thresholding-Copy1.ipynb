{
 "cells": [
  {
   "cell_type": "markdown",
   "metadata": {},
   "source": [
    "$$\n",
    "\\newcommand{\\Bin}{\\operatorname{Bin}}\n",
    "\\newcommand{\\Var}{\\operatorname{Var}}\n",
    "\\newcommand{\\Cov}{\\operatorname{Cov}}\n",
    "\\newcommand{\\Cor}{\\operatorname{Cor}}\n",
    "\\newcommand{\\E}{\\operatorname{E}}\n",
    "\\newcommand{\\diag}{\\operatorname{diag}}\n",
    "\\newcommand{\\tr}{\\operatorname{tr}}\n",
    "$$"
   ]
  },
  {
   "cell_type": "markdown",
   "metadata": {},
   "source": [
    "We know that increasing $lambda$ in $\\Sigma^* = \\left( \\Sigma + \\lambda I \\right) / \\left( 1 + \\lambda \\right)$ makes the $\\tau$-ratio go to 1. This is saying, in effect, that less LD causes this effect to go to 1. This also explains our observations that phase 2 simulations do not align with phase 1c. By looking at the summation formula and working in from the off-diagonal corners of $\\Sigma$, we can calculate the $\\tau$ ratio for every distance.\n",
    "\n",
    "$$\n",
    "\\tau \\left(\n",
    " S^{\\left(1\\right)}, S^{\\left(2\\right)}\n",
    "\\right) =\n",
    "\\frac{\n",
    " \\sum_{i,j}{\n",
    "  S^{\\left(1\\right)}_{ij} S^{\\left(2\\right)}_{ij}\n",
    " }\n",
    "}{\n",
    " \\sqrt{\n",
    "  \\sum_{i,j}{\n",
    "   S^{\\left(1\\right)}_{ij} S^{\\left(1\\right)}_{ij}\n",
    "  }\n",
    "  \\sum_{i,j}{\n",
    "   S^{\\left(2\\right)}_{ij} S^{\\left(2\\right)}_{ij}\n",
    "  }\n",
    " }\n",
    "}\n",
    "$$"
   ]
  },
  {
   "cell_type": "code",
   "execution_count": 1,
   "metadata": {
    "collapsed": true
   },
   "outputs": [],
   "source": [
    "%run library.ipynb"
   ]
  },
  {
   "cell_type": "code",
   "execution_count": 2,
   "metadata": {
    "collapsed": true
   },
   "outputs": [],
   "source": [
    "pops = ['eas', 'eur']\n",
    "Ns = [4502, 57880]\n",
    "Sigmas = np.array([ fromfile_tril('../common/ld/22.{}.ld.bin'.format(pop)) for pop in pops ])"
   ]
  },
  {
   "cell_type": "code",
   "execution_count": 3,
   "metadata": {
    "collapsed": false
   },
   "outputs": [],
   "source": [
    "bim = pd.read_table(\n",
    "    '../common/bfile/22.bim',\n",
    "    delim_whitespace=True,\n",
    "    names=['CHR', 'SNP', 'MORG', 'POS', 'A1', 'A2']\n",
    ")\n",
    "pos  = bim.POS.values\n",
    "morg = bim.MORG.values"
   ]
  },
  {
   "cell_type": "code",
   "execution_count": 4,
   "metadata": {
    "collapsed": false
   },
   "outputs": [],
   "source": [
    "M = len(pos)"
   ]
  },
  {
   "cell_type": "code",
   "execution_count": 5,
   "metadata": {
    "collapsed": true
   },
   "outputs": [],
   "source": [
    "dist = np.abs(pos[:,None] - pos[None,:])"
   ]
  },
  {
   "cell_type": "code",
   "execution_count": 6,
   "metadata": {
    "collapsed": false
   },
   "outputs": [],
   "source": [
    "Mt = 500\n",
    "typed = nr.choice(M, Mt, replace=False)"
   ]
  },
  {
   "cell_type": "code",
   "execution_count": 7,
   "metadata": {
    "collapsed": true
   },
   "outputs": [],
   "source": [
    "tau_ratio = tau_ratio_distance(Sigmas, typed, dist)"
   ]
  },
  {
   "cell_type": "code",
   "execution_count": 8,
   "metadata": {
    "collapsed": true
   },
   "outputs": [],
   "source": [
    "def adjust_r2_ldsc(S2, N):\n",
    "    return(S2 - (1-S2)/(N-1))"
   ]
  },
  {
   "cell_type": "code",
   "execution_count": 9,
   "metadata": {
    "collapsed": true
   },
   "outputs": [],
   "source": [
    "Sigma2s_ldsc = np.array([adjust_r2_ldsc(S**2, N) for S, N in zip(Sigmas, Ns)])"
   ]
  },
  {
   "cell_type": "code",
   "execution_count": 10,
   "metadata": {
    "collapsed": true
   },
   "outputs": [],
   "source": [
    "tau_ratio_ldsc = tau_ratio_distance(Sigmas, typed, dist, Sigma2s_ldsc)"
   ]
  },
  {
   "cell_type": "code",
   "execution_count": 11,
   "metadata": {
    "collapsed": true
   },
   "outputs": [],
   "source": [
    "def adjust_r_blimp(Sigma, morg, N, Ne=10e3, cutoff=1e-8):\n",
    "    morg_delta = np.abs(morg[:,None] - morg[None,:])\n",
    "    shrinkage = np.exp(-(4*Ne*morg_delta)/(2*N))\n",
    "    shrinkage[shrinkage < cutoff] = 0\n",
    "    \n",
    "    S = Sigma * shrinkage\n",
    "    \n",
    "    theta = (1./np.arange(1,N*2)).sum()**(-1)\n",
    "    theta = theta / (2*N + theta)\n",
    "    \n",
    "    M = Sigma.shape[0]\n",
    "    I = np.identity(M)\n",
    "    \n",
    "    return(((1-theta)**2) * S + theta/2 * (1 - theta/2) * I)"
   ]
  },
  {
   "cell_type": "code",
   "execution_count": 12,
   "metadata": {
    "collapsed": true
   },
   "outputs": [],
   "source": [
    "Sigmas_blimp = np.array([adjust_r_blimp(S, morg/100, N) for S, N in zip(Sigmas, Ns)])"
   ]
  },
  {
   "cell_type": "code",
   "execution_count": 13,
   "metadata": {
    "collapsed": true
   },
   "outputs": [],
   "source": [
    "tau_ratio_blimp = tau_ratio_distance(Sigmas_blimp, typed, dist)"
   ]
  },
  {
   "cell_type": "code",
   "execution_count": 14,
   "metadata": {
    "collapsed": true
   },
   "outputs": [],
   "source": [
    "tau_ratio_blimp_ldsc = tau_ratio_distance(Sigmas_blimp, typed, dist, Sigma2s_ldsc)"
   ]
  },
  {
   "cell_type": "code",
   "execution_count": 15,
   "metadata": {
    "collapsed": false,
    "scrolled": true
   },
   "outputs": [
    {
     "data": {
      "image/png": "[encoded data removed]",
      "text/plain": [
       "<matplotlib.figure.Figure at 0x1aec8be79e8>"
      ]
     },
     "metadata": {},
     "output_type": "display_data"
    }
   ],
   "source": [
    "#fig = plt.figure()\n",
    "#ax = plt.gca()\n",
    "\n",
    "fig, ax = plt.subplots(figsize=(8.63, 4.76)) \n",
    "\n",
    "tau_ratio.plot(x='dist', y='ratio', logx=True, ax=ax, color='green')\n",
    "tau_ratio_ldsc.plot(x='dist', y='ratio', logx=True, ax=ax, color='red')\n",
    "#tau_ratio_blimp.plot(x='dist', y='ratio', logx=True, ax=ax, color='blue')\n",
    "#tau_ratio_blimp_ldsc.plot(x='dist', y='ratio', logx=True, ax=ax, color='purple')\n",
    "\n",
    "legend = plt.legend(loc='lower left')\n",
    "labels = legend.get_texts()\n",
    "labels[0].set_text('No correction')\n",
    "labels[1].set_text(r'LDSC $r^2$')\n",
    "#labels[2].set_text(r'BLIMP $r$')\n",
    "#labels[3].set_text(r'BLIMP $r$ & LDSC $r^2$')\n",
    "\n",
    "ax.set_xlabel('Distance threshold (bp)', fontsize=12)\n",
    "ax.set_ylabel(r'$\\rho_{g,\\tau} / \\rho_b$', fontsize=16)\n",
    "ax.set_ylim(0.5, 1.05)\n",
    "\n",
    "plt.axhline(y=0.85, ls='--', color='grey')\n",
    "\n",
    "ax.get_yaxis().set_tick_params(which='both', direction='out', right=False)\n",
    "ax.get_xaxis().set_tick_params(which='both', direction='out', top=False)\n",
    "\n",
    "plt.tight_layout()\n",
    "\n",
    "#plt.show()\n",
    "plt.savefig('distance.png', format='png', dpi=100)"
   ]
  }
 ],
 "metadata": {
  "anaconda-cloud": {},
  "kernelspec": {
   "display_name": "Python [default]",
   "language": "python",
   "name": "python3"
  },
  "language_info": {
   "codemirror_mode": {
    "name": "ipython",
    "version": 3
   },
   "file_extension": ".py",
   "mimetype": "text/x-python",
   "name": "python",
   "nbconvert_exporter": "python",
   "pygments_lexer": "ipython3",
   "version": "3.5.2"
  }
 },
 "nbformat": 4,
 "nbformat_minor": 1
}
